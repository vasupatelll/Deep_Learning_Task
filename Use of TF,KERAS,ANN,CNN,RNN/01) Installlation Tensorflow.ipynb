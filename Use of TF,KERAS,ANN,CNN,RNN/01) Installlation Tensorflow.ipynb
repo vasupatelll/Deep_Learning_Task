{
 "cells": [
  {
   "cell_type": "code",
   "execution_count": 1,
   "id": "48d9cb54",
   "metadata": {},
   "outputs": [],
   "source": [
    "#!pip install tensorflow-gpu"
   ]
  },
  {
   "cell_type": "code",
   "execution_count": 1,
   "id": "9d46a774",
   "metadata": {},
   "outputs": [],
   "source": [
    "import tensorflow as tf\n",
    "import numpy as np\n",
    "import pandas as pd"
   ]
  },
  {
   "cell_type": "code",
   "execution_count": null,
   "id": "1e6e21d9",
   "metadata": {},
   "outputs": [],
   "source": [
    "#constant:\n",
    "#tf.constant()"
   ]
  },
  {
   "cell_type": "code",
   "execution_count": null,
   "id": "6e5ef74b",
   "metadata": {},
   "outputs": [],
   "source": [
    "a=tf.constant(10)\n",
    "a\n"
   ]
  },
  {
   "cell_type": "code",
   "execution_count": null,
   "id": "53c6eab2",
   "metadata": {},
   "outputs": [],
   "source": [
    "b=tf.constant(10.2)\n",
    "b"
   ]
  },
  {
   "cell_type": "code",
   "execution_count": null,
   "id": "c33707a4",
   "metadata": {},
   "outputs": [],
   "source": [
    "c=tf.constant(True)\n",
    "c"
   ]
  },
  {
   "cell_type": "code",
   "execution_count": null,
   "id": "18fa3faa",
   "metadata": {},
   "outputs": [],
   "source": [
    "np_array = tf.constant(np.array([1,2,3,4,5]))\n",
    "np_array"
   ]
  },
  {
   "cell_type": "code",
   "execution_count": null,
   "id": "2e2ecb5a",
   "metadata": {},
   "outputs": [],
   "source": [
    "oneD_array = tf.constant([1,2,3,4,5])\n",
    "oneD_array"
   ]
  },
  {
   "cell_type": "code",
   "execution_count": null,
   "id": "6a7412dc",
   "metadata": {},
   "outputs": [],
   "source": [
    "t_2D = tf.constant([[1,2],[3,4]])\n",
    "t_2D"
   ]
  },
  {
   "cell_type": "code",
   "execution_count": null,
   "id": "f8a9826c",
   "metadata": {},
   "outputs": [],
   "source": [
    "np_array = tf.constant([1,2,3,4,],shape=(2,2),dtype=\"float32\")\n",
    "np_array"
   ]
  },
  {
   "cell_type": "code",
   "execution_count": null,
   "id": "da052648",
   "metadata": {},
   "outputs": [],
   "source": [
    "nt_3D_t = tf.constant([[[1,2],[2,3],[3,4]]],dtype=\"float32\")\n",
    "np_array"
   ]
  },
  {
   "cell_type": "code",
   "execution_count": null,
   "id": "9648749a",
   "metadata": {},
   "outputs": [],
   "source": []
  },
  {
   "cell_type": "code",
   "execution_count": null,
   "id": "6992ca78",
   "metadata": {},
   "outputs": [],
   "source": []
  },
  {
   "cell_type": "code",
   "execution_count": null,
   "id": "a5de4582",
   "metadata": {},
   "outputs": [],
   "source": [
    "#variable \n",
    "tf.variable()"
   ]
  },
  {
   "cell_type": "code",
   "execution_count": null,
   "id": "b165d5bc",
   "metadata": {},
   "outputs": [],
   "source": [
    "#placeholder:\n",
    "tf.placeholder()"
   ]
  },
  {
   "cell_type": "code",
   "execution_count": null,
   "id": "5c0f8393",
   "metadata": {},
   "outputs": [],
   "source": [
    "#sparseTensor:\n",
    "tf.SparseTensor()"
   ]
  },
  {
   "cell_type": "code",
   "execution_count": null,
   "id": "d4416d27",
   "metadata": {},
   "outputs": [],
   "source": []
  },
  {
   "cell_type": "code",
   "execution_count": null,
   "id": "13a9ef15",
   "metadata": {},
   "outputs": [],
   "source": []
  },
  {
   "cell_type": "code",
   "execution_count": null,
   "id": "6a3e0749",
   "metadata": {},
   "outputs": [],
   "source": []
  },
  {
   "cell_type": "code",
   "execution_count": null,
   "id": "5a9c1a74",
   "metadata": {},
   "outputs": [],
   "source": []
  }
 ],
 "metadata": {
  "kernelspec": {
   "display_name": "Python 3 (ipykernel)",
   "language": "python",
   "name": "python3"
  },
  "language_info": {
   "codemirror_mode": {
    "name": "ipython",
    "version": 3
   },
   "file_extension": ".py",
   "mimetype": "text/x-python",
   "name": "python",
   "nbconvert_exporter": "python",
   "pygments_lexer": "ipython3",
   "version": "3.9.12"
  }
 },
 "nbformat": 4,
 "nbformat_minor": 5
}
