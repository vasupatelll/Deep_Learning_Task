{
 "cells": [
  {
   "cell_type": "markdown",
   "metadata": {
    "id": "OalTv01lZAcA"
   },
   "source": [
    "## **Imports**"
   ]
  },
  {
   "cell_type": "code",
   "execution_count": 8,
   "metadata": {
    "id": "Xx1hsgvW7SIl"
   },
   "outputs": [],
   "source": [
    "from google.colab import drive\n",
    "import tensorflow as tf\n",
    "import numpy as np\n",
    "import matplotlib.pyplot as plt\n",
    "from keras.datasets import mnist\n",
    "import numpy as np\n",
    "from numpy.random.mtrand import randint\n",
    "from tensorflow import keras\n",
    "import os"
   ]
  },
  {
   "cell_type": "code",
   "execution_count": 9,
   "metadata": {
    "id": "DiYS9YOB5btV"
   },
   "outputs": [],
   "source": [
    "cur_path = os.getcwd()"
   ]
  },
  {
   "cell_type": "code",
   "execution_count": 10,
   "metadata": {
    "colab": {
     "base_uri": "https://localhost:8080/",
     "height": 36
    },
    "id": "SkBlcvIo52Mv",
    "outputId": "07a13d51-8b7d-44b4-e850-83e394388d08"
   },
   "outputs": [
    {
     "data": {
      "application/vnd.google.colaboratory.intrinsic+json": {
       "type": "string"
      },
      "text/plain": [
       "'/content'"
      ]
     },
     "execution_count": 10,
     "metadata": {},
     "output_type": "execute_result"
    }
   ],
   "source": [
    "cur_path"
   ]
  },
  {
   "cell_type": "markdown",
   "metadata": {
    "id": "fo1Wnd8OY9Do"
   },
   "source": [
    "**Loading data and sanity checking. We make use of the “built-in” MNIST data in Tensorflow**"
   ]
  },
  {
   "cell_type": "code",
   "execution_count": 11,
   "metadata": {
    "id": "Liuq2eDZ5ipo"
   },
   "outputs": [],
   "source": [
    "os.chdir(\"/content/drive/MyDrive/Deep Learning Task/Linear Model for MNIST\")"
   ]
  },
  {
   "cell_type": "code",
   "execution_count": 12,
   "metadata": {
    "colab": {
     "base_uri": "https://localhost:8080/",
     "height": 36
    },
    "id": "3IT2Xe9B6Gow",
    "outputId": "1fc4b138-af79-4b5c-9cf3-6b536a093a86"
   },
   "outputs": [
    {
     "data": {
      "application/vnd.google.colaboratory.intrinsic+json": {
       "type": "string"
      },
      "text/plain": [
       "'/content/drive/MyDrive/Deep Learning Task/Linear Model for MNIST'"
      ]
     },
     "execution_count": 12,
     "metadata": {},
     "output_type": "execute_result"
    }
   ],
   "source": [
    "os.getcwd()"
   ]
  },
  {
   "cell_type": "code",
   "execution_count": 13,
   "metadata": {
    "id": "XYxyT8ISDKcb"
   },
   "outputs": [],
   "source": [
    "from datasets import MNISTDataset\n",
    "mnist = tf.keras.datasets.mnist"
   ]
  },
  {
   "cell_type": "code",
   "execution_count": 14,
   "metadata": {
    "colab": {
     "base_uri": "https://localhost:8080/"
    },
    "id": "lGFMxI4FEtPk",
    "outputId": "4c9e04c1-381b-4b1c-fd94-dabd1265f2b5"
   },
   "outputs": [
    {
     "name": "stdout",
     "output_type": "stream",
     "text": [
      "Downloading data from https://storage.googleapis.com/tensorflow/tf-keras-datasets/mnist.npz\n",
      "11490434/11490434 [==============================] - 0s 0us/step\n"
     ]
    }
   ],
   "source": [
    "(train_images, train_labels), (test_images, test_labels) = mnist.load_data()"
   ]
  },
  {
   "cell_type": "markdown",
   "metadata": {
    "id": "prxdAyJ-aC3R"
   },
   "source": [
    "**We plot the first training image just so we know what we are dealing with, also plotting random index from MNIST**"
   ]
  },
  {
   "cell_type": "code",
   "execution_count": 15,
   "metadata": {
    "colab": {
     "base_uri": "https://localhost:8080/",
     "height": 447
    },
    "id": "jGSTvuNVFiPs",
    "outputId": "6bdf6dfb-8694-4fcd-d88e-d11677b038a1"
   },
   "outputs": [
    {
     "data": {
      "text/plain": [
       "<matplotlib.image.AxesImage at 0x7f29843f8e20>"
      ]
     },
     "execution_count": 15,
     "metadata": {},
     "output_type": "execute_result"
    },
    {
     "data": {
      "image/png": "[encoded data removed]",
      "text/plain": [
       "<Figure size 640x480 with 1 Axes>"
      ]
     },
     "metadata": {},
     "output_type": "display_data"
    }
   ],
   "source": [
    "plt.imshow(train_images[randint(0,10)], cmap=\"Greys_r\")"
   ]
  },
  {
   "cell_type": "markdown",
   "metadata": {
    "id": "KDFKtL4-akr4"
   },
   "source": [
    "**Next, we create a dataset via our simple wrapper, using a batch size of 128. Be aware that the data is originally represented as uint8 in the range [0, 255] but MNISTDataset converts it to float32 in [0,1] by default. Also, labels are converted from uint8 to int32.**"
   ]
  },
  {
   "cell_type": "code",
   "execution_count": 16,
   "metadata": {
    "id": "6rmfvi7uF1tz"
   },
   "outputs": [],
   "source": [
    "data = MNISTDataset(train_images.reshape([-1, 784]), train_labels,\n",
    "                    test_images.reshape([-1, 784]), test_labels,\n",
    "                    batch_size=128)"
   ]
  },
  {
   "cell_type": "markdown",
   "metadata": {
    "id": "TlpLr2ZeasnU"
   },
   "source": [
    "## **Setting up for training**\n",
    "We decide on the number of training steps and the learning rate, and set up our weights to be trained with random initial values (and zero biases)."
   ]
  },
  {
   "cell_type": "code",
   "execution_count": 17,
   "metadata": {
    "id": "jzFQNFi5H3Wh"
   },
   "outputs": [],
   "source": [
    "train_steps = 1000\n",
    "learning_rate = 0.1\n",
    "\n",
    "W = tf.Variable(np.zeros([784, 10]).astype(np.float32))\n",
    "b = tf.Variable(np.zeros(10, dtype=np.float32))"
   ]
  },
  {
   "cell_type": "markdown",
   "metadata": {
    "id": "4wJg5ZmVa46G"
   },
   "source": [
    "## **Training**\n",
    "The main training loop, using cross-entropy as a loss function. We regularly print the current loss and accuracy to check progress.\n",
    "\n",
    "Note that we compute the “logits”, which is the common name for pre-softmax values. They can be interpreted as log unnormalized probabilities and represent a “score” for each class.\n",
    "\n",
    "In computing the accuracy, notice that we have to fiddle around with dtypes quite a bit — this is unfortunately common in Tensorflow."
   ]
  },
  {
   "cell_type": "code",
   "execution_count": 18,
   "metadata": {
    "colab": {
     "base_uri": "https://localhost:8080/"
    },
    "id": "Egf7gUOvLV3a",
    "outputId": "c667dcdb-022a-4d58-8a61-2fbf36075167"
   },
   "outputs": [
    {
     "name": "stdout",
     "output_type": "stream",
     "text": [
      "Loss: 2.3025851249694824 Accuracy: 0.109375\n",
      "Loss: 0.5966255068778992 Accuracy: 0.8984375\n",
      "Loss: 0.43408721685409546 Accuracy: 0.90625\n",
      "Loss: 0.37587112188339233 Accuracy: 0.90625\n",
      "Loss: 0.5101608037948608 Accuracy: 0.875\n",
      "Starting new epoch...\n",
      "Loss: 0.42135196924209595 Accuracy: 0.8671875\n",
      "Loss: 0.4758313298225403 Accuracy: 0.8828125\n",
      "Loss: 0.42604976892471313 Accuracy: 0.8828125\n",
      "Loss: 0.4140019416809082 Accuracy: 0.8671875\n",
      "Loss: 0.3390190601348877 Accuracy: 0.8984375\n",
      "Starting new epoch...\n"
     ]
    }
   ],
   "source": [
    "for step in range(train_steps):\n",
    "    img_batch, lbl_batch = data.next_batch()\n",
    "    with tf.GradientTape() as tape:\n",
    "        logits = tf.matmul(img_batch, W) + b\n",
    "        xent = tf.reduce_mean(tf.nn.sparse_softmax_cross_entropy_with_logits(\n",
    "            logits=logits, labels=lbl_batch))\n",
    "\n",
    "    grads = tape.gradient(xent, [W, b])\n",
    "    W.assign_sub(learning_rate * grads[0])\n",
    "    b.assign_sub(learning_rate * grads[1])\n",
    "\n",
    "    if not step % 100:\n",
    "        preds = tf.argmax(logits, axis=1, output_type=tf.int32)\n",
    "        acc = tf.reduce_mean(tf.cast(tf.equal(preds, lbl_batch),\n",
    "                             tf.float32))\n",
    "        print(\"Loss: {} Accuracy: {}\".format(xent, acc))\n"
   ]
  },
  {
   "cell_type": "markdown",
   "metadata": {
    "id": "-rSFSOPBbSk-"
   },
   "source": [
    "## **Predicting/testing**\n",
    "i have use the trained model to predict labels on the test set and check the model’s accuracy"
   ]
  },
  {
   "cell_type": "code",
   "execution_count": 19,
   "metadata": {
    "colab": {
     "base_uri": "https://localhost:8080/"
    },
    "id": "qe24dY4NL_Ek",
    "outputId": "04c28c91-073b-427d-f8a1-5a60a7511616"
   },
   "outputs": [
    {
     "name": "stdout",
     "output_type": "stream",
     "text": [
      "tf.Tensor(0.9074, shape=(), dtype=float32)\n"
     ]
    }
   ],
   "source": [
    "test_preds = tf.argmax(tf.matmul(data.test_data, W) + b,\n",
    "                      axis=1,\n",
    "                      output_type=tf.int32)\n",
    "\n",
    "acc = tf.reduce_mean(tf.cast(tf.equal(test_preds, data.test_labels), tf.float32))\n",
    "\n",
    "print(acc)"
   ]
  }
 ],
 "metadata": {
  "accelerator": "GPU",
  "colab": {
   "gpuType": "T4",
   "provenance": []
  },
  "kernelspec": {
   "display_name": "Python 3 (ipykernel)",
   "language": "python",
   "name": "python3"
  },
  "language_info": {
   "codemirror_mode": {
    "name": "ipython",
    "version": 3
   },
   "file_extension": ".py",
   "mimetype": "text/x-python",
   "name": "python",
   "nbconvert_exporter": "python",
   "pygments_lexer": "ipython3",
   "version": "3.11.1"
  }
 },
 "nbformat": 4,
 "nbformat_minor": 1
}
