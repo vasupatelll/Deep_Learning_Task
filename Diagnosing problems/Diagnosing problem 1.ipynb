{
 "cells": [
  {
   "cell_type": "markdown",
   "id": "2c6a4eda",
   "metadata": {},
   "source": [
    "### Imports"
   ]
  },
  {
   "cell_type": "code",
   "execution_count": 1,
   "id": "df8b6c8f",
   "metadata": {},
   "outputs": [],
   "source": [
    "import tensorflow as tf\n",
    "import numpy as np"
   ]
  },
  {
   "cell_type": "code",
   "execution_count": 2,
   "id": "e5f93565",
   "metadata": {},
   "outputs": [
    {
     "name": "stdout",
     "output_type": "stream",
     "text": [
      "Downloading data from https://storage.googleapis.com/tensorflow/tf-keras-datasets/mnist.npz\n",
      "11490434/11490434 [==============================] - 5s 0us/step\n"
     ]
    }
   ],
   "source": [
    "# get the data\n",
    "(train_images, train_labels), (test_images, test_labels) = tf.keras.datasets.mnist.load_data()"
   ]
  },
  {
   "cell_type": "markdown",
   "id": "ee5b61f2",
   "metadata": {},
   "source": [
    "### Building functions"
   ]
  },
  {
   "cell_type": "code",
   "execution_count": 3,
   "id": "b881c74b",
   "metadata": {},
   "outputs": [],
   "source": [
    "def preprocess_images(images):\n",
    "    return images.reshape(-1, 784).astype(np.float32) / 255\n",
    "\n",
    "\n",
    "def preprocess_labels(labels):\n",
    "    return labels.reshape(-1).astype(np.int32)"
   ]
  },
  {
   "cell_type": "markdown",
   "id": "e820f28e",
   "metadata": {},
   "source": [
    "### Preprocessing"
   ]
  },
  {
   "cell_type": "code",
   "execution_count": 5,
   "id": "9c480598",
   "metadata": {},
   "outputs": [],
   "source": [
    "# Preprocessing train and test data\n",
    "train_images = preprocess_images(train_images)\n",
    "test_images = preprocess_images(test_images)\n",
    "train_labels = preprocess_labels(train_labels)\n",
    "test_labels = preprocess_labels(test_labels)\n",
    "\n",
    "train_data = tf.data.Dataset.from_tensor_slices((train_images, train_labels)).shuffle(60000).batch(128).repeat()\n",
    "#test_data = tf.data.Dataset.from_tensor_slices((test_images, test_labels)).batch(128)"
   ]
  },
  {
   "cell_type": "markdown",
   "id": "d28c52b7",
   "metadata": {},
   "source": [
    "### Defining Model"
   ]
  },
  {
   "cell_type": "code",
   "execution_count": 27,
   "id": "54209e94",
   "metadata": {},
   "outputs": [],
   "source": [
    "# define the model first, from input to output\n",
    "\n",
    "# this is a super deep model, cool!\n",
    "n_units = 100\n",
    "n_layers = 8\n",
    "w_range = 0.4"
   ]
  },
  {
   "cell_type": "code",
   "execution_count": null,
   "id": "504aa42d",
   "metadata": {},
   "outputs": [],
   "source": [
    "# just set up a \"chain\" of hidden layers\n",
    "# model is represented by a list where each element is a layer,\n",
    "# and each layer is in turn a list of the layer variables (w, b)\n",
    "\n",
    "# first layer goes from n_input to n_hidden\n",
    "w_input = tf.Variable(tf.random.uniform([784, n_units], -w_range, w_range),\n",
    "                      name=\"w0\")\n",
    "b_input = tf.Variable(tf.zeros(n_units), name=\"b0\")\n",
    "layers = [[w_input, b_input]]"
   ]
  },
  {
   "cell_type": "code",
   "execution_count": null,
   "id": "d1d18408",
   "metadata": {},
   "outputs": [],
   "source": [
    "# all other hidden layers go from n_hidden to n_hidden\n",
    "for layer in range(n_layers - 1):\n",
    "    w = tf.Variable(tf.random.uniform([n_units, n_units], -w_range, w_range),\n",
    "                    name=\"w\" + str(layer+1))\n",
    "    b = tf.Variable(tf.zeros(n_units), name=\"b\" + str(layer+1))\n",
    "    layers.append([w, b])"
   ]
  },
  {
   "cell_type": "code",
   "execution_count": null,
   "id": "e9112a17",
   "metadata": {},
   "outputs": [],
   "source": [
    "# finally add the output layer\n",
    "w_out = tf.Variable(tf.random.uniform([n_units, 10], -w_range, w_range),\n",
    "                    name=\"wout\")\n",
    "b_out = tf.Variable(tf.zeros(10), name=\"bout\")\n",
    "layers.append([w_out, b_out])\n",
    "\n",
    "# flatten the layers to get a list of variables\n",
    "all_variables = [variable for layer in layers for variable in layer]"
   ]
  },
  {
   "cell_type": "code",
   "execution_count": null,
   "id": "82b960f8",
   "metadata": {},
   "outputs": [],
   "source": [
    "def model_forward(inputs):\n",
    "    x = inputs\n",
    "    for w, b in layers[:-1]:\n",
    "        x = tf.nn.sigmoid(tf.matmul(x, w) + b) \n",
    "        # problem dignoised with using sigmoid rather than using relu. As sigmoid returns value between the range of 0to1. \n",
    "        # Formula of Cross-Entropy Loss Function is ti log(pi) and when the value of softmax is 0 then log return NAN value.\n",
    "        # Before diagnosing relu activation function was applies which retuns the max(0, 1), which means it will return 0\n",
    "        # if there will be negative value \n",
    "        \n",
    "    logits = tf.matmul(x, layers[-1][0]) + layers[-1][1]\n",
    "\n",
    "    return logits"
   ]
  },
  {
   "cell_type": "code",
   "execution_count": 38,
   "id": "b289f381",
   "metadata": {},
   "outputs": [
    {
     "name": "stdout",
     "output_type": "stream",
     "text": [
      "Loss: 2.2973685264587402 Accuracy: 0.140625\n",
      "Loss: 2.3133749961853027 Accuracy: 0.078125\n",
      "Loss: 2.3098978996276855 Accuracy: 0.09375\n",
      "Loss: 2.3052783012390137 Accuracy: 0.0859375\n",
      "Loss: 2.3113157749176025 Accuracy: 0.1328125\n",
      "Loss: 2.2948718070983887 Accuracy: 0.125\n",
      "Loss: 2.3119969367980957 Accuracy: 0.09375\n",
      "Loss: 2.307298183441162 Accuracy: 0.1015625\n",
      "Loss: 2.3248047828674316 Accuracy: 0.1015625\n",
      "Loss: 2.285761594772339 Accuracy: 0.140625\n",
      "Loss: 2.3152990341186523 Accuracy: 0.1015625\n",
      "Loss: 2.300934314727783 Accuracy: 0.1171875\n",
      "Loss: 2.300442695617676 Accuracy: 0.09375\n",
      "Loss: 2.297856330871582 Accuracy: 0.140625\n",
      "Loss: 2.3062071800231934 Accuracy: 0.09375\n",
      "Loss: 2.3084402084350586 Accuracy: 0.078125\n",
      "Loss: 2.3271195888519287 Accuracy: 0.0625\n",
      "Loss: 2.296616315841675 Accuracy: 0.09375\n",
      "Loss: 2.3044378757476807 Accuracy: 0.1328125\n",
      "Loss: 2.303013801574707 Accuracy: 0.109375\n",
      "Loss: 2.3019509315490723 Accuracy: 0.09375\n"
     ]
    }
   ],
   "source": [
    "lr = 0.1\n",
    "train_steps = 2000\n",
    "for step, (img_batch, lbl_batch) in enumerate(train_data):\n",
    "    if step > train_steps:\n",
    "        break\n",
    "\n",
    "    with tf.GradientTape() as tape:\n",
    "        # here we just run all the layers in sequence via a for-loop\n",
    "        logits = model_forward(img_batch)\n",
    "        \n",
    "        #print(logits) \n",
    "        xent = tf.reduce_mean(tf.nn.sparse_softmax_cross_entropy_with_logits(\n",
    "            logits=logits, labels=lbl_batch))\n",
    "\n",
    "    grads = tape.gradient(xent, all_variables)\n",
    "    for grad, var in zip(grads, all_variables):\n",
    "        var.assign_sub(lr*grad)\n",
    "\n",
    "    if not step % 100:\n",
    "        preds = tf.argmax(logits, axis=1, output_type=tf.int32)\n",
    "        acc = tf.reduce_mean(tf.cast(tf.equal(preds, lbl_batch), tf.float32))\n",
    "        print(\"Loss: {} Accuracy: {}\".format(xent, acc))"
   ]
  },
  {
   "cell_type": "markdown",
   "id": "9a40bf0b",
   "metadata": {},
   "source": [
    "### visualizing Test Accuracy"
   ]
  },
  {
   "cell_type": "code",
   "execution_count": 39,
   "id": "205a9a05",
   "metadata": {},
   "outputs": [
    {
     "name": "stdout",
     "output_type": "stream",
     "text": [
      "Final test accuracy: 0.11349999904632568\n"
     ]
    }
   ],
   "source": [
    "test_preds = model_forward(test_images)\n",
    "test_preds = tf.argmax(test_preds, axis=1, output_type=tf.int32)\n",
    "acc = tf.reduce_mean(tf.cast(tf.equal(test_preds, test_labels), tf.float32))\n",
    "print(\"Final test accuracy: {}\".format(acc))"
   ]
  }
 ],
 "metadata": {
  "kernelspec": {
   "display_name": "Python 3 (ipykernel)",
   "language": "python",
   "name": "python3"
  },
  "language_info": {
   "codemirror_mode": {
    "name": "ipython",
    "version": 3
   },
   "file_extension": ".py",
   "mimetype": "text/x-python",
   "name": "python",
   "nbconvert_exporter": "python",
   "pygments_lexer": "ipython3",
   "version": "3.11.1"
  }
 },
 "nbformat": 4,
 "nbformat_minor": 5
}
