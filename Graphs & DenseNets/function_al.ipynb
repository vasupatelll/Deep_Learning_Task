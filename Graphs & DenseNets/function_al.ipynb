{
 "cells": [
  {
   "cell_type": "code",
   "execution_count": 1,
   "metadata": {
    "id": "PT_-eL5YN6u2"
   },
   "outputs": [],
   "source": [
    "import tensorflow as tf\n",
    "import numpy as np\n",
    "import matplotlib.pyplot as plt\n",
    "import time"
   ]
  },
  {
   "cell_type": "code",
   "execution_count": 2,
   "metadata": {
    "id": "aYiKRq_NO5M8"
   },
   "outputs": [
    {
     "name": "stdout",
     "output_type": "stream",
     "text": [
      "[6]\n"
     ]
    },
    {
     "data": {
      "image/png": "[encoded data removed]",
      "text/plain": [
       "<Figure size 640x480 with 1 Axes>"
      ]
     },
     "metadata": {},
     "output_type": "display_data"
    }
   ],
   "source": [
    "(train_images, train_labels), (test_images, test_labels) = tf.keras.datasets.cifar10.load_data()\n",
    "print(train_labels[0])\n",
    "plt.imshow(train_images[0])\n",
    "plt.show()\n",
    "\n",
    "train_data = tf.data.Dataset.from_tensor_slices(\n",
    "    (train_images.astype(np.float32) / 255, train_labels.reshape(-1).astype(np.int32)))\n",
    "train_data = train_data.shuffle(buffer_size=60000).batch(128).repeat()\n",
    "\n",
    "test_data = tf.data.Dataset.from_tensor_slices(\n",
    "    (test_images.astype(np.float32) / 255, test_labels.reshape(-1).astype(np.int32))).batch(128)"
   ]
  },
  {
   "cell_type": "code",
   "execution_count": 3,
   "metadata": {
    "id": "ydaUWqbRPeqM"
   },
   "outputs": [
    {
     "name": "stdout",
     "output_type": "stream",
     "text": [
      "Model: \"inception\"\n",
      "__________________________________________________________________________________________________\n",
      " Layer (type)                   Output Shape         Param #     Connected to                     \n",
      "==================================================================================================\n",
      " input_1 (InputLayer)           [(None, 32, 32, 3)]  0           []                               \n",
      "                                                                                                  \n",
      " conv1_1x1 (Conv2D)             (None, 32, 32, 32)   128         ['input_1[0][0]']                \n",
      "                                                                                                  \n",
      " conv1_3x3 (Conv2D)             (None, 32, 32, 32)   896         ['input_1[0][0]']                \n",
      "                                                                                                  \n",
      " conv1_5x5 (Conv2D)             (None, 32, 32, 32)   2432        ['input_1[0][0]']                \n",
      "                                                                                                  \n",
      " pool1 (MaxPooling2D)           (None, 32, 32, 3)    0           ['input_1[0][0]']                \n",
      "                                                                                                  \n",
      " concatenate (Concatenate)      (None, 32, 32, 99)   0           ['conv1_1x1[0][0]',              \n",
      "                                                                  'conv1_3x3[0][0]',              \n",
      "                                                                  'conv1_5x5[0][0]',              \n",
      "                                                                  'pool1[0][0]']                  \n",
      "                                                                                                  \n",
      " downscale1 (MaxPooling2D)      (None, 16, 16, 99)   0           ['concatenate[0][0]']            \n",
      "                                                                                                  \n",
      " conv2_1x1 (Conv2D)             (None, 16, 16, 64)   6400        ['downscale1[0][0]']             \n",
      "                                                                                                  \n",
      " conv2_3x3 (Conv2D)             (None, 16, 16, 64)   57088       ['downscale1[0][0]']             \n",
      "                                                                                                  \n",
      " conv2_5x5 (Conv2D)             (None, 16, 16, 64)   158464      ['downscale1[0][0]']             \n",
      "                                                                                                  \n",
      " pool2 (MaxPooling2D)           (None, 16, 16, 99)   0           ['downscale1[0][0]']             \n",
      "                                                                                                  \n",
      " concatenate_1 (Concatenate)    (None, 16, 16, 291)  0           ['conv2_1x1[0][0]',              \n",
      "                                                                  'conv2_3x3[0][0]',              \n",
      "                                                                  'conv2_5x5[0][0]',              \n",
      "                                                                  'pool2[0][0]']                  \n",
      "                                                                                                  \n",
      " downscale2 (MaxPooling2D)      (None, 8, 8, 291)    0           ['concatenate_1[0][0]']          \n",
      "                                                                                                  \n",
      " flatten (Flatten)              (None, 18624)        0           ['downscale2[0][0]']             \n",
      "                                                                                                  \n",
      " dense (Dense)                  (None, 10)           186250      ['flatten[0][0]']                \n",
      "                                                                                                  \n",
      "==================================================================================================\n",
      "Total params: 411,658\n",
      "Trainable params: 411,658\n",
      "Non-trainable params: 0\n",
      "__________________________________________________________________________________________________\n",
      "None\n"
     ]
    }
   ],
   "source": [
    "# example: two (basic) inception blocks\n",
    "# TODO: add 1x1 convs ;)\n",
    "inputs = tf.keras.layers.Input((32, 32, 3))\n",
    "\n",
    "\n",
    "conv1_1 = tf.keras.layers.Conv2D(32, 1, activation=tf.nn.relu, padding=\"same\",\n",
    "                                 name=\"conv1_1x1\")(inputs)\n",
    "conv1_3 = tf.keras.layers.Conv2D(32, 3, activation=tf.nn.relu, padding=\"same\",\n",
    "                                 name=\"conv1_3x3\")(inputs)\n",
    "conv1_5 = tf.keras.layers.Conv2D(32, 5, activation=tf.nn.relu, padding=\"same\",\n",
    "                                 name=\"conv1_5x5\")(inputs)\n",
    "pool1 = tf.keras.layers.MaxPool2D(3, 1, padding=\"same\", name=\"pool1\")(inputs)\n",
    "\n",
    "concat1 = tf.keras.layers.concatenate([conv1_1, conv1_3, conv1_5, pool1])\n",
    "downscale1 = tf.keras.layers.MaxPool2D(2, padding=\"same\", name=\"downscale1\")(concat1)\n",
    "\n",
    "\n",
    "conv2_1 = tf.keras.layers.Conv2D(64, 1, activation=tf.nn.relu, padding=\"same\",\n",
    "                                 name=\"conv2_1x1\")(downscale1)\n",
    "conv2_3 = tf.keras.layers.Conv2D(64, 3, activation=tf.nn.relu, padding=\"same\",\n",
    "                                 name=\"conv2_3x3\")(downscale1)\n",
    "conv2_5 = tf.keras.layers.Conv2D(64, 5, activation=tf.nn.relu, padding=\"same\",\n",
    "                                 name=\"conv2_5x5\")(downscale1)\n",
    "pool2 = tf.keras.layers.MaxPool2D(3, 1, padding=\"same\", name=\"pool2\")(downscale1)\n",
    "\n",
    "concat2 = tf.keras.layers.concatenate([conv2_1, conv2_3, conv2_5, pool2])\n",
    "downscale2 = tf.keras.layers.MaxPool2D(2, padding=\"same\", name=\"downscale2\")(concat2)\n",
    "\n",
    "flat = tf.keras.layers.Flatten()(downscale2)\n",
    "out = tf.keras.layers.Dense(10)(flat)\n",
    "\n",
    "model = tf.keras.Model(inputs, out, name=\"inception\")\n",
    "\n",
    "\n",
    "optimizer = tf.optimizers.Adam()\n",
    "\n",
    "loss_fn = tf.losses.SparseCategoricalCrossentropy(from_logits=True)\n",
    "\n",
    "accuracy_metric = tf.metrics.SparseCategoricalAccuracy()\n",
    "\n",
    "# note that functional models are built immediately, assuming we are giving\n",
    "# an input shape\n",
    "print(model.summary())"
   ]
  },
  {
   "cell_type": "code",
   "execution_count": 4,
   "metadata": {
    "id": "sI-63rfoHHXZ"
   },
   "outputs": [],
   "source": [
    "# basic training loops can be done like this\n",
    "model.compile(optimizer=optimizer, loss=loss_fn, metrics=[accuracy_metric])"
   ]
  },
  {
   "cell_type": "code",
   "execution_count": null,
   "metadata": {
    "id": "tE970emYHWNj"
   },
   "outputs": [
    {
     "name": "stdout",
     "output_type": "stream",
     "text": [
      "Epoch 1/2\n",
      "  64/1000 [>.............................] - ETA: 19:58 - loss: 1.9744 - sparse_categorical_accuracy: 0.3151"
     ]
    }
   ],
   "source": [
    "# we could also NOT repeat the train_data set, then one epoch = one pass over the full dataset\n",
    "# fit has many other arguments and we can also pass \"callbacks\" that do other stuff besides training\n",
    "model.fit(train_data, steps_per_epoch=1000, epochs=2, validation_data=test_data)"
   ]
  },
  {
   "cell_type": "code",
   "execution_count": 6,
   "metadata": {
    "id": "UgDgHCyMH4yD"
   },
   "outputs": [
    {
     "name": "stdout",
     "output_type": "stream",
     "text": [
      "79/79 [==============================] - 30s 374ms/step - loss: 0.8352 - sparse_categorical_accuracy: 0.7180\n"
     ]
    },
    {
     "data": {
      "text/plain": [
       "[0.8351954817771912, 0.7179999947547913]"
      ]
     },
     "execution_count": 6,
     "metadata": {},
     "output_type": "execute_result"
    }
   ],
   "source": [
    "# evaluate test loss and metrics\n",
    "model.evaluate(test_data)"
   ]
  },
  {
   "cell_type": "code",
   "execution_count": 7,
   "metadata": {
    "id": "p-3HfTCDL-1t"
   },
   "outputs": [
    {
     "name": "stdout",
     "output_type": "stream",
     "text": [
      "79/79 [==============================] - 29s 359ms/step\n"
     ]
    }
   ],
   "source": [
    "# \"predict\" on new input (i.e. give model outputs)\n",
    "logits_on_test_set = model.predict(test_data)"
   ]
  },
  {
   "cell_type": "code",
   "execution_count": 8,
   "metadata": {
    "id": "RMpZyyTVmUkW"
   },
   "outputs": [
    {
     "data": {
      "text/plain": [
       "array([[-2.7684488 , -6.3045034 , -3.0895321 , ..., -6.3737903 ,\n",
       "         0.92181116, -5.6507554 ],\n",
       "       [ 1.7502916 ,  3.7477288 , -5.264904  , ..., -7.1960416 ,\n",
       "         5.8153086 , -1.1529468 ],\n",
       "       [ 1.1291927 , -1.079447  , -2.077984  , ..., -2.8845577 ,\n",
       "         2.2235956 , -0.5775808 ],\n",
       "       ...,\n",
       "       [-6.9923177 , -9.90496   ,  0.09992064, ..., -0.33632332,\n",
       "        -8.165664  , -9.366446  ],\n",
       "       [-1.3369515 ,  0.51752186, -2.5590818 , ..., -4.81236   ,\n",
       "        -4.623267  , -7.434813  ],\n",
       "       [-5.503056  , -4.014982  , -2.4372644 , ...,  4.477328  ,\n",
       "        -6.4775643 , -4.960121  ]], dtype=float32)"
      ]
     },
     "execution_count": 8,
     "metadata": {},
     "output_type": "execute_result"
    }
   ],
   "source": [
    "logits_on_test_set"
   ]
  },
  {
   "cell_type": "code",
   "execution_count": null,
   "metadata": {
    "id": "eqIPQOG1NlYL"
   },
   "outputs": [],
   "source": [
    "# another example: a residual block\n",
    "inputs = tf.keras.layers.Input((32, 32, 3))\n",
    "\n",
    "initial_conv = tf.keras.layers.Conv2D(32, 5, activation=tf.nn.relu, padding=\"same\")(inputs)\n",
    "\n",
    "conv1_1 = tf.keras.layers.Conv2D(32, 5, activation=tf.nn.relu, padding=\"same\")(initial_conv)\n",
    "conv1_2 = tf.keras.layers.Conv2D(32, 5, padding=\"same\")(conv1_1)\n",
    "\n",
    "out1 = tf.nn.relu(conv1_2 + initial_conv)\n",
    "\n",
    "# another one?\n",
    "# problem: input and output need to have the same size\n",
    "# so we can neither pool nor change the number of filters\n",
    "# if we want do that, we have to add a transformation to the residual (e.g. 1x1 conv)\n",
    "conv2_1 = tf.keras.layers.Conv2D(32, 5, activation=tf.nn.relu, padding=\"same\")(out1)\n",
    "conv2_2 = tf.keras.layers.Conv2D(32, 5, padding=\"same\")(conv2_1)\n",
    "\n",
    "out2 = tf.nn.relu(conv2_2 + out1)\n",
    "\n",
    "\n",
    "# here's an example of that transformation\n",
    "conv3_1 = tf.keras.layers.Conv2D(64, 5, strides=2, activation=tf.nn.relu, padding=\"same\")(out2)\n",
    "conv3_2 = tf.keras.layers.Conv2D(64, 5, padding=\"same\")(conv3_1)\n",
    "\n",
    "shortcut_transform = tf.keras.layers.Conv2D(64, 1, strides=2)(out2)\n",
    "out3 = tf.nn.relu(conv3_2 + shortcut_transform)\n",
    "\n",
    "\n",
    "flat = tf.keras.layers.Flatten()(out3)\n",
    "logits = tf.keras.layers.Dense(10)(flat)\n",
    "\n",
    "model = tf.keras.Model(inputs, logits)\n",
    "\n",
    "\n",
    "optimizer = tf.optimizers.Adam()\n",
    "\n",
    "loss_fn = tf.losses.SparseCategoricalCrossentropy(from_logits=True)\n",
    "\n",
    "train_acc_metric = tf.metrics.SparseCategoricalAccuracy()\n",
    "\n",
    "print(model.summary())\n",
    "\n",
    "\n",
    "# NOTE!!\n",
    "# writing a model like this is not a great idea as the variable names become\n",
    "# very confusing and it's easy to make mistakes.\n",
    "# better to wrap a residual block into a function, e.g. like this\n",
    "def residual_block(inputs, filters):\n",
    "    conv1 = tf.keras.layers.Conv2D(filters, 5, activation=tf.nn.relu, padding=\"same\")(inputs)\n",
    "    conv2 = tf.keras.layers.Conv2D(filters, 5, padding=\"same\")(conv1)\n",
    "\n",
    "    return tf.nn.relu(conv2 + inputs)"
   ]
  },
  {
   "cell_type": "code",
   "execution_count": null,
   "metadata": {
    "id": "Nj1XXIVc8-2T"
   },
   "outputs": [],
   "source": [
    "# stereotypical train-step-with-function-annotation\n",
    "\n",
    "@tf.function\n",
    "def train_step(images, labels):\n",
    "    with tf.GradientTape() as tape:\n",
    "        logits = model(images)\n",
    "        xent = loss_fn(labels, logits)\n",
    "\n",
    "    variables = model.trainable_variables\n",
    "    gradients = tape.gradient(xent, variables)\n",
    "    optimizer.apply_gradients(zip(gradients, variables))\n",
    "\n",
    "    return xent, logits"
   ]
  },
  {
   "cell_type": "code",
   "execution_count": null,
   "metadata": {
    "id": "oTvyCwZrQkcw"
   },
   "outputs": [],
   "source": [
    "train_steps = 2000\n",
    "\n",
    "start = time.time()\n",
    "for step, (img_batch, lbl_batch) in enumerate(train_data):\n",
    "    if step > train_steps:\n",
    "        break\n",
    "\n",
    "    xent, logits = train_step(img_batch, lbl_batch)\n",
    "\n",
    "    if not step % 100:\n",
    "        train_acc_metric(lbl_batch, logits)\n",
    "        acc = train_acc_metric.result()\n",
    "        print(\"Loss: {} Accuracy: {}\".format(xent, acc))\n",
    "        train_acc_metric.reset_states()\n",
    "\n",
    "        stop = time.time()\n",
    "        print(\"took {} seconds\\n\".format(stop-start))\n",
    "        start = time.time()"
   ]
  },
  {
   "cell_type": "code",
   "execution_count": null,
   "metadata": {
    "id": "LkhhvGObTPCD"
   },
   "outputs": [],
   "source": [
    "test_acc_metric = tf.metrics.SparseCategoricalAccuracy()\n",
    "for img_batch, lbl_batch in test_data:\n",
    "    test_acc_metric(lbl_batch, model(img_batch))\n",
    "\n",
    "test_acc_metric.result()"
   ]
  }
 ],
 "metadata": {
  "accelerator": "GPU",
  "colab": {
   "collapsed_sections": [],
   "name": "function_al.ipynb",
   "provenance": []
  },
  "kernelspec": {
   "display_name": "Python 3 (ipykernel)",
   "language": "python",
   "name": "python3"
  },
  "language_info": {
   "codemirror_mode": {
    "name": "ipython",
    "version": 3
   },
   "file_extension": ".py",
   "mimetype": "text/x-python",
   "name": "python",
   "nbconvert_exporter": "python",
   "pygments_lexer": "ipython3",
   "version": "3.11.1"
  }
 },
 "nbformat": 4,
 "nbformat_minor": 1
}
