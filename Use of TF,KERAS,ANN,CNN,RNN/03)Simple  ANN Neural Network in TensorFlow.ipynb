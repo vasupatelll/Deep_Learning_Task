{
 "cells": [
  {
   "cell_type": "code",
   "execution_count": 1,
   "metadata": {
    "executionInfo": {
     "elapsed": 3002,
     "status": "ok",
     "timestamp": 1687951937557,
     "user": {
      "displayName": "Raj Yadav",
      "userId": "17883966751087890537"
     },
     "user_tz": -330
    },
    "id": "dbUgVQiUurV8"
   },
   "outputs": [],
   "source": [
    "import os\n",
    "\n",
    "# os.environ[\"TF_CPP_MIN_LOG_LEVEL\"] = \"2\"\n",
    "\n",
    "import tensorflow as tf\n",
    "from tensorflow import keras\n",
    "from tensorflow.keras import layers\n",
    "from tensorflow.keras.datasets import mnist"
   ]
  },
  {
   "cell_type": "code",
   "execution_count": 2,
   "metadata": {
    "colab": {
     "base_uri": "https://localhost:8080/"
    },
    "executionInfo": {
     "elapsed": 787,
     "status": "ok",
     "timestamp": 1687952047000,
     "user": {
      "displayName": "Raj Yadav",
      "userId": "17883966751087890537"
     },
     "user_tz": -330
    },
    "id": "V-b2FQjHu7Af",
    "outputId": "52c01e70-aa2c-466e-d8f6-64abedadd415"
   },
   "outputs": [],
   "source": [
    "(x_train, y_train), (x_test, y_test) = mnist.load_data()\n",
    "x_train = x_train.reshape(-1, 28 * 28).astype(\"float32\") / 255.0\n",
    "x_test = x_test.reshape(-1, 28 * 28).astype(\"float32\") / 255.0"
   ]
  },
  {
   "cell_type": "code",
   "execution_count": 3,
   "metadata": {
    "colab": {
     "base_uri": "https://localhost:8080/"
    },
    "executionInfo": {
     "elapsed": 3,
     "status": "ok",
     "timestamp": 1687953614232,
     "user": {
      "displayName": "Raj Yadav",
      "userId": "17883966751087890537"
     },
     "user_tz": -330
    },
    "id": "1YjYlu_DyltJ",
    "outputId": "2b0d7618-aab7-4e55-bdd3-b40047fbe945"
   },
   "outputs": [
    {
     "data": {
      "text/plain": [
       "(60000, 784)"
      ]
     },
     "execution_count": 3,
     "metadata": {},
     "output_type": "execute_result"
    }
   ],
   "source": [
    "x_train.shape"
   ]
  },
  {
   "cell_type": "code",
   "execution_count": 4,
   "metadata": {
    "executionInfo": {
     "elapsed": 658,
     "status": "ok",
     "timestamp": 1687953008426,
     "user": {
      "displayName": "Raj Yadav",
      "userId": "17883966751087890537"
     },
     "user_tz": -330
    },
    "id": "hi0wZWSwu7G1"
   },
   "outputs": [],
   "source": [
    "# Sequential API (Very convenient, not very flexible)\n",
    "model = keras.Sequential(\n",
    "    [\n",
    "        keras.Input(shape=(28 * 28)),\n",
    "        layers.Dense(512, activation=\"relu\"),\n",
    "        layers.Dense(256, activation=\"relu\"),\n",
    "        layers.Dense(10),\n",
    "    ]\n",
    ")"
   ]
  },
  {
   "cell_type": "code",
   "execution_count": 5,
   "metadata": {
    "colab": {
     "base_uri": "https://localhost:8080/"
    },
    "executionInfo": {
     "elapsed": 408,
     "status": "ok",
     "timestamp": 1687953012182,
     "user": {
      "displayName": "Raj Yadav",
      "userId": "17883966751087890537"
     },
     "user_tz": -330
    },
    "id": "pGNcArlRu7KX",
    "outputId": "277403c0-d511-40d1-be2f-cf33e37b0905"
   },
   "outputs": [
    {
     "name": "stdout",
     "output_type": "stream",
     "text": [
      "Model: \"sequential\"\n",
      "_________________________________________________________________\n",
      " Layer (type)                Output Shape              Param #   \n",
      "=================================================================\n",
      " dense (Dense)               (None, 512)               401920    \n",
      "                                                                 \n",
      " dense_1 (Dense)             (None, 256)               131328    \n",
      "                                                                 \n",
      " dense_2 (Dense)             (None, 10)                2570      \n",
      "                                                                 \n",
      "=================================================================\n",
      "Total params: 535,818\n",
      "Trainable params: 535,818\n",
      "Non-trainable params: 0\n",
      "_________________________________________________________________\n",
      "None\n"
     ]
    }
   ],
   "source": [
    "print(model.summary())"
   ]
  },
  {
   "cell_type": "code",
   "execution_count": 6,
   "metadata": {
    "colab": {
     "base_uri": "https://localhost:8080/"
    },
    "executionInfo": {
     "elapsed": 4,
     "status": "ok",
     "timestamp": 1687953497369,
     "user": {
      "displayName": "Raj Yadav",
      "userId": "17883966751087890537"
     },
     "user_tz": -330
    },
    "id": "YM4-ZMbJ13TF",
    "outputId": "e86191b2-747e-40af-807b-a98d769d7613"
   },
   "outputs": [
    {
     "name": "stderr",
     "output_type": "stream",
     "text": [
      "WARNING:absl:`lr` is deprecated in Keras optimizer, please use `learning_rate` or use the legacy optimizer, e.g.,tf.keras.optimizers.legacy.Adam.\n"
     ]
    }
   ],
   "source": [
    "model.compile(\n",
    "    loss=keras.losses.SparseCategoricalCrossentropy(from_logits=True),\n",
    "    optimizer=keras.optimizers.Adam(lr=0.001),\n",
    "    metrics=[\"accuracy\"],\n",
    ")"
   ]
  },
  {
   "cell_type": "code",
   "execution_count": 9,
   "metadata": {
    "colab": {
     "base_uri": "https://localhost:8080/"
    },
    "executionInfo": {
     "elapsed": 42288,
     "status": "ok",
     "timestamp": 1687953602342,
     "user": {
      "displayName": "Raj Yadav",
      "userId": "17883966751087890537"
     },
     "user_tz": -330
    },
    "id": "SXfVtsQj18wq",
    "outputId": "dd342908-b174-499b-a90c-39a747d4edd8"
   },
   "outputs": [
    {
     "name": "stdout",
     "output_type": "stream",
     "text": [
      "Epoch 1/25\n",
      "1875/1875 [==============================] - 16s 8ms/step - loss: 0.0081 - accuracy: 0.9981\n",
      "Epoch 2/25\n",
      "1875/1875 [==============================] - 14s 8ms/step - loss: 0.0085 - accuracy: 0.9985\n",
      "Epoch 3/25\n",
      "1875/1875 [==============================] - 12s 6ms/step - loss: 0.0112 - accuracy: 0.9976\n",
      "Epoch 4/25\n",
      "1875/1875 [==============================] - 16s 8ms/step - loss: 0.0079 - accuracy: 0.9980\n",
      "Epoch 5/25\n",
      "1875/1875 [==============================] - 13s 7ms/step - loss: 0.0094 - accuracy: 0.9980\n",
      "Epoch 6/25\n",
      "1875/1875 [==============================] - 14s 7ms/step - loss: 0.0087 - accuracy: 0.9981\n",
      "Epoch 7/25\n",
      "1875/1875 [==============================] - 15s 8ms/step - loss: 0.0085 - accuracy: 0.9980\n",
      "Epoch 8/25\n",
      "1875/1875 [==============================] - 14s 7ms/step - loss: 0.0038 - accuracy: 0.9990\n",
      "Epoch 9/25\n",
      "1875/1875 [==============================] - 14s 8ms/step - loss: 0.0135 - accuracy: 0.9973\n",
      "Epoch 10/25\n",
      "1875/1875 [==============================] - 12s 7ms/step - loss: 0.0090 - accuracy: 0.9983\n",
      "Epoch 11/25\n",
      "1875/1875 [==============================] - 15s 8ms/step - loss: 0.0058 - accuracy: 0.9988\n",
      "Epoch 12/25\n",
      "1875/1875 [==============================] - 13s 7ms/step - loss: 0.0093 - accuracy: 0.9983\n",
      "Epoch 13/25\n",
      "1875/1875 [==============================] - 14s 7ms/step - loss: 0.0071 - accuracy: 0.9987\n",
      "Epoch 14/25\n",
      "1875/1875 [==============================] - 16s 8ms/step - loss: 0.0087 - accuracy: 0.9981\n",
      "Epoch 15/25\n",
      "1875/1875 [==============================] - 12s 7ms/step - loss: 0.0070 - accuracy: 0.9986\n",
      "Epoch 16/25\n",
      "1875/1875 [==============================] - 15s 8ms/step - loss: 0.0097 - accuracy: 0.9984\n",
      "Epoch 17/25\n",
      "1875/1875 [==============================] - 13s 7ms/step - loss: 0.0096 - accuracy: 0.9984\n",
      "Epoch 18/25\n",
      "1875/1875 [==============================] - 13s 7ms/step - loss: 0.0075 - accuracy: 0.9987\n",
      "Epoch 19/25\n",
      "1875/1875 [==============================] - 14s 8ms/step - loss: 0.0101 - accuracy: 0.9981\n",
      "Epoch 20/25\n",
      "1875/1875 [==============================] - 12s 7ms/step - loss: 0.0053 - accuracy: 0.9990\n",
      "Epoch 21/25\n",
      "1875/1875 [==============================] - 14s 7ms/step - loss: 0.0065 - accuracy: 0.9985\n",
      "Epoch 22/25\n",
      "1875/1875 [==============================] - 12s 6ms/step - loss: 0.0043 - accuracy: 0.9991\n",
      "Epoch 23/25\n",
      "1875/1875 [==============================] - 15s 8ms/step - loss: 0.0052 - accuracy: 0.9992\n",
      "Epoch 24/25\n",
      "1875/1875 [==============================] - 14s 7ms/step - loss: 0.0124 - accuracy: 0.9983\n",
      "Epoch 25/25\n",
      "1875/1875 [==============================] - 11s 6ms/step - loss: 0.0105 - accuracy: 0.9987\n",
      "313/313 [==============================] - 1s 2ms/step - loss: 0.2584 - accuracy: 0.9799\n"
     ]
    },
    {
     "data": {
      "text/plain": [
       "[0.2583755850791931, 0.9799000024795532]"
      ]
     },
     "execution_count": 9,
     "metadata": {},
     "output_type": "execute_result"
    }
   ],
   "source": [
    "model.fit(x_train, y_train, batch_size=32, epochs=25, verbose=1)\n",
    "model.evaluate(x_test, y_test, batch_size=32, verbose=1)"
   ]
  },
  {
   "cell_type": "code",
   "execution_count": 10,
   "metadata": {
    "colab": {
     "base_uri": "https://localhost:8080/"
    },
    "executionInfo": {
     "elapsed": 411,
     "status": "ok",
     "timestamp": 1687953755419,
     "user": {
      "displayName": "Raj Yadav",
      "userId": "17883966751087890537"
     },
     "user_tz": -330
    },
    "id": "SSVJK9glu7N-",
    "outputId": "276d3416-96ce-4bfb-af10-1d243b52941f"
   },
   "outputs": [
    {
     "name": "stdout",
     "output_type": "stream",
     "text": [
      "Model: \"sequential_1\"\n",
      "_________________________________________________________________\n",
      " Layer (type)                Output Shape              Param #   \n",
      "=================================================================\n",
      " dense_3 (Dense)             (None, 512)               401920    \n",
      "                                                                 \n",
      " my_layer (Dense)            (None, 256)               131328    \n",
      "                                                                 \n",
      " dense_4 (Dense)             (None, 10)                2570      \n",
      "                                                                 \n",
      "=================================================================\n",
      "Total params: 535,818\n",
      "Trainable params: 535,818\n",
      "Non-trainable params: 0\n",
      "_________________________________________________________________\n",
      "None\n"
     ]
    }
   ],
   "source": [
    "model = keras.Sequential()\n",
    "model.add(keras.Input(shape=(784)))\n",
    "model.add(layers.Dense(512, activation=\"relu\"))\n",
    "model.add(layers.Dense(256, activation=\"relu\", name=\"my_layer\"))\n",
    "model.add(layers.Dense(10))\n",
    "print(model.summary())"
   ]
  },
  {
   "cell_type": "code",
   "execution_count": 11,
   "metadata": {
    "colab": {
     "base_uri": "https://localhost:8080/"
    },
    "executionInfo": {
     "elapsed": 425,
     "status": "ok",
     "timestamp": 1687953807764,
     "user": {
      "displayName": "Raj Yadav",
      "userId": "17883966751087890537"
     },
     "user_tz": -330
    },
    "id": "VIB4oy-m15gD",
    "outputId": "f049f4b3-533b-47f6-e346-56c4a5953332"
   },
   "outputs": [
    {
     "name": "stderr",
     "output_type": "stream",
     "text": [
      "WARNING:absl:`lr` is deprecated in Keras optimizer, please use `learning_rate` or use the legacy optimizer, e.g.,tf.keras.optimizers.legacy.Adam.\n"
     ]
    }
   ],
   "source": [
    "model.compile(\n",
    "    loss=keras.losses.SparseCategoricalCrossentropy(from_logits=True),\n",
    "    optimizer=keras.optimizers.Adam(lr=0.001),\n",
    "    metrics=[\"accuracy\"],\n",
    ")"
   ]
  },
  {
   "cell_type": "code",
   "execution_count": 12,
   "metadata": {
    "colab": {
     "base_uri": "https://localhost:8080/"
    },
    "executionInfo": {
     "elapsed": 42885,
     "status": "ok",
     "timestamp": 1687953854850,
     "user": {
      "displayName": "Raj Yadav",
      "userId": "17883966751087890537"
     },
     "user_tz": -330
    },
    "id": "jQERGajo19vK",
    "outputId": "dc6fe4f1-472a-4487-c98a-ab5536303a63"
   },
   "outputs": [
    {
     "name": "stdout",
     "output_type": "stream",
     "text": [
      "Epoch 1/5\n",
      "1875/1875 - 11s - loss: 0.1858 - accuracy: 0.9434 - 11s/epoch - 6ms/step\n",
      "Epoch 2/5\n",
      "1875/1875 - 10s - loss: 0.0790 - accuracy: 0.9755 - 10s/epoch - 5ms/step\n",
      "Epoch 3/5\n",
      "1875/1875 - 11s - loss: 0.0560 - accuracy: 0.9830 - 11s/epoch - 6ms/step\n",
      "Epoch 4/5\n",
      "1875/1875 - 10s - loss: 0.0397 - accuracy: 0.9869 - 10s/epoch - 5ms/step\n",
      "Epoch 5/5\n",
      "1875/1875 - 10s - loss: 0.0333 - accuracy: 0.9892 - 10s/epoch - 5ms/step\n",
      "313/313 - 1s - loss: 0.0845 - accuracy: 0.9782 - 1s/epoch - 3ms/step\n"
     ]
    },
    {
     "data": {
      "text/plain": [
       "[0.08451949059963226, 0.9782000184059143]"
      ]
     },
     "execution_count": 12,
     "metadata": {},
     "output_type": "execute_result"
    }
   ],
   "source": [
    "model.fit(x_train, y_train, batch_size=32, epochs=5, verbose=2)\n",
    "model.evaluate(x_test, y_test, batch_size=32, verbose=2)"
   ]
  },
  {
   "cell_type": "code",
   "execution_count": 13,
   "metadata": {
    "executionInfo": {
     "elapsed": 378,
     "status": "ok",
     "timestamp": 1687953870640,
     "user": {
      "displayName": "Raj Yadav",
      "userId": "17883966751087890537"
     },
     "user_tz": -330
    },
    "id": "z8wajDZDu7Rm"
   },
   "outputs": [],
   "source": [
    "# Functional API (A bit more flexible)\n",
    "inputs = keras.Input(shape=(784))\n",
    "x = layers.Dense(512, activation=\"relu\", name=\"first_layer\")(inputs)\n",
    "x = layers.Dense(256, activation=\"relu\", name=\"second_layer\")(x)\n",
    "outputs = layers.Dense(10, activation=\"softmax\")(x)\n",
    "model = keras.Model(inputs=inputs, outputs=outputs)"
   ]
  },
  {
   "cell_type": "code",
   "execution_count": 14,
   "metadata": {
    "colab": {
     "base_uri": "https://localhost:8080/"
    },
    "executionInfo": {
     "elapsed": 402,
     "status": "ok",
     "timestamp": 1687953886957,
     "user": {
      "displayName": "Raj Yadav",
      "userId": "17883966751087890537"
     },
     "user_tz": -330
    },
    "id": "SC2U15YIvKCf",
    "outputId": "d227ea4b-a3a9-495f-d31b-4a64dd4b69ab"
   },
   "outputs": [
    {
     "name": "stderr",
     "output_type": "stream",
     "text": [
      "WARNING:absl:`lr` is deprecated in Keras optimizer, please use `learning_rate` or use the legacy optimizer, e.g.,tf.keras.optimizers.legacy.Adam.\n"
     ]
    }
   ],
   "source": [
    "model.compile(\n",
    "    loss=keras.losses.SparseCategoricalCrossentropy(from_logits=False),\n",
    "    optimizer=keras.optimizers.Adam(lr=0.001),\n",
    "    metrics=[\"accuracy\"],\n",
    ")"
   ]
  },
  {
   "cell_type": "code",
   "execution_count": 15,
   "metadata": {
    "colab": {
     "base_uri": "https://localhost:8080/"
    },
    "executionInfo": {
     "elapsed": 43186,
     "status": "ok",
     "timestamp": 1687953933245,
     "user": {
      "displayName": "Raj Yadav",
      "userId": "17883966751087890537"
     },
     "user_tz": -330
    },
    "id": "aWgOH5hMvKIF",
    "outputId": "dd2a102e-0cdb-4a3d-b5ed-946e2dd6cc2e"
   },
   "outputs": [
    {
     "name": "stdout",
     "output_type": "stream",
     "text": [
      "Epoch 1/5\n",
      "1875/1875 - 13s - loss: 0.1863 - accuracy: 0.9434 - 13s/epoch - 7ms/step\n",
      "Epoch 2/5\n",
      "1875/1875 - 12s - loss: 0.0788 - accuracy: 0.9756 - 12s/epoch - 6ms/step\n",
      "Epoch 3/5\n",
      "1875/1875 - 12s - loss: 0.0532 - accuracy: 0.9834 - 12s/epoch - 6ms/step\n",
      "Epoch 4/5\n",
      "1875/1875 - 13s - loss: 0.0431 - accuracy: 0.9859 - 13s/epoch - 7ms/step\n",
      "Epoch 5/5\n",
      "1875/1875 - 11s - loss: 0.0332 - accuracy: 0.9893 - 11s/epoch - 6ms/step\n",
      "313/313 - 1s - loss: 0.0830 - accuracy: 0.9764 - 863ms/epoch - 3ms/step\n"
     ]
    },
    {
     "data": {
      "text/plain": [
       "[0.08298815041780472, 0.9764000177383423]"
      ]
     },
     "execution_count": 15,
     "metadata": {},
     "output_type": "execute_result"
    }
   ],
   "source": [
    "model.fit(x_train, y_train, batch_size=32, epochs=5, verbose=2)\n",
    "model.evaluate(x_test, y_test, batch_size=32, verbose=2)"
   ]
  },
  {
   "cell_type": "code",
   "execution_count": null,
   "metadata": {
    "id": "hCEZ52-4vKMV"
   },
   "outputs": [],
   "source": []
  }
 ],
 "metadata": {
  "accelerator": "GPU",
  "colab": {
   "authorship_tag": "ABX9TyNJOSBfjLvwb4sS/sy8ZxpP",
   "gpuType": "T4",
   "provenance": []
  },
  "kernelspec": {
   "display_name": "Python 3 (ipykernel)",
   "language": "python",
   "name": "python3"
  },
  "language_info": {
   "codemirror_mode": {
    "name": "ipython",
    "version": 3
   },
   "file_extension": ".py",
   "mimetype": "text/x-python",
   "name": "python",
   "nbconvert_exporter": "python",
   "pygments_lexer": "ipython3",
   "version": "3.9.12"
  }
 },
 "nbformat": 4,
 "nbformat_minor": 1
}
