{
  "nbformat": 4,
  "nbformat_minor": 0,
  "metadata": {
    "kernelspec": {
      "display_name": "Python [conda env:nlp]",
      "language": "python",
      "name": "conda-env-nlp-py"
    },
    "language_info": {
      "codemirror_mode": {
        "name": "ipython",
        "version": 3
      },
      "file_extension": ".py",
      "mimetype": "text/x-python",
      "name": "python",
      "nbconvert_exporter": "python",
      "pygments_lexer": "ipython3",
      "version": "3.7.4"
    },
    "latex_envs": {
      "LaTeX_envs_menu_present": true,
      "autoclose": false,
      "autocomplete": true,
      "bibliofile": "biblio.bib",
      "cite_by": "apalike",
      "current_citInitial": 1,
      "eqLabelWithNumbers": true,
      "eqNumInitial": 1,
      "hotkeys": {
        "equation": "Ctrl-E",
        "itemize": "Ctrl-I"
      },
      "labels_anchors": false,
      "latex_user_defs": false,
      "report_style_numbering": false,
      "user_envs_cfg": false
    },
    "varInspector": {
      "cols": {
        "lenName": 16,
        "lenType": 16,
        "lenVar": 40
      },
      "kernels_config": {
        "python": {
          "delete_cmd_postfix": "",
          "delete_cmd_prefix": "del ",
          "library": "var_list.py",
          "varRefreshCmd": "print(var_dic_list())"
        },
        "r": {
          "delete_cmd_postfix": ") ",
          "delete_cmd_prefix": "rm(",
          "library": "var_list.r",
          "varRefreshCmd": "cat(var_dic_list()) "
        }
      },
      "types_to_exclude": [
        "module",
        "function",
        "builtin_function_or_method",
        "instance",
        "_Feature"
      ],
      "window_display": false
    },
    "colab": {
      "provenance": []
    },
    "widgets": {
      "application/vnd.jupyter.widget-state+json": {
        "0f6d0350061440fa9bb5410c854baea2": {
          "model_module": "@jupyter-widgets/controls",
          "model_name": "HBoxModel",
          "state": {
            "_view_name": "HBoxView",
            "_dom_classes": [],
            "_model_name": "HBoxModel",
            "_view_module": "@jupyter-widgets/controls",
            "_model_module_version": "1.5.0",
            "_view_count": null,
            "_view_module_version": "1.5.0",
            "box_style": "",
            "layout": "IPY_MODEL_e6868db9b8694d48b6438fcc95bf3b1a",
            "_model_module": "@jupyter-widgets/controls",
            "children": [
              "IPY_MODEL_8869dceab0f346df892226c231732f02",
              "IPY_MODEL_005d424ee3d24ba1807b3da50679c69b"
            ]
          },
          "model_module_version": "1.5.0"
        },
        "e6868db9b8694d48b6438fcc95bf3b1a": {
          "model_module": "@jupyter-widgets/base",
          "model_name": "LayoutModel",
          "state": {
            "_view_name": "LayoutView",
            "grid_template_rows": null,
            "right": null,
            "justify_content": null,
            "_view_module": "@jupyter-widgets/base",
            "overflow": null,
            "_model_module_version": "1.2.0",
            "_view_count": null,
            "flex_flow": null,
            "width": null,
            "min_width": null,
            "border": null,
            "align_items": null,
            "bottom": null,
            "_model_module": "@jupyter-widgets/base",
            "top": null,
            "grid_column": null,
            "overflow_y": null,
            "overflow_x": null,
            "grid_auto_flow": null,
            "grid_area": null,
            "grid_template_columns": null,
            "flex": null,
            "_model_name": "LayoutModel",
            "justify_items": null,
            "grid_row": null,
            "max_height": null,
            "align_content": null,
            "visibility": null,
            "align_self": null,
            "height": null,
            "min_height": null,
            "padding": null,
            "grid_auto_rows": null,
            "grid_gap": null,
            "max_width": null,
            "order": null,
            "_view_module_version": "1.2.0",
            "grid_template_areas": null,
            "object_position": null,
            "object_fit": null,
            "grid_auto_columns": null,
            "margin": null,
            "display": null,
            "left": null
          },
          "model_module_version": "1.2.0"
        },
        "8869dceab0f346df892226c231732f02": {
          "model_module": "@jupyter-widgets/controls",
          "model_name": "FloatProgressModel",
          "state": {
            "_view_name": "ProgressView",
            "style": "IPY_MODEL_5caa92f826e94e79a80311ea121bd614",
            "_dom_classes": [],
            "description": "100%",
            "_model_name": "FloatProgressModel",
            "bar_style": "success",
            "max": 10,
            "_view_module": "@jupyter-widgets/controls",
            "_model_module_version": "1.5.0",
            "value": 10,
            "_view_count": null,
            "_view_module_version": "1.5.0",
            "orientation": "horizontal",
            "min": 0,
            "description_tooltip": null,
            "_model_module": "@jupyter-widgets/controls",
            "layout": "IPY_MODEL_cad4326f2b0e4f9fb8d0bc7e164d5e1c"
          },
          "model_module_version": "1.5.0"
        },
        "005d424ee3d24ba1807b3da50679c69b": {
          "model_module": "@jupyter-widgets/controls",
          "model_name": "HTMLModel",
          "state": {
            "_view_name": "HTMLView",
            "style": "IPY_MODEL_abef87d2d3c74a3db72a9d27d85f7f22",
            "_dom_classes": [],
            "description": "",
            "_model_name": "HTMLModel",
            "placeholder": "​",
            "_view_module": "@jupyter-widgets/controls",
            "_model_module_version": "1.5.0",
            "value": " 10/10 [00:00&lt;00:00, 73.66it/s]",
            "_view_count": null,
            "_view_module_version": "1.5.0",
            "description_tooltip": null,
            "_model_module": "@jupyter-widgets/controls",
            "layout": "IPY_MODEL_5fc18bb1ba714dcf912549bdd35b26d3"
          },
          "model_module_version": "1.5.0"
        },
        "5caa92f826e94e79a80311ea121bd614": {
          "model_module": "@jupyter-widgets/controls",
          "model_name": "ProgressStyleModel",
          "state": {
            "_view_name": "StyleView",
            "_model_name": "ProgressStyleModel",
            "description_width": "initial",
            "_view_module": "@jupyter-widgets/base",
            "_model_module_version": "1.5.0",
            "_view_count": null,
            "_view_module_version": "1.2.0",
            "bar_color": null,
            "_model_module": "@jupyter-widgets/controls"
          },
          "model_module_version": "1.5.0"
        },
        "cad4326f2b0e4f9fb8d0bc7e164d5e1c": {
          "model_module": "@jupyter-widgets/base",
          "model_name": "LayoutModel",
          "state": {
            "_view_name": "LayoutView",
            "grid_template_rows": null,
            "right": null,
            "justify_content": null,
            "_view_module": "@jupyter-widgets/base",
            "overflow": null,
            "_model_module_version": "1.2.0",
            "_view_count": null,
            "flex_flow": null,
            "width": null,
            "min_width": null,
            "border": null,
            "align_items": null,
            "bottom": null,
            "_model_module": "@jupyter-widgets/base",
            "top": null,
            "grid_column": null,
            "overflow_y": null,
            "overflow_x": null,
            "grid_auto_flow": null,
            "grid_area": null,
            "grid_template_columns": null,
            "flex": null,
            "_model_name": "LayoutModel",
            "justify_items": null,
            "grid_row": null,
            "max_height": null,
            "align_content": null,
            "visibility": null,
            "align_self": null,
            "height": null,
            "min_height": null,
            "padding": null,
            "grid_auto_rows": null,
            "grid_gap": null,
            "max_width": null,
            "order": null,
            "_view_module_version": "1.2.0",
            "grid_template_areas": null,
            "object_position": null,
            "object_fit": null,
            "grid_auto_columns": null,
            "margin": null,
            "display": null,
            "left": null
          },
          "model_module_version": "1.2.0"
        },
        "abef87d2d3c74a3db72a9d27d85f7f22": {
          "model_module": "@jupyter-widgets/controls",
          "model_name": "DescriptionStyleModel",
          "state": {
            "_view_name": "StyleView",
            "_model_name": "DescriptionStyleModel",
            "description_width": "",
            "_view_module": "@jupyter-widgets/base",
            "_model_module_version": "1.5.0",
            "_view_count": null,
            "_view_module_version": "1.2.0",
            "_model_module": "@jupyter-widgets/controls"
          },
          "model_module_version": "1.5.0"
        },
        "5fc18bb1ba714dcf912549bdd35b26d3": {
          "model_module": "@jupyter-widgets/base",
          "model_name": "LayoutModel",
          "state": {
            "_view_name": "LayoutView",
            "grid_template_rows": null,
            "right": null,
            "justify_content": null,
            "_view_module": "@jupyter-widgets/base",
            "overflow": null,
            "_model_module_version": "1.2.0",
            "_view_count": null,
            "flex_flow": null,
            "width": null,
            "min_width": null,
            "border": null,
            "align_items": null,
            "bottom": null,
            "_model_module": "@jupyter-widgets/base",
            "top": null,
            "grid_column": null,
            "overflow_y": null,
            "overflow_x": null,
            "grid_auto_flow": null,
            "grid_area": null,
            "grid_template_columns": null,
            "flex": null,
            "_model_name": "LayoutModel",
            "justify_items": null,
            "grid_row": null,
            "max_height": null,
            "align_content": null,
            "visibility": null,
            "align_self": null,
            "height": null,
            "min_height": null,
            "padding": null,
            "grid_auto_rows": null,
            "grid_gap": null,
            "max_width": null,
            "order": null,
            "_view_module_version": "1.2.0",
            "grid_template_areas": null,
            "object_position": null,
            "object_fit": null,
            "grid_auto_columns": null,
            "margin": null,
            "display": null,
            "left": null
          },
          "model_module_version": "1.2.0"
        },
        "7badf4f614e34595958ad68d5617e5ad": {
          "model_module": "@jupyter-widgets/controls",
          "model_name": "HBoxModel",
          "state": {
            "_view_name": "HBoxView",
            "_dom_classes": [],
            "_model_name": "HBoxModel",
            "_view_module": "@jupyter-widgets/controls",
            "_model_module_version": "1.5.0",
            "_view_count": null,
            "_view_module_version": "1.5.0",
            "box_style": "",
            "layout": "IPY_MODEL_42d2ca607f44432bbec761057b36dc36",
            "_model_module": "@jupyter-widgets/controls",
            "children": [
              "IPY_MODEL_c2405ad6da174d2794ce8430a25185d3",
              "IPY_MODEL_70ae7cd8fc9a44d59337c53d745dc6f4"
            ]
          },
          "model_module_version": "1.5.0"
        },
        "42d2ca607f44432bbec761057b36dc36": {
          "model_module": "@jupyter-widgets/base",
          "model_name": "LayoutModel",
          "state": {
            "_view_name": "LayoutView",
            "grid_template_rows": null,
            "right": null,
            "justify_content": null,
            "_view_module": "@jupyter-widgets/base",
            "overflow": null,
            "_model_module_version": "1.2.0",
            "_view_count": null,
            "flex_flow": null,
            "width": null,
            "min_width": null,
            "border": null,
            "align_items": null,
            "bottom": null,
            "_model_module": "@jupyter-widgets/base",
            "top": null,
            "grid_column": null,
            "overflow_y": null,
            "overflow_x": null,
            "grid_auto_flow": null,
            "grid_area": null,
            "grid_template_columns": null,
            "flex": null,
            "_model_name": "LayoutModel",
            "justify_items": null,
            "grid_row": null,
            "max_height": null,
            "align_content": null,
            "visibility": null,
            "align_self": null,
            "height": null,
            "min_height": null,
            "padding": null,
            "grid_auto_rows": null,
            "grid_gap": null,
            "max_width": null,
            "order": null,
            "_view_module_version": "1.2.0",
            "grid_template_areas": null,
            "object_position": null,
            "object_fit": null,
            "grid_auto_columns": null,
            "margin": null,
            "display": null,
            "left": null
          },
          "model_module_version": "1.2.0"
        },
        "c2405ad6da174d2794ce8430a25185d3": {
          "model_module": "@jupyter-widgets/controls",
          "model_name": "FloatProgressModel",
          "state": {
            "_view_name": "ProgressView",
            "style": "IPY_MODEL_889bc0714d3e488c82e0377d5572d427",
            "_dom_classes": [],
            "description": "100%",
            "_model_name": "FloatProgressModel",
            "bar_style": "success",
            "max": 50,
            "_view_module": "@jupyter-widgets/controls",
            "_model_module_version": "1.5.0",
            "value": 50,
            "_view_count": null,
            "_view_module_version": "1.5.0",
            "orientation": "horizontal",
            "min": 0,
            "description_tooltip": null,
            "_model_module": "@jupyter-widgets/controls",
            "layout": "IPY_MODEL_f64b6fb5f31d4df78e6dbb2328d3a752"
          },
          "model_module_version": "1.5.0"
        },
        "70ae7cd8fc9a44d59337c53d745dc6f4": {
          "model_module": "@jupyter-widgets/controls",
          "model_name": "HTMLModel",
          "state": {
            "_view_name": "HTMLView",
            "style": "IPY_MODEL_85f220752b10419692388baf5fde3407",
            "_dom_classes": [],
            "description": "",
            "_model_name": "HTMLModel",
            "placeholder": "​",
            "_view_module": "@jupyter-widgets/controls",
            "_model_module_version": "1.5.0",
            "value": " 50/50 [00:00&lt;00:00, 1481.15it/s]",
            "_view_count": null,
            "_view_module_version": "1.5.0",
            "description_tooltip": null,
            "_model_module": "@jupyter-widgets/controls",
            "layout": "IPY_MODEL_7b734f0571f9427786da06da58594b71"
          },
          "model_module_version": "1.5.0"
        },
        "889bc0714d3e488c82e0377d5572d427": {
          "model_module": "@jupyter-widgets/controls",
          "model_name": "ProgressStyleModel",
          "state": {
            "_view_name": "StyleView",
            "_model_name": "ProgressStyleModel",
            "description_width": "initial",
            "_view_module": "@jupyter-widgets/base",
            "_model_module_version": "1.5.0",
            "_view_count": null,
            "_view_module_version": "1.2.0",
            "bar_color": null,
            "_model_module": "@jupyter-widgets/controls"
          },
          "model_module_version": "1.5.0"
        },
        "f64b6fb5f31d4df78e6dbb2328d3a752": {
          "model_module": "@jupyter-widgets/base",
          "model_name": "LayoutModel",
          "state": {
            "_view_name": "LayoutView",
            "grid_template_rows": null,
            "right": null,
            "justify_content": null,
            "_view_module": "@jupyter-widgets/base",
            "overflow": null,
            "_model_module_version": "1.2.0",
            "_view_count": null,
            "flex_flow": null,
            "width": null,
            "min_width": null,
            "border": null,
            "align_items": null,
            "bottom": null,
            "_model_module": "@jupyter-widgets/base",
            "top": null,
            "grid_column": null,
            "overflow_y": null,
            "overflow_x": null,
            "grid_auto_flow": null,
            "grid_area": null,
            "grid_template_columns": null,
            "flex": null,
            "_model_name": "LayoutModel",
            "justify_items": null,
            "grid_row": null,
            "max_height": null,
            "align_content": null,
            "visibility": null,
            "align_self": null,
            "height": null,
            "min_height": null,
            "padding": null,
            "grid_auto_rows": null,
            "grid_gap": null,
            "max_width": null,
            "order": null,
            "_view_module_version": "1.2.0",
            "grid_template_areas": null,
            "object_position": null,
            "object_fit": null,
            "grid_auto_columns": null,
            "margin": null,
            "display": null,
            "left": null
          },
          "model_module_version": "1.2.0"
        },
        "85f220752b10419692388baf5fde3407": {
          "model_module": "@jupyter-widgets/controls",
          "model_name": "DescriptionStyleModel",
          "state": {
            "_view_name": "StyleView",
            "_model_name": "DescriptionStyleModel",
            "description_width": "",
            "_view_module": "@jupyter-widgets/base",
            "_model_module_version": "1.5.0",
            "_view_count": null,
            "_view_module_version": "1.2.0",
            "_model_module": "@jupyter-widgets/controls"
          },
          "model_module_version": "1.5.0"
        },
        "7b734f0571f9427786da06da58594b71": {
          "model_module": "@jupyter-widgets/base",
          "model_name": "LayoutModel",
          "state": {
            "_view_name": "LayoutView",
            "grid_template_rows": null,
            "right": null,
            "justify_content": null,
            "_view_module": "@jupyter-widgets/base",
            "overflow": null,
            "_model_module_version": "1.2.0",
            "_view_count": null,
            "flex_flow": null,
            "width": null,
            "min_width": null,
            "border": null,
            "align_items": null,
            "bottom": null,
            "_model_module": "@jupyter-widgets/base",
            "top": null,
            "grid_column": null,
            "overflow_y": null,
            "overflow_x": null,
            "grid_auto_flow": null,
            "grid_area": null,
            "grid_template_columns": null,
            "flex": null,
            "_model_name": "LayoutModel",
            "justify_items": null,
            "grid_row": null,
            "max_height": null,
            "align_content": null,
            "visibility": null,
            "align_self": null,
            "height": null,
            "min_height": null,
            "padding": null,
            "grid_auto_rows": null,
            "grid_gap": null,
            "max_width": null,
            "order": null,
            "_view_module_version": "1.2.0",
            "grid_template_areas": null,
            "object_position": null,
            "object_fit": null,
            "grid_auto_columns": null,
            "margin": null,
            "display": null,
            "left": null
          },
          "model_module_version": "1.2.0"
        },
        "ba3a0bf175b14278b08621f3f12deb16": {
          "model_module": "@jupyter-widgets/controls",
          "model_name": "HBoxModel",
          "state": {
            "_view_name": "HBoxView",
            "_dom_classes": [],
            "_model_name": "HBoxModel",
            "_view_module": "@jupyter-widgets/controls",
            "_model_module_version": "1.5.0",
            "_view_count": null,
            "_view_module_version": "1.5.0",
            "box_style": "",
            "layout": "IPY_MODEL_657a3ac5e7814e8ca361b596a677f0ff",
            "_model_module": "@jupyter-widgets/controls",
            "children": [
              "IPY_MODEL_bdb33771ea384827913abbea1d447b66",
              "IPY_MODEL_6246386303d04e18858a966bb019e00c"
            ]
          },
          "model_module_version": "1.5.0"
        },
        "657a3ac5e7814e8ca361b596a677f0ff": {
          "model_module": "@jupyter-widgets/base",
          "model_name": "LayoutModel",
          "state": {
            "_view_name": "LayoutView",
            "grid_template_rows": null,
            "right": null,
            "justify_content": null,
            "_view_module": "@jupyter-widgets/base",
            "overflow": null,
            "_model_module_version": "1.2.0",
            "_view_count": null,
            "flex_flow": null,
            "width": null,
            "min_width": null,
            "border": null,
            "align_items": null,
            "bottom": null,
            "_model_module": "@jupyter-widgets/base",
            "top": null,
            "grid_column": null,
            "overflow_y": null,
            "overflow_x": null,
            "grid_auto_flow": null,
            "grid_area": null,
            "grid_template_columns": null,
            "flex": null,
            "_model_name": "LayoutModel",
            "justify_items": null,
            "grid_row": null,
            "max_height": null,
            "align_content": null,
            "visibility": null,
            "align_self": null,
            "height": null,
            "min_height": null,
            "padding": null,
            "grid_auto_rows": null,
            "grid_gap": null,
            "max_width": null,
            "order": null,
            "_view_module_version": "1.2.0",
            "grid_template_areas": null,
            "object_position": null,
            "object_fit": null,
            "grid_auto_columns": null,
            "margin": null,
            "display": null,
            "left": null
          },
          "model_module_version": "1.2.0"
        },
        "bdb33771ea384827913abbea1d447b66": {
          "model_module": "@jupyter-widgets/controls",
          "model_name": "FloatProgressModel",
          "state": {
            "_view_name": "ProgressView",
            "style": "IPY_MODEL_a2b45250e16948238a34403ce9c69ba7",
            "_dom_classes": [],
            "description": "100%",
            "_model_name": "FloatProgressModel",
            "bar_style": "success",
            "max": 18,
            "_view_module": "@jupyter-widgets/controls",
            "_model_module_version": "1.5.0",
            "value": 18,
            "_view_count": null,
            "_view_module_version": "1.5.0",
            "orientation": "horizontal",
            "min": 0,
            "description_tooltip": null,
            "_model_module": "@jupyter-widgets/controls",
            "layout": "IPY_MODEL_adf850ff5309465c9d83b2bde914331a"
          },
          "model_module_version": "1.5.0"
        },
        "6246386303d04e18858a966bb019e00c": {
          "model_module": "@jupyter-widgets/controls",
          "model_name": "HTMLModel",
          "state": {
            "_view_name": "HTMLView",
            "style": "IPY_MODEL_abcfacd6971947dea49587fd9865bd7a",
            "_dom_classes": [],
            "description": "",
            "_model_name": "HTMLModel",
            "placeholder": "​",
            "_view_module": "@jupyter-widgets/controls",
            "_model_module_version": "1.5.0",
            "value": " 18/18 [00:00&lt;00:00, 289.20it/s]",
            "_view_count": null,
            "_view_module_version": "1.5.0",
            "description_tooltip": null,
            "_model_module": "@jupyter-widgets/controls",
            "layout": "IPY_MODEL_7ef5eb9833b1442eb3c8454faf3b26c9"
          },
          "model_module_version": "1.5.0"
        },
        "a2b45250e16948238a34403ce9c69ba7": {
          "model_module": "@jupyter-widgets/controls",
          "model_name": "ProgressStyleModel",
          "state": {
            "_view_name": "StyleView",
            "_model_name": "ProgressStyleModel",
            "description_width": "initial",
            "_view_module": "@jupyter-widgets/base",
            "_model_module_version": "1.5.0",
            "_view_count": null,
            "_view_module_version": "1.2.0",
            "bar_color": null,
            "_model_module": "@jupyter-widgets/controls"
          },
          "model_module_version": "1.5.0"
        },
        "adf850ff5309465c9d83b2bde914331a": {
          "model_module": "@jupyter-widgets/base",
          "model_name": "LayoutModel",
          "state": {
            "_view_name": "LayoutView",
            "grid_template_rows": null,
            "right": null,
            "justify_content": null,
            "_view_module": "@jupyter-widgets/base",
            "overflow": null,
            "_model_module_version": "1.2.0",
            "_view_count": null,
            "flex_flow": null,
            "width": null,
            "min_width": null,
            "border": null,
            "align_items": null,
            "bottom": null,
            "_model_module": "@jupyter-widgets/base",
            "top": null,
            "grid_column": null,
            "overflow_y": null,
            "overflow_x": null,
            "grid_auto_flow": null,
            "grid_area": null,
            "grid_template_columns": null,
            "flex": null,
            "_model_name": "LayoutModel",
            "justify_items": null,
            "grid_row": null,
            "max_height": null,
            "align_content": null,
            "visibility": null,
            "align_self": null,
            "height": null,
            "min_height": null,
            "padding": null,
            "grid_auto_rows": null,
            "grid_gap": null,
            "max_width": null,
            "order": null,
            "_view_module_version": "1.2.0",
            "grid_template_areas": null,
            "object_position": null,
            "object_fit": null,
            "grid_auto_columns": null,
            "margin": null,
            "display": null,
            "left": null
          },
          "model_module_version": "1.2.0"
        },
        "abcfacd6971947dea49587fd9865bd7a": {
          "model_module": "@jupyter-widgets/controls",
          "model_name": "DescriptionStyleModel",
          "state": {
            "_view_name": "StyleView",
            "_model_name": "DescriptionStyleModel",
            "description_width": "",
            "_view_module": "@jupyter-widgets/base",
            "_model_module_version": "1.5.0",
            "_view_count": null,
            "_view_module_version": "1.2.0",
            "_model_module": "@jupyter-widgets/controls"
          },
          "model_module_version": "1.5.0"
        },
        "7ef5eb9833b1442eb3c8454faf3b26c9": {
          "model_module": "@jupyter-widgets/base",
          "model_name": "LayoutModel",
          "state": {
            "_view_name": "LayoutView",
            "grid_template_rows": null,
            "right": null,
            "justify_content": null,
            "_view_module": "@jupyter-widgets/base",
            "overflow": null,
            "_model_module_version": "1.2.0",
            "_view_count": null,
            "flex_flow": null,
            "width": null,
            "min_width": null,
            "border": null,
            "align_items": null,
            "bottom": null,
            "_model_module": "@jupyter-widgets/base",
            "top": null,
            "grid_column": null,
            "overflow_y": null,
            "overflow_x": null,
            "grid_auto_flow": null,
            "grid_area": null,
            "grid_template_columns": null,
            "flex": null,
            "_model_name": "LayoutModel",
            "justify_items": null,
            "grid_row": null,
            "max_height": null,
            "align_content": null,
            "visibility": null,
            "align_self": null,
            "height": null,
            "min_height": null,
            "padding": null,
            "grid_auto_rows": null,
            "grid_gap": null,
            "max_width": null,
            "order": null,
            "_view_module_version": "1.2.0",
            "grid_template_areas": null,
            "object_position": null,
            "object_fit": null,
            "grid_auto_columns": null,
            "margin": null,
            "display": null,
            "left": null
          },
          "model_module_version": "1.2.0"
        }
      }
    }
  },
  "cells": [
    {
      "cell_type": "code",
      "metadata": {
        "id": "2zxX3ORz8rjC"
      },
      "source": [
        "raw_text = ['Story of a man who has unnatural feelings for a pig.  <br>  Starts out with a opening scene that is a terrific example of absurd comedy. ',\n",
        "          \"A formal orchestra audience is turned into an insane, violent mob by the crazy chantings of it's singers.\" ,\n",
        "          'Unfortunately it stays absurd the WHOLE time with no general narrative eventually making it just too off putting. ',\n",
        "          'Even those from the era should be turned off. The cryptic dialogue would make Shakespeare seem easy to a third grader.',\n",
        "          \"On a technical level it's better than you might think with some good cinematography by future great Vilmos Zsigmond.\",\n",
        "          'Future stars Sally Kirkland and Frederic Forrest can be seen briefly.',\n",
        "          \"I've seen this story before but my kids haven't.\" ,\n",
        "          'Boy with troubled past joins military, faces his past, falls in love and becomes a man. ',\n",
        "          'The mentor this time is played perfectly by Kevin Costner; An ordinary man with common everyday problems who lives an extraordinary conviction, to save lives.',\n",
        "          'After losing his team he takes a teaching position training the next generation of heroes.',\n",
        "          'The young troubled recruit is played by Kutcher.',\n",
        "          \"While his scenes with the local love interest are a tad stiff and don't generate enough heat to melt butter, he compliments Costner well.\",\n",
        "          'I never really understood Sela Ward as the neglected wife and felt she should of wanted Costner to quit out of concern for his safety as opposed to her selfish needs.',\n",
        "          'But her presence on screen is a pleasure. The two unaccredited stars of this movie are the Coast Guard and the Sea.',\n",
        "          'Both powerful forces which should not be taken for granted in real life or this movie.',\n",
        "          'The movie has some slow spots and could have used the wasted 15 minutes to strengthen the character relationships.',\n",
        "          'But it still works. The rescue scenes are intense and well filmed and edited to provide maximum impact.',\n",
        "          'This movie earns the audience applause. And the applause of my two sons.']"
      ],
      "execution_count": null,
      "outputs": []
    },
    {
      "cell_type": "code",
      "metadata": {
        "id": "OgBtEkml8rjO"
      },
      "source": [
        "import pandas as pd\n",
        "import numpy as np"
      ],
      "execution_count": null,
      "outputs": []
    },
    {
      "cell_type": "code",
      "metadata": {
        "id": "EC0Ax5cZ8rjW",
        "colab": {
          "base_uri": "https://localhost:8080/",
          "height": 102,
          "referenced_widgets": [
            "0f6d0350061440fa9bb5410c854baea2",
            "e6868db9b8694d48b6438fcc95bf3b1a",
            "8869dceab0f346df892226c231732f02",
            "005d424ee3d24ba1807b3da50679c69b",
            "5caa92f826e94e79a80311ea121bd614",
            "cad4326f2b0e4f9fb8d0bc7e164d5e1c",
            "abef87d2d3c74a3db72a9d27d85f7f22",
            "5fc18bb1ba714dcf912549bdd35b26d3"
          ]
        },
        "outputId": "8fe4ce77-2c27-4f51-f390-54d552cec5d2"
      },
      "source": [
        "# tqdm to show progress bar\n",
        "import tqdm\n",
        "print(tqdm.__version__)\n",
        "tqdm.tqdm.pandas() # use progress_apply to replace apply\n",
        "from tqdm.notebook import tqdm\n",
        "\n",
        "# example 1: for loop\n",
        "for i in tqdm(range(10)):\n",
        "    pass\n",
        "# example 2: pandas\n",
        "df_test = pd.DataFrame({'num': [0,1]})\n",
        "df_test['num+1'] = df_test.num.progress_apply(lambda x: x+1)"
      ],
      "execution_count": null,
      "outputs": [
        {
          "output_type": "stream",
          "text": [
            "4.41.1\n"
          ],
          "name": "stdout"
        },
        {
          "output_type": "display_data",
          "data": {
            "application/vnd.jupyter.widget-view+json": {
              "model_id": "0f6d0350061440fa9bb5410c854baea2",
              "version_minor": 0,
              "version_major": 2
            },
            "text/plain": [
              "HBox(children=(FloatProgress(value=0.0, max=10.0), HTML(value='')))"
            ]
          },
          "metadata": {
            "tags": []
          }
        },
        {
          "output_type": "stream",
          "text": [
            "100%|██████████| 2/2 [00:00<00:00, 358.78it/s]"
          ],
          "name": "stderr"
        },
        {
          "output_type": "stream",
          "text": [
            "\n"
          ],
          "name": "stdout"
        },
        {
          "output_type": "stream",
          "text": [
            "\n"
          ],
          "name": "stderr"
        }
      ]
    },
    {
      "cell_type": "code",
      "metadata": {
        "id": "EwgAfpt98rjg",
        "colab": {
          "base_uri": "https://localhost:8080/",
          "height": 194
        },
        "outputId": "42d8543e-dd65-4a72-bd0d-43b43a4ee51a"
      },
      "source": [
        "# store in dataframe\n",
        "df_text = pd.DataFrame({'raw_text': raw_text})\n",
        "df_text.head()"
      ],
      "execution_count": null,
      "outputs": [
        {
          "output_type": "execute_result",
          "data": {
            "text/html": [
              "<div>\n",
              "<style scoped>\n",
              "    .dataframe tbody tr th:only-of-type {\n",
              "        vertical-align: middle;\n",
              "    }\n",
              "\n",
              "    .dataframe tbody tr th {\n",
              "        vertical-align: top;\n",
              "    }\n",
              "\n",
              "    .dataframe thead th {\n",
              "        text-align: right;\n",
              "    }\n",
              "</style>\n",
              "<table border=\"1\" class=\"dataframe\">\n",
              "  <thead>\n",
              "    <tr style=\"text-align: right;\">\n",
              "      <th></th>\n",
              "      <th>raw_text</th>\n",
              "    </tr>\n",
              "  </thead>\n",
              "  <tbody>\n",
              "    <tr>\n",
              "      <th>0</th>\n",
              "      <td>Story of a man who has unnatural feelings for ...</td>\n",
              "    </tr>\n",
              "    <tr>\n",
              "      <th>1</th>\n",
              "      <td>A formal orchestra audience is turned into an ...</td>\n",
              "    </tr>\n",
              "    <tr>\n",
              "      <th>2</th>\n",
              "      <td>Unfortunately it stays absurd the WHOLE time w...</td>\n",
              "    </tr>\n",
              "    <tr>\n",
              "      <th>3</th>\n",
              "      <td>Even those from the era should be turned off. ...</td>\n",
              "    </tr>\n",
              "    <tr>\n",
              "      <th>4</th>\n",
              "      <td>On a technical level it's better than you migh...</td>\n",
              "    </tr>\n",
              "  </tbody>\n",
              "</table>\n",
              "</div>"
            ],
            "text/plain": [
              "                                            raw_text\n",
              "0  Story of a man who has unnatural feelings for ...\n",
              "1  A formal orchestra audience is turned into an ...\n",
              "2  Unfortunately it stays absurd the WHOLE time w...\n",
              "3  Even those from the era should be turned off. ...\n",
              "4  On a technical level it's better than you migh..."
            ]
          },
          "metadata": {
            "tags": []
          },
          "execution_count": 4
        }
      ]
    },
    {
      "cell_type": "markdown",
      "metadata": {
        "id": "OefC_l7z8rjo"
      },
      "source": [
        "## Tokenization"
      ]
    },
    {
      "cell_type": "code",
      "metadata": {
        "id": "VKNLBkAo8rjq"
      },
      "source": [
        "from tensorflow.keras.preprocessing.text import Tokenizer, text_to_word_sequence"
      ],
      "execution_count": null,
      "outputs": []
    },
    {
      "cell_type": "code",
      "metadata": {
        "id": "z81gMKxT8rjx",
        "colab": {
          "base_uri": "https://localhost:8080/",
          "height": 52
        },
        "outputId": "eec3c72b-12df-45f1-b0b0-2e7f3a1b000a"
      },
      "source": [
        "tokenizer = Tokenizer()\n",
        "tokenizer.fit_on_texts(raw_text)\n",
        "train_sequences = tokenizer.texts_to_sequences(raw_text) #Converting text to a vector of word indexes\n",
        "word_index = tokenizer.word_index\n",
        "print('Found %s unique tokens.' % len(word_index))\n",
        "print('1st token-id sequnce', train_sequences[0])"
      ],
      "execution_count": null,
      "outputs": [
        {
          "output_type": "stream",
          "text": [
            "Found 212 unique tokens.\n",
            "1st token-id sequnce [21, 4, 2, 12, 22, 23, 50, 51, 13, 2, 52, 53, 54, 24, 6, 2, 55, 56, 57, 7, 2, 58, 59, 4, 25, 60]\n"
          ],
          "name": "stdout"
        }
      ]
    },
    {
      "cell_type": "code",
      "metadata": {
        "id": "tvhBFYzF8rj4",
        "colab": {
          "base_uri": "https://localhost:8080/",
          "height": 52
        },
        "outputId": "03996e14-a4ba-4dbc-bdcc-26e5696a4256"
      },
      "source": [
        "# use tokenizer.num_words to reset tokens to take\n",
        "MAX_NUM_TOKENS = 50\n",
        "tokenizer.num_words = MAX_NUM_TOKENS\n",
        "print(tokenizer.num_words)\n",
        "tokenizer.num_words = None\n",
        "print(tokenizer.num_words)\n",
        "# tokenizer.num_words = -1\n",
        "# print(tokenizer.num_words)"
      ],
      "execution_count": null,
      "outputs": [
        {
          "output_type": "stream",
          "text": [
            "50\n",
            "None\n"
          ],
          "name": "stdout"
        }
      ]
    },
    {
      "cell_type": "code",
      "metadata": {
        "id": "pF5UntDd8rkE",
        "colab": {
          "base_uri": "https://localhost:8080/",
          "height": 72
        },
        "outputId": "45f6df55-ddba-43c9-a564-4924dc9f4501"
      },
      "source": [
        "# display the token dictionary (from most freqent to rarest)\n",
        "# Your PC might freeze if the dictionary is huge\n",
        "# these are the 2 useful attributes\n",
        "print(tokenizer.word_index)\n",
        "print(tokenizer.word_counts)\n",
        "# tokenizer.get_config()"
      ],
      "execution_count": null,
      "outputs": [
        {
          "output_type": "stream",
          "text": [
            "{'the': 1, 'a': 2, 'and': 3, 'of': 4, 'to': 5, 'with': 6, 'is': 7, 'this': 8, 'by': 9, 'his': 10, 'movie': 11, 'man': 12, 'for': 13, 'an': 14, 'it': 15, 'should': 16, 'be': 17, 'but': 18, 'costner': 19, 'are': 20, 'story': 21, 'who': 22, 'has': 23, 'out': 24, 'absurd': 25, 'audience': 26, 'turned': 27, \"it's\": 28, 'time': 29, 'off': 30, 'on': 31, 'some': 32, 'future': 33, 'stars': 34, 'seen': 35, 'my': 36, 'troubled': 37, 'past': 38, 'in': 39, 'love': 40, 'played': 41, 'lives': 42, 'he': 43, 'scenes': 44, 'well': 45, 'as': 46, 'her': 47, 'two': 48, 'applause': 49, 'unnatural': 50, 'feelings': 51, 'pig': 52, 'br': 53, 'starts': 54, 'opening': 55, 'scene': 56, 'that': 57, 'terrific': 58, 'example': 59, 'comedy': 60, 'formal': 61, 'orchestra': 62, 'into': 63, 'insane': 64, 'violent': 65, 'mob': 66, 'crazy': 67, 'chantings': 68, 'singers': 69, 'unfortunately': 70, 'stays': 71, 'whole': 72, 'no': 73, 'general': 74, 'narrative': 75, 'eventually': 76, 'making': 77, 'just': 78, 'too': 79, 'putting': 80, 'even': 81, 'those': 82, 'from': 83, 'era': 84, 'cryptic': 85, 'dialogue': 86, 'would': 87, 'make': 88, 'shakespeare': 89, 'seem': 90, 'easy': 91, 'third': 92, 'grader': 93, 'technical': 94, 'level': 95, 'better': 96, 'than': 97, 'you': 98, 'might': 99, 'think': 100, 'good': 101, 'cinematography': 102, 'great': 103, 'vilmos': 104, 'zsigmond': 105, 'sally': 106, 'kirkland': 107, 'frederic': 108, 'forrest': 109, 'can': 110, 'briefly': 111, \"i've\": 112, 'before': 113, 'kids': 114, \"haven't\": 115, 'boy': 116, 'joins': 117, 'military': 118, 'faces': 119, 'falls': 120, 'becomes': 121, 'mentor': 122, 'perfectly': 123, 'kevin': 124, 'ordinary': 125, 'common': 126, 'everyday': 127, 'problems': 128, 'extraordinary': 129, 'conviction': 130, 'save': 131, 'after': 132, 'losing': 133, 'team': 134, 'takes': 135, 'teaching': 136, 'position': 137, 'training': 138, 'next': 139, 'generation': 140, 'heroes': 141, 'young': 142, 'recruit': 143, 'kutcher': 144, 'while': 145, 'local': 146, 'interest': 147, 'tad': 148, 'stiff': 149, \"don't\": 150, 'generate': 151, 'enough': 152, 'heat': 153, 'melt': 154, 'butter': 155, 'compliments': 156, 'i': 157, 'never': 158, 'really': 159, 'understood': 160, 'sela': 161, 'ward': 162, 'neglected': 163, 'wife': 164, 'felt': 165, 'she': 166, 'wanted': 167, 'quit': 168, 'concern': 169, 'safety': 170, 'opposed': 171, 'selfish': 172, 'needs': 173, 'presence': 174, 'screen': 175, 'pleasure': 176, 'unaccredited': 177, 'coast': 178, 'guard': 179, 'sea': 180, 'both': 181, 'powerful': 182, 'forces': 183, 'which': 184, 'not': 185, 'taken': 186, 'granted': 187, 'real': 188, 'life': 189, 'or': 190, 'slow': 191, 'spots': 192, 'could': 193, 'have': 194, 'used': 195, 'wasted': 196, '15': 197, 'minutes': 198, 'strengthen': 199, 'character': 200, 'relationships': 201, 'still': 202, 'works': 203, 'rescue': 204, 'intense': 205, 'filmed': 206, 'edited': 207, 'provide': 208, 'maximum': 209, 'impact': 210, 'earns': 211, 'sons': 212}\n",
            "OrderedDict([('story', 2), ('of', 8), ('a', 11), ('man', 3), ('who', 2), ('has', 2), ('unnatural', 1), ('feelings', 1), ('for', 3), ('pig', 1), ('br', 1), ('starts', 1), ('out', 2), ('with', 6), ('opening', 1), ('scene', 1), ('that', 1), ('is', 5), ('terrific', 1), ('example', 1), ('absurd', 2), ('comedy', 1), ('formal', 1), ('orchestra', 1), ('audience', 2), ('turned', 2), ('into', 1), ('an', 3), ('insane', 1), ('violent', 1), ('mob', 1), ('by', 4), ('the', 18), ('crazy', 1), ('chantings', 1), (\"it's\", 2), ('singers', 1), ('unfortunately', 1), ('it', 3), ('stays', 1), ('whole', 1), ('time', 2), ('no', 1), ('general', 1), ('narrative', 1), ('eventually', 1), ('making', 1), ('just', 1), ('too', 1), ('off', 2), ('putting', 1), ('even', 1), ('those', 1), ('from', 1), ('era', 1), ('should', 3), ('be', 3), ('cryptic', 1), ('dialogue', 1), ('would', 1), ('make', 1), ('shakespeare', 1), ('seem', 1), ('easy', 1), ('to', 7), ('third', 1), ('grader', 1), ('on', 2), ('technical', 1), ('level', 1), ('better', 1), ('than', 1), ('you', 1), ('might', 1), ('think', 1), ('some', 2), ('good', 1), ('cinematography', 1), ('future', 2), ('great', 1), ('vilmos', 1), ('zsigmond', 1), ('stars', 2), ('sally', 1), ('kirkland', 1), ('and', 9), ('frederic', 1), ('forrest', 1), ('can', 1), ('seen', 2), ('briefly', 1), (\"i've\", 1), ('this', 5), ('before', 1), ('but', 3), ('my', 2), ('kids', 1), (\"haven't\", 1), ('boy', 1), ('troubled', 2), ('past', 2), ('joins', 1), ('military', 1), ('faces', 1), ('his', 4), ('falls', 1), ('in', 2), ('love', 2), ('becomes', 1), ('mentor', 1), ('played', 2), ('perfectly', 1), ('kevin', 1), ('costner', 3), ('ordinary', 1), ('common', 1), ('everyday', 1), ('problems', 1), ('lives', 2), ('extraordinary', 1), ('conviction', 1), ('save', 1), ('after', 1), ('losing', 1), ('team', 1), ('he', 2), ('takes', 1), ('teaching', 1), ('position', 1), ('training', 1), ('next', 1), ('generation', 1), ('heroes', 1), ('young', 1), ('recruit', 1), ('kutcher', 1), ('while', 1), ('scenes', 2), ('local', 1), ('interest', 1), ('are', 3), ('tad', 1), ('stiff', 1), (\"don't\", 1), ('generate', 1), ('enough', 1), ('heat', 1), ('melt', 1), ('butter', 1), ('compliments', 1), ('well', 2), ('i', 1), ('never', 1), ('really', 1), ('understood', 1), ('sela', 1), ('ward', 1), ('as', 2), ('neglected', 1), ('wife', 1), ('felt', 1), ('she', 1), ('wanted', 1), ('quit', 1), ('concern', 1), ('safety', 1), ('opposed', 1), ('her', 2), ('selfish', 1), ('needs', 1), ('presence', 1), ('screen', 1), ('pleasure', 1), ('two', 2), ('unaccredited', 1), ('movie', 4), ('coast', 1), ('guard', 1), ('sea', 1), ('both', 1), ('powerful', 1), ('forces', 1), ('which', 1), ('not', 1), ('taken', 1), ('granted', 1), ('real', 1), ('life', 1), ('or', 1), ('slow', 1), ('spots', 1), ('could', 1), ('have', 1), ('used', 1), ('wasted', 1), ('15', 1), ('minutes', 1), ('strengthen', 1), ('character', 1), ('relationships', 1), ('still', 1), ('works', 1), ('rescue', 1), ('intense', 1), ('filmed', 1), ('edited', 1), ('provide', 1), ('maximum', 1), ('impact', 1), ('earns', 1), ('applause', 2), ('sons', 1)])\n"
          ],
          "name": "stdout"
        }
      ]
    },
    {
      "cell_type": "code",
      "metadata": {
        "id": "AESgERrF8rkL",
        "colab": {
          "base_uri": "https://localhost:8080/",
          "height": 250
        },
        "outputId": "fb76ecc8-5016-4e32-d460-abebcb1603f0"
      },
      "source": [
        "tokenizer.get_config()"
      ],
      "execution_count": null,
      "outputs": [
        {
          "output_type": "execute_result",
          "data": {
            "text/plain": [
              "{'char_level': False,\n",
              " 'document_count': 18,\n",
              " 'filters': '!\"#$%&()*+,-./:;<=>?@[\\\\]^_`{|}~\\t\\n',\n",
              " 'index_docs': '{\"56\": 1, \"53\": 1, \"51\": 1, \"4\": 6, \"59\": 1, \"13\": 3, \"55\": 1, \"50\": 1, \"60\": 1, \"52\": 1, \"54\": 1, \"2\": 8, \"7\": 5, \"57\": 1, \"22\": 2, \"58\": 1, \"6\": 6, \"21\": 2, \"25\": 2, \"12\": 3, \"23\": 2, \"24\": 2, \"63\": 1, \"14\": 2, \"9\": 4, \"65\": 1, \"67\": 1, \"26\": 2, \"69\": 1, \"66\": 1, \"27\": 2, \"28\": 2, \"61\": 1, \"1\": 12, \"64\": 1, \"68\": 1, \"62\": 1, \"78\": 1, \"15\": 2, \"74\": 1, \"72\": 1, \"77\": 1, \"29\": 2, \"71\": 1, \"79\": 1, \"30\": 2, \"80\": 1, \"75\": 1, \"70\": 1, \"73\": 1, \"76\": 1, \"82\": 1, \"17\": 3, \"86\": 1, \"90\": 1, \"87\": 1, \"91\": 1, \"89\": 1, \"5\": 6, \"93\": 1, \"92\": 1, \"81\": 1, \"84\": 1, \"83\": 1, \"16\": 3, \"88\": 1, \"85\": 1, \"96\": 1, \"104\": 1, \"31\": 2, \"99\": 1, \"95\": 1, \"98\": 1, \"102\": 1, \"32\": 2, \"33\": 2, \"105\": 1, \"97\": 1, \"94\": 1, \"100\": 1, \"103\": 1, \"101\": 1, \"110\": 1, \"106\": 1, \"107\": 1, \"108\": 1, \"34\": 2, \"3\": 8, \"111\": 1, \"35\": 2, \"109\": 1, \"115\": 1, \"113\": 1, \"36\": 2, \"112\": 1, \"8\": 5, \"18\": 3, \"114\": 1, \"121\": 1, \"40\": 2, \"39\": 2, \"118\": 1, \"117\": 1, \"116\": 1, \"37\": 2, \"119\": 1, \"120\": 1, \"38\": 1, \"10\": 4, \"126\": 1, \"124\": 1, \"127\": 1, \"130\": 1, \"125\": 1, \"128\": 1, \"129\": 1, \"42\": 1, \"123\": 1, \"19\": 3, \"41\": 2, \"122\": 1, \"131\": 1, \"137\": 1, \"141\": 1, \"43\": 2, \"132\": 1, \"134\": 1, \"139\": 1, \"133\": 1, \"135\": 1, \"140\": 1, \"136\": 1, \"138\": 1, \"142\": 1, \"144\": 1, \"143\": 1, \"150\": 1, \"149\": 1, \"151\": 1, \"20\": 3, \"45\": 2, \"147\": 1, \"148\": 1, \"152\": 1, \"154\": 1, \"156\": 1, \"145\": 1, \"146\": 1, \"153\": 1, \"44\": 2, \"155\": 1, \"161\": 1, \"158\": 1, \"171\": 1, \"157\": 1, \"47\": 2, \"162\": 1, \"172\": 1, \"167\": 1, \"164\": 1, \"46\": 1, \"173\": 1, \"169\": 1, \"166\": 1, \"159\": 1, \"170\": 1, \"163\": 1, \"168\": 1, \"160\": 1, \"165\": 1, \"11\": 4, \"175\": 1, \"176\": 1, \"48\": 2, \"178\": 1, \"179\": 1, \"174\": 1, \"180\": 1, \"177\": 1, \"187\": 1, \"182\": 1, \"189\": 1, \"188\": 1, \"183\": 1, \"181\": 1, \"185\": 1, \"190\": 1, \"186\": 1, \"184\": 1, \"193\": 1, \"197\": 1, \"200\": 1, \"196\": 1, \"195\": 1, \"192\": 1, \"198\": 1, \"199\": 1, \"194\": 1, \"191\": 1, \"201\": 1, \"209\": 1, \"203\": 1, \"208\": 1, \"210\": 1, \"206\": 1, \"207\": 1, \"204\": 1, \"205\": 1, \"202\": 1, \"49\": 1, \"211\": 1, \"212\": 1}',\n",
              " 'index_word': '{\"1\": \"the\", \"2\": \"a\", \"3\": \"and\", \"4\": \"of\", \"5\": \"to\", \"6\": \"with\", \"7\": \"is\", \"8\": \"this\", \"9\": \"by\", \"10\": \"his\", \"11\": \"movie\", \"12\": \"man\", \"13\": \"for\", \"14\": \"an\", \"15\": \"it\", \"16\": \"should\", \"17\": \"be\", \"18\": \"but\", \"19\": \"costner\", \"20\": \"are\", \"21\": \"story\", \"22\": \"who\", \"23\": \"has\", \"24\": \"out\", \"25\": \"absurd\", \"26\": \"audience\", \"27\": \"turned\", \"28\": \"it\\'s\", \"29\": \"time\", \"30\": \"off\", \"31\": \"on\", \"32\": \"some\", \"33\": \"future\", \"34\": \"stars\", \"35\": \"seen\", \"36\": \"my\", \"37\": \"troubled\", \"38\": \"past\", \"39\": \"in\", \"40\": \"love\", \"41\": \"played\", \"42\": \"lives\", \"43\": \"he\", \"44\": \"scenes\", \"45\": \"well\", \"46\": \"as\", \"47\": \"her\", \"48\": \"two\", \"49\": \"applause\", \"50\": \"unnatural\", \"51\": \"feelings\", \"52\": \"pig\", \"53\": \"br\", \"54\": \"starts\", \"55\": \"opening\", \"56\": \"scene\", \"57\": \"that\", \"58\": \"terrific\", \"59\": \"example\", \"60\": \"comedy\", \"61\": \"formal\", \"62\": \"orchestra\", \"63\": \"into\", \"64\": \"insane\", \"65\": \"violent\", \"66\": \"mob\", \"67\": \"crazy\", \"68\": \"chantings\", \"69\": \"singers\", \"70\": \"unfortunately\", \"71\": \"stays\", \"72\": \"whole\", \"73\": \"no\", \"74\": \"general\", \"75\": \"narrative\", \"76\": \"eventually\", \"77\": \"making\", \"78\": \"just\", \"79\": \"too\", \"80\": \"putting\", \"81\": \"even\", \"82\": \"those\", \"83\": \"from\", \"84\": \"era\", \"85\": \"cryptic\", \"86\": \"dialogue\", \"87\": \"would\", \"88\": \"make\", \"89\": \"shakespeare\", \"90\": \"seem\", \"91\": \"easy\", \"92\": \"third\", \"93\": \"grader\", \"94\": \"technical\", \"95\": \"level\", \"96\": \"better\", \"97\": \"than\", \"98\": \"you\", \"99\": \"might\", \"100\": \"think\", \"101\": \"good\", \"102\": \"cinematography\", \"103\": \"great\", \"104\": \"vilmos\", \"105\": \"zsigmond\", \"106\": \"sally\", \"107\": \"kirkland\", \"108\": \"frederic\", \"109\": \"forrest\", \"110\": \"can\", \"111\": \"briefly\", \"112\": \"i\\'ve\", \"113\": \"before\", \"114\": \"kids\", \"115\": \"haven\\'t\", \"116\": \"boy\", \"117\": \"joins\", \"118\": \"military\", \"119\": \"faces\", \"120\": \"falls\", \"121\": \"becomes\", \"122\": \"mentor\", \"123\": \"perfectly\", \"124\": \"kevin\", \"125\": \"ordinary\", \"126\": \"common\", \"127\": \"everyday\", \"128\": \"problems\", \"129\": \"extraordinary\", \"130\": \"conviction\", \"131\": \"save\", \"132\": \"after\", \"133\": \"losing\", \"134\": \"team\", \"135\": \"takes\", \"136\": \"teaching\", \"137\": \"position\", \"138\": \"training\", \"139\": \"next\", \"140\": \"generation\", \"141\": \"heroes\", \"142\": \"young\", \"143\": \"recruit\", \"144\": \"kutcher\", \"145\": \"while\", \"146\": \"local\", \"147\": \"interest\", \"148\": \"tad\", \"149\": \"stiff\", \"150\": \"don\\'t\", \"151\": \"generate\", \"152\": \"enough\", \"153\": \"heat\", \"154\": \"melt\", \"155\": \"butter\", \"156\": \"compliments\", \"157\": \"i\", \"158\": \"never\", \"159\": \"really\", \"160\": \"understood\", \"161\": \"sela\", \"162\": \"ward\", \"163\": \"neglected\", \"164\": \"wife\", \"165\": \"felt\", \"166\": \"she\", \"167\": \"wanted\", \"168\": \"quit\", \"169\": \"concern\", \"170\": \"safety\", \"171\": \"opposed\", \"172\": \"selfish\", \"173\": \"needs\", \"174\": \"presence\", \"175\": \"screen\", \"176\": \"pleasure\", \"177\": \"unaccredited\", \"178\": \"coast\", \"179\": \"guard\", \"180\": \"sea\", \"181\": \"both\", \"182\": \"powerful\", \"183\": \"forces\", \"184\": \"which\", \"185\": \"not\", \"186\": \"taken\", \"187\": \"granted\", \"188\": \"real\", \"189\": \"life\", \"190\": \"or\", \"191\": \"slow\", \"192\": \"spots\", \"193\": \"could\", \"194\": \"have\", \"195\": \"used\", \"196\": \"wasted\", \"197\": \"15\", \"198\": \"minutes\", \"199\": \"strengthen\", \"200\": \"character\", \"201\": \"relationships\", \"202\": \"still\", \"203\": \"works\", \"204\": \"rescue\", \"205\": \"intense\", \"206\": \"filmed\", \"207\": \"edited\", \"208\": \"provide\", \"209\": \"maximum\", \"210\": \"impact\", \"211\": \"earns\", \"212\": \"sons\"}',\n",
              " 'lower': True,\n",
              " 'num_words': None,\n",
              " 'oov_token': None,\n",
              " 'split': ' ',\n",
              " 'word_counts': '{\"story\": 2, \"of\": 8, \"a\": 11, \"man\": 3, \"who\": 2, \"has\": 2, \"unnatural\": 1, \"feelings\": 1, \"for\": 3, \"pig\": 1, \"br\": 1, \"starts\": 1, \"out\": 2, \"with\": 6, \"opening\": 1, \"scene\": 1, \"that\": 1, \"is\": 5, \"terrific\": 1, \"example\": 1, \"absurd\": 2, \"comedy\": 1, \"formal\": 1, \"orchestra\": 1, \"audience\": 2, \"turned\": 2, \"into\": 1, \"an\": 3, \"insane\": 1, \"violent\": 1, \"mob\": 1, \"by\": 4, \"the\": 18, \"crazy\": 1, \"chantings\": 1, \"it\\'s\": 2, \"singers\": 1, \"unfortunately\": 1, \"it\": 3, \"stays\": 1, \"whole\": 1, \"time\": 2, \"no\": 1, \"general\": 1, \"narrative\": 1, \"eventually\": 1, \"making\": 1, \"just\": 1, \"too\": 1, \"off\": 2, \"putting\": 1, \"even\": 1, \"those\": 1, \"from\": 1, \"era\": 1, \"should\": 3, \"be\": 3, \"cryptic\": 1, \"dialogue\": 1, \"would\": 1, \"make\": 1, \"shakespeare\": 1, \"seem\": 1, \"easy\": 1, \"to\": 7, \"third\": 1, \"grader\": 1, \"on\": 2, \"technical\": 1, \"level\": 1, \"better\": 1, \"than\": 1, \"you\": 1, \"might\": 1, \"think\": 1, \"some\": 2, \"good\": 1, \"cinematography\": 1, \"future\": 2, \"great\": 1, \"vilmos\": 1, \"zsigmond\": 1, \"stars\": 2, \"sally\": 1, \"kirkland\": 1, \"and\": 9, \"frederic\": 1, \"forrest\": 1, \"can\": 1, \"seen\": 2, \"briefly\": 1, \"i\\'ve\": 1, \"this\": 5, \"before\": 1, \"but\": 3, \"my\": 2, \"kids\": 1, \"haven\\'t\": 1, \"boy\": 1, \"troubled\": 2, \"past\": 2, \"joins\": 1, \"military\": 1, \"faces\": 1, \"his\": 4, \"falls\": 1, \"in\": 2, \"love\": 2, \"becomes\": 1, \"mentor\": 1, \"played\": 2, \"perfectly\": 1, \"kevin\": 1, \"costner\": 3, \"ordinary\": 1, \"common\": 1, \"everyday\": 1, \"problems\": 1, \"lives\": 2, \"extraordinary\": 1, \"conviction\": 1, \"save\": 1, \"after\": 1, \"losing\": 1, \"team\": 1, \"he\": 2, \"takes\": 1, \"teaching\": 1, \"position\": 1, \"training\": 1, \"next\": 1, \"generation\": 1, \"heroes\": 1, \"young\": 1, \"recruit\": 1, \"kutcher\": 1, \"while\": 1, \"scenes\": 2, \"local\": 1, \"interest\": 1, \"are\": 3, \"tad\": 1, \"stiff\": 1, \"don\\'t\": 1, \"generate\": 1, \"enough\": 1, \"heat\": 1, \"melt\": 1, \"butter\": 1, \"compliments\": 1, \"well\": 2, \"i\": 1, \"never\": 1, \"really\": 1, \"understood\": 1, \"sela\": 1, \"ward\": 1, \"as\": 2, \"neglected\": 1, \"wife\": 1, \"felt\": 1, \"she\": 1, \"wanted\": 1, \"quit\": 1, \"concern\": 1, \"safety\": 1, \"opposed\": 1, \"her\": 2, \"selfish\": 1, \"needs\": 1, \"presence\": 1, \"screen\": 1, \"pleasure\": 1, \"two\": 2, \"unaccredited\": 1, \"movie\": 4, \"coast\": 1, \"guard\": 1, \"sea\": 1, \"both\": 1, \"powerful\": 1, \"forces\": 1, \"which\": 1, \"not\": 1, \"taken\": 1, \"granted\": 1, \"real\": 1, \"life\": 1, \"or\": 1, \"slow\": 1, \"spots\": 1, \"could\": 1, \"have\": 1, \"used\": 1, \"wasted\": 1, \"15\": 1, \"minutes\": 1, \"strengthen\": 1, \"character\": 1, \"relationships\": 1, \"still\": 1, \"works\": 1, \"rescue\": 1, \"intense\": 1, \"filmed\": 1, \"edited\": 1, \"provide\": 1, \"maximum\": 1, \"impact\": 1, \"earns\": 1, \"applause\": 2, \"sons\": 1}',\n",
              " 'word_docs': '{\"scene\": 1, \"br\": 1, \"feelings\": 1, \"of\": 6, \"example\": 1, \"for\": 3, \"opening\": 1, \"unnatural\": 1, \"comedy\": 1, \"pig\": 1, \"starts\": 1, \"a\": 8, \"is\": 5, \"that\": 1, \"who\": 2, \"terrific\": 1, \"with\": 6, \"story\": 2, \"absurd\": 2, \"man\": 3, \"has\": 2, \"out\": 2, \"into\": 1, \"an\": 2, \"by\": 4, \"violent\": 1, \"crazy\": 1, \"audience\": 2, \"singers\": 1, \"mob\": 1, \"turned\": 2, \"it\\'s\": 2, \"formal\": 1, \"the\": 12, \"insane\": 1, \"chantings\": 1, \"orchestra\": 1, \"just\": 1, \"it\": 2, \"general\": 1, \"whole\": 1, \"making\": 1, \"time\": 2, \"stays\": 1, \"too\": 1, \"off\": 2, \"putting\": 1, \"narrative\": 1, \"unfortunately\": 1, \"no\": 1, \"eventually\": 1, \"those\": 1, \"be\": 3, \"dialogue\": 1, \"seem\": 1, \"would\": 1, \"easy\": 1, \"shakespeare\": 1, \"to\": 6, \"grader\": 1, \"third\": 1, \"even\": 1, \"era\": 1, \"from\": 1, \"should\": 3, \"make\": 1, \"cryptic\": 1, \"better\": 1, \"vilmos\": 1, \"on\": 2, \"might\": 1, \"level\": 1, \"you\": 1, \"cinematography\": 1, \"some\": 2, \"future\": 2, \"zsigmond\": 1, \"than\": 1, \"technical\": 1, \"think\": 1, \"great\": 1, \"good\": 1, \"can\": 1, \"sally\": 1, \"kirkland\": 1, \"frederic\": 1, \"stars\": 2, \"and\": 8, \"briefly\": 1, \"seen\": 2, \"forrest\": 1, \"haven\\'t\": 1, \"before\": 1, \"my\": 2, \"i\\'ve\": 1, \"this\": 5, \"but\": 3, \"kids\": 1, \"becomes\": 1, \"love\": 2, \"in\": 2, \"military\": 1, \"joins\": 1, \"boy\": 1, \"troubled\": 2, \"faces\": 1, \"falls\": 1, \"past\": 1, \"his\": 4, \"common\": 1, \"kevin\": 1, \"everyday\": 1, \"conviction\": 1, \"ordinary\": 1, \"problems\": 1, \"extraordinary\": 1, \"lives\": 1, \"perfectly\": 1, \"costner\": 3, \"played\": 2, \"mentor\": 1, \"save\": 1, \"position\": 1, \"heroes\": 1, \"he\": 2, \"after\": 1, \"team\": 1, \"next\": 1, \"losing\": 1, \"takes\": 1, \"generation\": 1, \"teaching\": 1, \"training\": 1, \"young\": 1, \"kutcher\": 1, \"recruit\": 1, \"don\\'t\": 1, \"stiff\": 1, \"generate\": 1, \"are\": 3, \"well\": 2, \"interest\": 1, \"tad\": 1, \"enough\": 1, \"melt\": 1, \"compliments\": 1, \"while\": 1, \"local\": 1, \"heat\": 1, \"scenes\": 2, \"butter\": 1, \"sela\": 1, \"never\": 1, \"opposed\": 1, \"i\": 1, \"her\": 2, \"ward\": 1, \"selfish\": 1, \"wanted\": 1, \"wife\": 1, \"as\": 1, \"needs\": 1, \"concern\": 1, \"she\": 1, \"really\": 1, \"safety\": 1, \"neglected\": 1, \"quit\": 1, \"understood\": 1, \"felt\": 1, \"movie\": 4, \"screen\": 1, \"pleasure\": 1, \"two\": 2, \"coast\": 1, \"guard\": 1, \"presence\": 1, \"sea\": 1, \"unaccredited\": 1, \"granted\": 1, \"powerful\": 1, \"life\": 1, \"real\": 1, \"forces\": 1, \"both\": 1, \"not\": 1, \"or\": 1, \"taken\": 1, \"which\": 1, \"could\": 1, \"15\": 1, \"character\": 1, \"wasted\": 1, \"used\": 1, \"spots\": 1, \"minutes\": 1, \"strengthen\": 1, \"have\": 1, \"slow\": 1, \"relationships\": 1, \"maximum\": 1, \"works\": 1, \"provide\": 1, \"impact\": 1, \"filmed\": 1, \"edited\": 1, \"rescue\": 1, \"intense\": 1, \"still\": 1, \"applause\": 1, \"earns\": 1, \"sons\": 1}',\n",
              " 'word_index': '{\"the\": 1, \"a\": 2, \"and\": 3, \"of\": 4, \"to\": 5, \"with\": 6, \"is\": 7, \"this\": 8, \"by\": 9, \"his\": 10, \"movie\": 11, \"man\": 12, \"for\": 13, \"an\": 14, \"it\": 15, \"should\": 16, \"be\": 17, \"but\": 18, \"costner\": 19, \"are\": 20, \"story\": 21, \"who\": 22, \"has\": 23, \"out\": 24, \"absurd\": 25, \"audience\": 26, \"turned\": 27, \"it\\'s\": 28, \"time\": 29, \"off\": 30, \"on\": 31, \"some\": 32, \"future\": 33, \"stars\": 34, \"seen\": 35, \"my\": 36, \"troubled\": 37, \"past\": 38, \"in\": 39, \"love\": 40, \"played\": 41, \"lives\": 42, \"he\": 43, \"scenes\": 44, \"well\": 45, \"as\": 46, \"her\": 47, \"two\": 48, \"applause\": 49, \"unnatural\": 50, \"feelings\": 51, \"pig\": 52, \"br\": 53, \"starts\": 54, \"opening\": 55, \"scene\": 56, \"that\": 57, \"terrific\": 58, \"example\": 59, \"comedy\": 60, \"formal\": 61, \"orchestra\": 62, \"into\": 63, \"insane\": 64, \"violent\": 65, \"mob\": 66, \"crazy\": 67, \"chantings\": 68, \"singers\": 69, \"unfortunately\": 70, \"stays\": 71, \"whole\": 72, \"no\": 73, \"general\": 74, \"narrative\": 75, \"eventually\": 76, \"making\": 77, \"just\": 78, \"too\": 79, \"putting\": 80, \"even\": 81, \"those\": 82, \"from\": 83, \"era\": 84, \"cryptic\": 85, \"dialogue\": 86, \"would\": 87, \"make\": 88, \"shakespeare\": 89, \"seem\": 90, \"easy\": 91, \"third\": 92, \"grader\": 93, \"technical\": 94, \"level\": 95, \"better\": 96, \"than\": 97, \"you\": 98, \"might\": 99, \"think\": 100, \"good\": 101, \"cinematography\": 102, \"great\": 103, \"vilmos\": 104, \"zsigmond\": 105, \"sally\": 106, \"kirkland\": 107, \"frederic\": 108, \"forrest\": 109, \"can\": 110, \"briefly\": 111, \"i\\'ve\": 112, \"before\": 113, \"kids\": 114, \"haven\\'t\": 115, \"boy\": 116, \"joins\": 117, \"military\": 118, \"faces\": 119, \"falls\": 120, \"becomes\": 121, \"mentor\": 122, \"perfectly\": 123, \"kevin\": 124, \"ordinary\": 125, \"common\": 126, \"everyday\": 127, \"problems\": 128, \"extraordinary\": 129, \"conviction\": 130, \"save\": 131, \"after\": 132, \"losing\": 133, \"team\": 134, \"takes\": 135, \"teaching\": 136, \"position\": 137, \"training\": 138, \"next\": 139, \"generation\": 140, \"heroes\": 141, \"young\": 142, \"recruit\": 143, \"kutcher\": 144, \"while\": 145, \"local\": 146, \"interest\": 147, \"tad\": 148, \"stiff\": 149, \"don\\'t\": 150, \"generate\": 151, \"enough\": 152, \"heat\": 153, \"melt\": 154, \"butter\": 155, \"compliments\": 156, \"i\": 157, \"never\": 158, \"really\": 159, \"understood\": 160, \"sela\": 161, \"ward\": 162, \"neglected\": 163, \"wife\": 164, \"felt\": 165, \"she\": 166, \"wanted\": 167, \"quit\": 168, \"concern\": 169, \"safety\": 170, \"opposed\": 171, \"selfish\": 172, \"needs\": 173, \"presence\": 174, \"screen\": 175, \"pleasure\": 176, \"unaccredited\": 177, \"coast\": 178, \"guard\": 179, \"sea\": 180, \"both\": 181, \"powerful\": 182, \"forces\": 183, \"which\": 184, \"not\": 185, \"taken\": 186, \"granted\": 187, \"real\": 188, \"life\": 189, \"or\": 190, \"slow\": 191, \"spots\": 192, \"could\": 193, \"have\": 194, \"used\": 195, \"wasted\": 196, \"15\": 197, \"minutes\": 198, \"strengthen\": 199, \"character\": 200, \"relationships\": 201, \"still\": 202, \"works\": 203, \"rescue\": 204, \"intense\": 205, \"filmed\": 206, \"edited\": 207, \"provide\": 208, \"maximum\": 209, \"impact\": 210, \"earns\": 211, \"sons\": 212}'}"
            ]
          },
          "metadata": {
            "tags": []
          },
          "execution_count": 9
        }
      ]
    },
    {
      "cell_type": "code",
      "metadata": {
        "id": "gnehi1Mk8rkS",
        "colab": {
          "base_uri": "https://localhost:8080/",
          "height": 194
        },
        "outputId": "a6533885-2494-44cd-eb2f-4cab415d9e2c"
      },
      "source": [
        "# store in data frame\n",
        "df_index_word = pd.Series(tokenizer.index_word).reset_index()\n",
        "df_index_word.columns=['token_index','token',]\n",
        "df_index_word.head()"
      ],
      "execution_count": null,
      "outputs": [
        {
          "output_type": "execute_result",
          "data": {
            "text/html": [
              "<div>\n",
              "<style scoped>\n",
              "    .dataframe tbody tr th:only-of-type {\n",
              "        vertical-align: middle;\n",
              "    }\n",
              "\n",
              "    .dataframe tbody tr th {\n",
              "        vertical-align: top;\n",
              "    }\n",
              "\n",
              "    .dataframe thead th {\n",
              "        text-align: right;\n",
              "    }\n",
              "</style>\n",
              "<table border=\"1\" class=\"dataframe\">\n",
              "  <thead>\n",
              "    <tr style=\"text-align: right;\">\n",
              "      <th></th>\n",
              "      <th>token_index</th>\n",
              "      <th>token</th>\n",
              "    </tr>\n",
              "  </thead>\n",
              "  <tbody>\n",
              "    <tr>\n",
              "      <th>0</th>\n",
              "      <td>1</td>\n",
              "      <td>the</td>\n",
              "    </tr>\n",
              "    <tr>\n",
              "      <th>1</th>\n",
              "      <td>2</td>\n",
              "      <td>a</td>\n",
              "    </tr>\n",
              "    <tr>\n",
              "      <th>2</th>\n",
              "      <td>3</td>\n",
              "      <td>and</td>\n",
              "    </tr>\n",
              "    <tr>\n",
              "      <th>3</th>\n",
              "      <td>4</td>\n",
              "      <td>of</td>\n",
              "    </tr>\n",
              "    <tr>\n",
              "      <th>4</th>\n",
              "      <td>5</td>\n",
              "      <td>to</td>\n",
              "    </tr>\n",
              "  </tbody>\n",
              "</table>\n",
              "</div>"
            ],
            "text/plain": [
              "   token_index token\n",
              "0            1   the\n",
              "1            2     a\n",
              "2            3   and\n",
              "3            4    of\n",
              "4            5    to"
            ]
          },
          "metadata": {
            "tags": []
          },
          "execution_count": 10
        }
      ]
    },
    {
      "cell_type": "code",
      "metadata": {
        "id": "6SZdpEJG8rkZ",
        "colab": {
          "base_uri": "https://localhost:8080/",
          "height": 194
        },
        "outputId": "b319c840-c1d3-4099-d0ab-dbe5a4eb1811"
      },
      "source": [
        "# show that the token-id/token-index is sorted by count (but if count number are the same, it might end up random)\n",
        "df_token_by_count = pd.DataFrame(tokenizer.word_counts.items())\n",
        "df_token_by_count.columns=['token', 'count']\n",
        "df_token_by_count = pd.merge(df_index_word, df_token_by_count,\n",
        "                            on='token',\n",
        "                            how='left')\n",
        "df_token_by_count.head()"
      ],
      "execution_count": null,
      "outputs": [
        {
          "output_type": "execute_result",
          "data": {
            "text/html": [
              "<div>\n",
              "<style scoped>\n",
              "    .dataframe tbody tr th:only-of-type {\n",
              "        vertical-align: middle;\n",
              "    }\n",
              "\n",
              "    .dataframe tbody tr th {\n",
              "        vertical-align: top;\n",
              "    }\n",
              "\n",
              "    .dataframe thead th {\n",
              "        text-align: right;\n",
              "    }\n",
              "</style>\n",
              "<table border=\"1\" class=\"dataframe\">\n",
              "  <thead>\n",
              "    <tr style=\"text-align: right;\">\n",
              "      <th></th>\n",
              "      <th>token_index</th>\n",
              "      <th>token</th>\n",
              "      <th>count</th>\n",
              "    </tr>\n",
              "  </thead>\n",
              "  <tbody>\n",
              "    <tr>\n",
              "      <th>0</th>\n",
              "      <td>1</td>\n",
              "      <td>the</td>\n",
              "      <td>18</td>\n",
              "    </tr>\n",
              "    <tr>\n",
              "      <th>1</th>\n",
              "      <td>2</td>\n",
              "      <td>a</td>\n",
              "      <td>11</td>\n",
              "    </tr>\n",
              "    <tr>\n",
              "      <th>2</th>\n",
              "      <td>3</td>\n",
              "      <td>and</td>\n",
              "      <td>9</td>\n",
              "    </tr>\n",
              "    <tr>\n",
              "      <th>3</th>\n",
              "      <td>4</td>\n",
              "      <td>of</td>\n",
              "      <td>8</td>\n",
              "    </tr>\n",
              "    <tr>\n",
              "      <th>4</th>\n",
              "      <td>5</td>\n",
              "      <td>to</td>\n",
              "      <td>7</td>\n",
              "    </tr>\n",
              "  </tbody>\n",
              "</table>\n",
              "</div>"
            ],
            "text/plain": [
              "   token_index token  count\n",
              "0            1   the     18\n",
              "1            2     a     11\n",
              "2            3   and      9\n",
              "3            4    of      8\n",
              "4            5    to      7"
            ]
          },
          "metadata": {
            "tags": []
          },
          "execution_count": 11
        }
      ]
    },
    {
      "cell_type": "code",
      "metadata": {
        "id": "FEAKAgeP8rkg",
        "colab": {
          "base_uri": "https://localhost:8080/",
          "height": 126
        },
        "outputId": "d35c1e4c-de39-4102-88c2-ad06187cfd89"
      },
      "source": [
        "# compare the number of tokens and tokens after cut-off\n",
        "train_sequences = tokenizer.texts_to_sequences(raw_text) #Converting text to a vector of word indexes\n",
        "# print(len(text_to_word_sequence(raw_text[0])), len(train_sequences[0]))\n",
        "print(raw_text[0])\n",
        "print(text_to_word_sequence(raw_text[0]))\n",
        "print()\n",
        "tokenizer.num_words = None # take all the tokens\n",
        "print(tokenizer.texts_to_sequences(raw_text)[0])\n",
        "tokenizer.num_words = 50 # take the top 50-1 tokens\n",
        "print(tokenizer.texts_to_sequences(raw_text)[0])\n"
      ],
      "execution_count": null,
      "outputs": [
        {
          "output_type": "stream",
          "text": [
            "Story of a man who has unnatural feelings for a pig.  <br>  Starts out with a opening scene that is a terrific example of absurd comedy. \n",
            "['story', 'of', 'a', 'man', 'who', 'has', 'unnatural', 'feelings', 'for', 'a', 'pig', 'br', 'starts', 'out', 'with', 'a', 'opening', 'scene', 'that', 'is', 'a', 'terrific', 'example', 'of', 'absurd', 'comedy']\n",
            "\n",
            "[21, 4, 2, 12, 22, 23, 50, 51, 13, 2, 52, 53, 54, 24, 6, 2, 55, 56, 57, 7, 2, 58, 59, 4, 25, 60]\n",
            "[21, 4, 2, 12, 22, 23, 13, 2, 24, 6, 2, 7, 2, 4, 25]\n"
          ],
          "name": "stdout"
        }
      ]
    },
    {
      "cell_type": "code",
      "metadata": {
        "id": "cXmwS5ya8rkn",
        "colab": {
          "base_uri": "https://localhost:8080/",
          "height": 70
        },
        "outputId": "4bc1bab9-1a9c-4686-fb02-65c888d7d0cb"
      },
      "source": [
        "# OOV demo\n",
        "test_sequence = ['Storys of a woman...'] \n",
        "print(test_sequence)\n",
        "print(text_to_word_sequence(test_sequence[0]))\n",
        "print(tokenizer.texts_to_sequences(test_sequence))"
      ],
      "execution_count": null,
      "outputs": [
        {
          "output_type": "stream",
          "text": [
            "['Storys of a woman...']\n",
            "['storys', 'of', 'a', 'woman']\n",
            "[[4, 2]]\n"
          ],
          "name": "stdout"
        }
      ]
    },
    {
      "cell_type": "code",
      "metadata": {
        "id": "Im_rY_0a8rku",
        "colab": {
          "base_uri": "https://localhost:8080/",
          "height": 479
        },
        "outputId": "d728be6d-a023-4242-cc1d-16957ec7758b"
      },
      "source": [
        "# display the token-id and associated token\n",
        "df_word_index = pd.Series(word_index).reset_index()\n",
        "df_word_index.columns=['token','token_index']\n",
        "# df_word_index\n",
        "df_check = pd.merge(pd.DataFrame({'token_index':train_sequences[0]}),\n",
        "        df_word_index,\n",
        "        on='token_index',\n",
        "        how='left')\n",
        "df_check.values"
      ],
      "execution_count": null,
      "outputs": [
        {
          "output_type": "execute_result",
          "data": {
            "text/plain": [
              "array([[21, 'story'],\n",
              "       [4, 'of'],\n",
              "       [2, 'a'],\n",
              "       [12, 'man'],\n",
              "       [22, 'who'],\n",
              "       [23, 'has'],\n",
              "       [50, 'unnatural'],\n",
              "       [51, 'feelings'],\n",
              "       [13, 'for'],\n",
              "       [2, 'a'],\n",
              "       [52, 'pig'],\n",
              "       [53, 'br'],\n",
              "       [54, 'starts'],\n",
              "       [24, 'out'],\n",
              "       [6, 'with'],\n",
              "       [2, 'a'],\n",
              "       [55, 'opening'],\n",
              "       [56, 'scene'],\n",
              "       [57, 'that'],\n",
              "       [7, 'is'],\n",
              "       [2, 'a'],\n",
              "       [58, 'terrific'],\n",
              "       [59, 'example'],\n",
              "       [4, 'of'],\n",
              "       [25, 'absurd'],\n",
              "       [60, 'comedy']], dtype=object)"
            ]
          },
          "metadata": {
            "tags": []
          },
          "execution_count": 14
        }
      ]
    },
    {
      "cell_type": "code",
      "metadata": {
        "id": "b_yKHYOt8rk1",
        "colab": {
          "base_uri": "https://localhost:8080/",
          "height": 370
        },
        "outputId": "e9849864-3d0f-43a8-c057-9af966712a9f"
      },
      "source": [
        "# check what is not in the final tokenized sequence\n",
        "df_check_2 = pd.merge(pd.DataFrame({'token':text_to_word_sequence(raw_text[0])}),\n",
        "                     df_word_index,\n",
        "                     on='token',\n",
        "#          right_on='token',\n",
        "                      how='left')\n",
        "df_check_2[df_check_2.token_index>=MAX_NUM_TOKENS]"
      ],
      "execution_count": null,
      "outputs": [
        {
          "output_type": "execute_result",
          "data": {
            "text/html": [
              "<div>\n",
              "<style scoped>\n",
              "    .dataframe tbody tr th:only-of-type {\n",
              "        vertical-align: middle;\n",
              "    }\n",
              "\n",
              "    .dataframe tbody tr th {\n",
              "        vertical-align: top;\n",
              "    }\n",
              "\n",
              "    .dataframe thead th {\n",
              "        text-align: right;\n",
              "    }\n",
              "</style>\n",
              "<table border=\"1\" class=\"dataframe\">\n",
              "  <thead>\n",
              "    <tr style=\"text-align: right;\">\n",
              "      <th></th>\n",
              "      <th>token</th>\n",
              "      <th>token_index</th>\n",
              "    </tr>\n",
              "  </thead>\n",
              "  <tbody>\n",
              "    <tr>\n",
              "      <th>6</th>\n",
              "      <td>unnatural</td>\n",
              "      <td>50</td>\n",
              "    </tr>\n",
              "    <tr>\n",
              "      <th>7</th>\n",
              "      <td>feelings</td>\n",
              "      <td>51</td>\n",
              "    </tr>\n",
              "    <tr>\n",
              "      <th>10</th>\n",
              "      <td>pig</td>\n",
              "      <td>52</td>\n",
              "    </tr>\n",
              "    <tr>\n",
              "      <th>11</th>\n",
              "      <td>br</td>\n",
              "      <td>53</td>\n",
              "    </tr>\n",
              "    <tr>\n",
              "      <th>12</th>\n",
              "      <td>starts</td>\n",
              "      <td>54</td>\n",
              "    </tr>\n",
              "    <tr>\n",
              "      <th>16</th>\n",
              "      <td>opening</td>\n",
              "      <td>55</td>\n",
              "    </tr>\n",
              "    <tr>\n",
              "      <th>17</th>\n",
              "      <td>scene</td>\n",
              "      <td>56</td>\n",
              "    </tr>\n",
              "    <tr>\n",
              "      <th>18</th>\n",
              "      <td>that</td>\n",
              "      <td>57</td>\n",
              "    </tr>\n",
              "    <tr>\n",
              "      <th>21</th>\n",
              "      <td>terrific</td>\n",
              "      <td>58</td>\n",
              "    </tr>\n",
              "    <tr>\n",
              "      <th>22</th>\n",
              "      <td>example</td>\n",
              "      <td>59</td>\n",
              "    </tr>\n",
              "    <tr>\n",
              "      <th>25</th>\n",
              "      <td>comedy</td>\n",
              "      <td>60</td>\n",
              "    </tr>\n",
              "  </tbody>\n",
              "</table>\n",
              "</div>"
            ],
            "text/plain": [
              "        token  token_index\n",
              "6   unnatural           50\n",
              "7    feelings           51\n",
              "10        pig           52\n",
              "11         br           53\n",
              "12     starts           54\n",
              "16    opening           55\n",
              "17      scene           56\n",
              "18       that           57\n",
              "21   terrific           58\n",
              "22    example           59\n",
              "25     comedy           60"
            ]
          },
          "metadata": {
            "tags": []
          },
          "execution_count": 15
        }
      ]
    },
    {
      "cell_type": "code",
      "metadata": {
        "id": "hEYSmA_q8rk7",
        "colab": {
          "base_uri": "https://localhost:8080/",
          "height": 212
        },
        "outputId": "5c61118c-8d10-4643-9aa3-a98880d42ad3"
      },
      "source": [
        "# updata df_text\n",
        "df_text['token_sequence'] = df_text.raw_text.progress_apply(lambda x: tokenizer.texts_to_sequences([x])[0])\n",
        "df_text.head()"
      ],
      "execution_count": null,
      "outputs": [
        {
          "output_type": "stream",
          "text": [
            "100%|██████████| 18/18 [00:00<00:00, 7752.08it/s]\n"
          ],
          "name": "stderr"
        },
        {
          "output_type": "execute_result",
          "data": {
            "text/html": [
              "<div>\n",
              "<style scoped>\n",
              "    .dataframe tbody tr th:only-of-type {\n",
              "        vertical-align: middle;\n",
              "    }\n",
              "\n",
              "    .dataframe tbody tr th {\n",
              "        vertical-align: top;\n",
              "    }\n",
              "\n",
              "    .dataframe thead th {\n",
              "        text-align: right;\n",
              "    }\n",
              "</style>\n",
              "<table border=\"1\" class=\"dataframe\">\n",
              "  <thead>\n",
              "    <tr style=\"text-align: right;\">\n",
              "      <th></th>\n",
              "      <th>raw_text</th>\n",
              "      <th>token_sequence</th>\n",
              "    </tr>\n",
              "  </thead>\n",
              "  <tbody>\n",
              "    <tr>\n",
              "      <th>0</th>\n",
              "      <td>Story of a man who has unnatural feelings for ...</td>\n",
              "      <td>[21, 4, 2, 12, 22, 23, 13, 2, 24, 6, 2, 7, 2, ...</td>\n",
              "    </tr>\n",
              "    <tr>\n",
              "      <th>1</th>\n",
              "      <td>A formal orchestra audience is turned into an ...</td>\n",
              "      <td>[2, 26, 7, 27, 14, 9, 1, 4, 28]</td>\n",
              "    </tr>\n",
              "    <tr>\n",
              "      <th>2</th>\n",
              "      <td>Unfortunately it stays absurd the WHOLE time w...</td>\n",
              "      <td>[15, 25, 1, 29, 6, 15, 30]</td>\n",
              "    </tr>\n",
              "    <tr>\n",
              "      <th>3</th>\n",
              "      <td>Even those from the era should be turned off. ...</td>\n",
              "      <td>[1, 16, 17, 27, 30, 1, 5, 2]</td>\n",
              "    </tr>\n",
              "    <tr>\n",
              "      <th>4</th>\n",
              "      <td>On a technical level it's better than you migh...</td>\n",
              "      <td>[31, 2, 28, 6, 32, 9, 33]</td>\n",
              "    </tr>\n",
              "  </tbody>\n",
              "</table>\n",
              "</div>"
            ],
            "text/plain": [
              "                                            raw_text                                     token_sequence\n",
              "0  Story of a man who has unnatural feelings for ...  [21, 4, 2, 12, 22, 23, 13, 2, 24, 6, 2, 7, 2, ...\n",
              "1  A formal orchestra audience is turned into an ...                    [2, 26, 7, 27, 14, 9, 1, 4, 28]\n",
              "2  Unfortunately it stays absurd the WHOLE time w...                         [15, 25, 1, 29, 6, 15, 30]\n",
              "3  Even those from the era should be turned off. ...                       [1, 16, 17, 27, 30, 1, 5, 2]\n",
              "4  On a technical level it's better than you migh...                          [31, 2, 28, 6, 32, 9, 33]"
            ]
          },
          "metadata": {
            "tags": []
          },
          "execution_count": 16
        }
      ]
    },
    {
      "cell_type": "markdown",
      "metadata": {
        "id": "iZMXVz698rlC"
      },
      "source": [
        "## Next, Paddding"
      ]
    },
    {
      "cell_type": "code",
      "metadata": {
        "id": "BtSQ0eDZ8rlD"
      },
      "source": [
        "from tensorflow.keras.preprocessing.sequence import pad_sequences"
      ],
      "execution_count": null,
      "outputs": []
    },
    {
      "cell_type": "code",
      "metadata": {
        "id": "ApcgMEA68rlJ",
        "colab": {
          "base_uri": "https://localhost:8080/",
          "height": 1000
        },
        "outputId": "10296d44-58e4-4562-f84e-383ba5c7cb6b"
      },
      "source": [
        "print(type(train_sequences))\n",
        "train_sequences"
      ],
      "execution_count": null,
      "outputs": [
        {
          "output_type": "stream",
          "text": [
            "<class 'list'>\n"
          ],
          "name": "stdout"
        },
        {
          "output_type": "execute_result",
          "data": {
            "text/plain": [
              "[[21,\n",
              "  4,\n",
              "  2,\n",
              "  12,\n",
              "  22,\n",
              "  23,\n",
              "  50,\n",
              "  51,\n",
              "  13,\n",
              "  2,\n",
              "  52,\n",
              "  53,\n",
              "  54,\n",
              "  24,\n",
              "  6,\n",
              "  2,\n",
              "  55,\n",
              "  56,\n",
              "  57,\n",
              "  7,\n",
              "  2,\n",
              "  58,\n",
              "  59,\n",
              "  4,\n",
              "  25,\n",
              "  60],\n",
              " [2, 61, 62, 26, 7, 27, 63, 14, 64, 65, 66, 9, 1, 67, 68, 4, 28, 69],\n",
              " [70, 15, 71, 25, 1, 72, 29, 6, 73, 74, 75, 76, 77, 15, 78, 79, 30, 80],\n",
              " [81,\n",
              "  82,\n",
              "  83,\n",
              "  1,\n",
              "  84,\n",
              "  16,\n",
              "  17,\n",
              "  27,\n",
              "  30,\n",
              "  1,\n",
              "  85,\n",
              "  86,\n",
              "  87,\n",
              "  88,\n",
              "  89,\n",
              "  90,\n",
              "  91,\n",
              "  5,\n",
              "  2,\n",
              "  92,\n",
              "  93],\n",
              " [31,\n",
              "  2,\n",
              "  94,\n",
              "  95,\n",
              "  28,\n",
              "  96,\n",
              "  97,\n",
              "  98,\n",
              "  99,\n",
              "  100,\n",
              "  6,\n",
              "  32,\n",
              "  101,\n",
              "  102,\n",
              "  9,\n",
              "  33,\n",
              "  103,\n",
              "  104,\n",
              "  105],\n",
              " [33, 34, 106, 107, 3, 108, 109, 110, 17, 35, 111],\n",
              " [112, 35, 8, 21, 113, 18, 36, 114, 115],\n",
              " [116, 6, 37, 38, 117, 118, 119, 10, 38, 120, 39, 40, 3, 121, 2, 12],\n",
              " [1,\n",
              "  122,\n",
              "  8,\n",
              "  29,\n",
              "  7,\n",
              "  41,\n",
              "  123,\n",
              "  9,\n",
              "  124,\n",
              "  19,\n",
              "  14,\n",
              "  125,\n",
              "  12,\n",
              "  6,\n",
              "  126,\n",
              "  127,\n",
              "  128,\n",
              "  22,\n",
              "  42,\n",
              "  14,\n",
              "  129,\n",
              "  130,\n",
              "  5,\n",
              "  131,\n",
              "  42],\n",
              " [132, 133, 10, 134, 43, 135, 2, 136, 137, 138, 1, 139, 140, 4, 141],\n",
              " [1, 142, 37, 143, 7, 41, 9, 144],\n",
              " [145,\n",
              "  10,\n",
              "  44,\n",
              "  6,\n",
              "  1,\n",
              "  146,\n",
              "  40,\n",
              "  147,\n",
              "  20,\n",
              "  2,\n",
              "  148,\n",
              "  149,\n",
              "  3,\n",
              "  150,\n",
              "  151,\n",
              "  152,\n",
              "  153,\n",
              "  5,\n",
              "  154,\n",
              "  155,\n",
              "  43,\n",
              "  156,\n",
              "  19,\n",
              "  45],\n",
              " [157,\n",
              "  158,\n",
              "  159,\n",
              "  160,\n",
              "  161,\n",
              "  162,\n",
              "  46,\n",
              "  1,\n",
              "  163,\n",
              "  164,\n",
              "  3,\n",
              "  165,\n",
              "  166,\n",
              "  16,\n",
              "  4,\n",
              "  167,\n",
              "  19,\n",
              "  5,\n",
              "  168,\n",
              "  24,\n",
              "  4,\n",
              "  169,\n",
              "  13,\n",
              "  10,\n",
              "  170,\n",
              "  46,\n",
              "  171,\n",
              "  5,\n",
              "  47,\n",
              "  172,\n",
              "  173],\n",
              " [18,\n",
              "  47,\n",
              "  174,\n",
              "  31,\n",
              "  175,\n",
              "  7,\n",
              "  2,\n",
              "  176,\n",
              "  1,\n",
              "  48,\n",
              "  177,\n",
              "  34,\n",
              "  4,\n",
              "  8,\n",
              "  11,\n",
              "  20,\n",
              "  1,\n",
              "  178,\n",
              "  179,\n",
              "  3,\n",
              "  1,\n",
              "  180],\n",
              " [181, 182, 183, 184, 16, 185, 17, 186, 13, 187, 39, 188, 189, 190, 8, 11],\n",
              " [1,\n",
              "  11,\n",
              "  23,\n",
              "  32,\n",
              "  191,\n",
              "  192,\n",
              "  3,\n",
              "  193,\n",
              "  194,\n",
              "  195,\n",
              "  1,\n",
              "  196,\n",
              "  197,\n",
              "  198,\n",
              "  5,\n",
              "  199,\n",
              "  1,\n",
              "  200,\n",
              "  201],\n",
              " [18, 15, 202, 203, 1, 204, 44, 20, 205, 3, 45, 206, 3, 207, 5, 208, 209, 210],\n",
              " [8, 11, 211, 1, 26, 49, 3, 1, 49, 4, 36, 48, 212]]"
            ]
          },
          "metadata": {
            "tags": []
          },
          "execution_count": 18
        }
      ]
    },
    {
      "cell_type": "code",
      "metadata": {
        "code_folding": [],
        "id": "a3pQY6Vd8rlQ",
        "colab": {
          "base_uri": "https://localhost:8080/",
          "height": 336
        },
        "outputId": "c096a04a-6bb1-4652-92f9-b35531c8f07d"
      },
      "source": [
        "# ckeck sequence_length stats\n",
        "length_check = df_text.token_sequence.progress_apply(lambda x: len(x))\n",
        "print('sequence_length mean: ', length_check.mean())\n",
        "print('sequence_length median: ', length_check.median())\n",
        "length_check.plot.hist()"
      ],
      "execution_count": null,
      "outputs": [
        {
          "output_type": "stream",
          "text": [
            "100%|██████████| 18/18 [00:00<00:00, 8836.31it/s]"
          ],
          "name": "stderr"
        },
        {
          "output_type": "stream",
          "text": [
            "sequence_length mean:  9.222222222222221\n",
            "sequence_length median:  8.5\n"
          ],
          "name": "stdout"
        },
        {
          "output_type": "stream",
          "text": [
            "\n"
          ],
          "name": "stderr"
        },
        {
          "output_type": "execute_result",
          "data": {
            "text/plain": [
              "<matplotlib.axes._subplots.AxesSubplot at 0x7fd24866db00>"
            ]
          },
          "metadata": {
            "tags": []
          },
          "execution_count": 19
        },
        {
          "output_type": "display_data",
          "data": {
            "image/png": "[encoded data removed]",
            "text/plain": [
              "<Figure size 432x288 with 1 Axes>"
            ]
          },
          "metadata": {
            "tags": [],
            "needs_background": "light"
          }
        }
      ]
    },
    {
      "cell_type": "code",
      "metadata": {
        "id": "x7puhhn88rlX",
        "colab": {
          "base_uri": "https://localhost:8080/",
          "height": 337
        },
        "outputId": "f0c44e42-70b3-42c7-8f57-fbee37a6e320"
      },
      "source": [
        "# padding (pre)\n",
        "MAX_SEQUENCE_LENGTH = 10 # length of the sequence\n",
        "trainvalid_data_pre = pad_sequences(train_sequences, maxlen=MAX_SEQUENCE_LENGTH, \n",
        "                                padding='pre',\n",
        "                                truncating='pre',)\n",
        "trainvalid_data_pre"
      ],
      "execution_count": null,
      "outputs": [
        {
          "output_type": "execute_result",
          "data": {
            "text/plain": [
              "array([[ 55,  56,  57,   7,   2,  58,  59,   4,  25,  60],\n",
              "       [ 64,  65,  66,   9,   1,  67,  68,   4,  28,  69],\n",
              "       [ 73,  74,  75,  76,  77,  15,  78,  79,  30,  80],\n",
              "       [ 86,  87,  88,  89,  90,  91,   5,   2,  92,  93],\n",
              "       [100,   6,  32, 101, 102,   9,  33, 103, 104, 105],\n",
              "       [ 34, 106, 107,   3, 108, 109, 110,  17,  35, 111],\n",
              "       [  0, 112,  35,   8,  21, 113,  18,  36, 114, 115],\n",
              "       [119,  10,  38, 120,  39,  40,   3, 121,   2,  12],\n",
              "       [127, 128,  22,  42,  14, 129, 130,   5, 131,  42],\n",
              "       [135,   2, 136, 137, 138,   1, 139, 140,   4, 141],\n",
              "       [  0,   0,   1, 142,  37, 143,   7,  41,   9, 144],\n",
              "       [151, 152, 153,   5, 154, 155,  43, 156,  19,  45],\n",
              "       [169,  13,  10, 170,  46, 171,   5,  47, 172, 173],\n",
              "       [  4,   8,  11,  20,   1, 178, 179,   3,   1, 180],\n",
              "       [ 17, 186,  13, 187,  39, 188, 189, 190,   8,  11],\n",
              "       [195,   1, 196, 197, 198,   5, 199,   1, 200, 201],\n",
              "       [205,   3,  45, 206,   3, 207,   5, 208, 209, 210],\n",
              "       [  1,  26,  49,   3,   1,  49,   4,  36,  48, 212]], dtype=int32)"
            ]
          },
          "metadata": {
            "tags": []
          },
          "execution_count": 20
        }
      ]
    },
    {
      "cell_type": "code",
      "metadata": {
        "id": "H4oDtoUF8rle",
        "colab": {
          "base_uri": "https://localhost:8080/",
          "height": 337
        },
        "outputId": "af0a9d53-2bee-4ab6-f374-15d7151c1b8b"
      },
      "source": [
        "# padding (post), recommended for RNN\n",
        "MAX_SEQUENCE_LENGTH = 10\n",
        "trainvalid_data_post = pad_sequences(train_sequences, maxlen=MAX_SEQUENCE_LENGTH, \n",
        "                                padding='post',\n",
        "                                truncating='post',)\n",
        "trainvalid_data_post"
      ],
      "execution_count": null,
      "outputs": [
        {
          "output_type": "execute_result",
          "data": {
            "text/plain": [
              "array([[ 21,   4,   2,  12,  22,  23,  50,  51,  13,   2],\n",
              "       [  2,  61,  62,  26,   7,  27,  63,  14,  64,  65],\n",
              "       [ 70,  15,  71,  25,   1,  72,  29,   6,  73,  74],\n",
              "       [ 81,  82,  83,   1,  84,  16,  17,  27,  30,   1],\n",
              "       [ 31,   2,  94,  95,  28,  96,  97,  98,  99, 100],\n",
              "       [ 33,  34, 106, 107,   3, 108, 109, 110,  17,  35],\n",
              "       [112,  35,   8,  21, 113,  18,  36, 114, 115,   0],\n",
              "       [116,   6,  37,  38, 117, 118, 119,  10,  38, 120],\n",
              "       [  1, 122,   8,  29,   7,  41, 123,   9, 124,  19],\n",
              "       [132, 133,  10, 134,  43, 135,   2, 136, 137, 138],\n",
              "       [  1, 142,  37, 143,   7,  41,   9, 144,   0,   0],\n",
              "       [145,  10,  44,   6,   1, 146,  40, 147,  20,   2],\n",
              "       [157, 158, 159, 160, 161, 162,  46,   1, 163, 164],\n",
              "       [ 18,  47, 174,  31, 175,   7,   2, 176,   1,  48],\n",
              "       [181, 182, 183, 184,  16, 185,  17, 186,  13, 187],\n",
              "       [  1,  11,  23,  32, 191, 192,   3, 193, 194, 195],\n",
              "       [ 18,  15, 202, 203,   1, 204,  44,  20, 205,   3],\n",
              "       [  8,  11, 211,   1,  26,  49,   3,   1,  49,   4]], dtype=int32)"
            ]
          },
          "metadata": {
            "tags": []
          },
          "execution_count": 21
        }
      ]
    },
    {
      "cell_type": "code",
      "metadata": {
        "id": "qurscfTi8rll",
        "colab": {
          "base_uri": "https://localhost:8080/",
          "height": 212
        },
        "outputId": "1e53ed39-a9b4-4b59-bc26-60992ace26b9"
      },
      "source": [
        "# padding dataframe\n",
        "df_text['padding'] = df_text.token_sequence.progress_apply(lambda x: \\\n",
        "                            pad_sequences([x], maxlen=MAX_SEQUENCE_LENGTH, \n",
        "                            padding='post',\n",
        "                            truncating='post',)[0])\n",
        "df_text.head()"
      ],
      "execution_count": null,
      "outputs": [
        {
          "output_type": "stream",
          "text": [
            "100%|██████████| 18/18 [00:00<00:00, 11273.33it/s]\n"
          ],
          "name": "stderr"
        },
        {
          "output_type": "execute_result",
          "data": {
            "text/html": [
              "<div>\n",
              "<style scoped>\n",
              "    .dataframe tbody tr th:only-of-type {\n",
              "        vertical-align: middle;\n",
              "    }\n",
              "\n",
              "    .dataframe tbody tr th {\n",
              "        vertical-align: top;\n",
              "    }\n",
              "\n",
              "    .dataframe thead th {\n",
              "        text-align: right;\n",
              "    }\n",
              "</style>\n",
              "<table border=\"1\" class=\"dataframe\">\n",
              "  <thead>\n",
              "    <tr style=\"text-align: right;\">\n",
              "      <th></th>\n",
              "      <th>raw_text</th>\n",
              "      <th>token_sequence</th>\n",
              "      <th>padding</th>\n",
              "    </tr>\n",
              "  </thead>\n",
              "  <tbody>\n",
              "    <tr>\n",
              "      <th>0</th>\n",
              "      <td>Story of a man who has unnatural feelings for ...</td>\n",
              "      <td>[21, 4, 2, 12, 22, 23, 13, 2, 24, 6, 2, 7, 2, ...</td>\n",
              "      <td>[21, 4, 2, 12, 22, 23, 13, 2, 24, 6]</td>\n",
              "    </tr>\n",
              "    <tr>\n",
              "      <th>1</th>\n",
              "      <td>A formal orchestra audience is turned into an ...</td>\n",
              "      <td>[2, 26, 7, 27, 14, 9, 1, 4, 28]</td>\n",
              "      <td>[2, 26, 7, 27, 14, 9, 1, 4, 28, 0]</td>\n",
              "    </tr>\n",
              "    <tr>\n",
              "      <th>2</th>\n",
              "      <td>Unfortunately it stays absurd the WHOLE time w...</td>\n",
              "      <td>[15, 25, 1, 29, 6, 15, 30]</td>\n",
              "      <td>[15, 25, 1, 29, 6, 15, 30, 0, 0, 0]</td>\n",
              "    </tr>\n",
              "    <tr>\n",
              "      <th>3</th>\n",
              "      <td>Even those from the era should be turned off. ...</td>\n",
              "      <td>[1, 16, 17, 27, 30, 1, 5, 2]</td>\n",
              "      <td>[1, 16, 17, 27, 30, 1, 5, 2, 0, 0]</td>\n",
              "    </tr>\n",
              "    <tr>\n",
              "      <th>4</th>\n",
              "      <td>On a technical level it's better than you migh...</td>\n",
              "      <td>[31, 2, 28, 6, 32, 9, 33]</td>\n",
              "      <td>[31, 2, 28, 6, 32, 9, 33, 0, 0, 0]</td>\n",
              "    </tr>\n",
              "  </tbody>\n",
              "</table>\n",
              "</div>"
            ],
            "text/plain": [
              "                                            raw_text  ...                               padding\n",
              "0  Story of a man who has unnatural feelings for ...  ...  [21, 4, 2, 12, 22, 23, 13, 2, 24, 6]\n",
              "1  A formal orchestra audience is turned into an ...  ...    [2, 26, 7, 27, 14, 9, 1, 4, 28, 0]\n",
              "2  Unfortunately it stays absurd the WHOLE time w...  ...   [15, 25, 1, 29, 6, 15, 30, 0, 0, 0]\n",
              "3  Even those from the era should be turned off. ...  ...    [1, 16, 17, 27, 30, 1, 5, 2, 0, 0]\n",
              "4  On a technical level it's better than you migh...  ...    [31, 2, 28, 6, 32, 9, 33, 0, 0, 0]\n",
              "\n",
              "[5 rows x 3 columns]"
            ]
          },
          "metadata": {
            "tags": []
          },
          "execution_count": 22
        }
      ]
    },
    {
      "cell_type": "markdown",
      "metadata": {
        "id": "UmurH9FZ8rlr"
      },
      "source": [
        "## word embedding, use pre-trained model (SpaCy)"
      ]
    },
    {
      "cell_type": "code",
      "metadata": {
        "id": "gL_NgYF79LBd",
        "colab": {
          "base_uri": "https://localhost:8080/",
          "height": 52
        },
        "outputId": "0851f1f7-a2a8-4f75-ca4a-c206a616af47"
      },
      "source": [
        "import spacy.cli\n",
        "spacy.cli.download(\"en_core_web_md\")"
      ],
      "execution_count": null,
      "outputs": [
        {
          "output_type": "stream",
          "text": [
            "\u001b[38;5;2m✔ Download and installation successful\u001b[0m\n",
            "You can now load the model via spacy.load('en_core_web_md')\n"
          ],
          "name": "stdout"
        }
      ]
    },
    {
      "cell_type": "code",
      "metadata": {
        "id": "d9mHX40G8rlt"
      },
      "source": [
        "import spacy\n",
        "import en_core_web_sm\n",
        "import en_core_web_md\n",
        "# import en_core_web_lg\n",
        "nlp_sm = en_core_web_sm.load()\n",
        "nlp_md = en_core_web_md.load()"
      ],
      "execution_count": null,
      "outputs": []
    },
    {
      "cell_type": "code",
      "metadata": {
        "id": "xOnhYWcD8rl0"
      },
      "source": [
        "from sklearn.metrics.pairwise import cosine_similarity, euclidean_distances"
      ],
      "execution_count": null,
      "outputs": []
    },
    {
      "cell_type": "code",
      "metadata": {
        "id": "6tilJp068rl7",
        "colab": {
          "base_uri": "https://localhost:8080/",
          "height": 479
        },
        "outputId": "cde3bca1-889e-4ecd-cced-9013c0b597c3"
      },
      "source": [
        "doc = nlp_sm(\"elephant\")\n",
        "print(doc.vector.size)\n",
        "doc.vector"
      ],
      "execution_count": null,
      "outputs": [
        {
          "output_type": "stream",
          "text": [
            "96\n"
          ],
          "name": "stdout"
        },
        {
          "output_type": "execute_result",
          "data": {
            "text/plain": [
              "array([ 1.53254330e+00, -1.54785204e+00,  1.21842146e-01, -1.37487340e+00,\n",
              "        3.12817001e+00,  6.84519172e-01,  1.58269787e+00,  3.88548374e-02,\n",
              "       -9.69716012e-01,  2.60367632e-01,  4.42843914e+00,  1.69279790e+00,\n",
              "        1.80086970e+00, -1.42933702e+00,  2.76753664e-01,  9.96531248e-01,\n",
              "       -1.20114398e+00,  2.58879042e+00, -3.98730934e-01, -1.90679169e+00,\n",
              "        1.01322341e+00, -8.79096389e-01, -5.02925992e-01, -1.68987930e+00,\n",
              "        1.02189422e+00, -1.85433960e+00,  1.87317526e+00, -3.93670797e+00,\n",
              "        2.55938601e+00, -1.11078441e+00,  1.25108194e+00,  9.47929144e-01,\n",
              "        1.61773515e+00,  1.19842112e+00,  2.17329383e+00, -3.79276681e+00,\n",
              "        1.10712552e+00, -2.24094629e+00, -2.76005244e+00, -1.21360254e+00,\n",
              "        7.17294931e-01, -4.69020307e-01, -1.43317056e+00, -3.81187248e+00,\n",
              "        3.76251817e-01,  1.27198040e-01,  1.40854716e-03,  4.05545503e-01,\n",
              "       -9.77936983e-01,  2.86920214e+00,  1.34740186e+00, -2.05546427e+00,\n",
              "        7.06032991e-01, -3.83974361e+00, -2.80627060e+00,  6.01040006e-01,\n",
              "        3.39156580e+00,  6.86929166e-01, -1.16860151e+00, -1.84373629e+00,\n",
              "        1.75430012e+00, -2.94840074e+00, -1.13905907e+00,  5.70515394e-01,\n",
              "        3.29056591e-01, -1.29185081e+00, -7.71097302e-01, -7.70575404e-02,\n",
              "       -1.32201374e+00,  9.93105650e-01, -2.35931635e+00, -5.41580558e-01,\n",
              "        2.07080674e+00,  1.83685684e+00, -2.87412214e+00,  2.44415522e+00,\n",
              "        1.53788018e+00, -7.34964132e-01, -1.34677696e+00,  3.73186922e+00,\n",
              "        6.32805347e-01, -2.05215311e+00, -1.74373853e+00, -3.07848978e+00,\n",
              "        1.07228351e+00,  5.09159517e+00, -1.43900692e+00,  7.82313228e-01,\n",
              "       -2.78607011e-01, -9.90844369e-01,  2.39965582e+00,  6.10517621e-01,\n",
              "        4.63788390e-01,  3.56497741e+00,  5.42346418e-01,  1.11200464e+00],\n",
              "      dtype=float32)"
            ]
          },
          "metadata": {
            "tags": []
          },
          "execution_count": 26
        }
      ]
    },
    {
      "cell_type": "code",
      "metadata": {
        "id": "tzFLBc-t8rmJ",
        "colab": {
          "base_uri": "https://localhost:8080/",
          "height": 177
        },
        "outputId": "7fe5cf7a-2522-47dc-9440-e411a9258a45"
      },
      "source": [
        "# similarity demo1\n",
        "word1 = \"elephant\"\n",
        "word2 = \"big\"\n",
        "# print(\"similariy {}-{}: {}\".format(word1, word2, nlp_md(word1).similarity(nlp_md(word2))) )\n",
        "print(\"cosine_similarity {}-{}: {}\".format(word1, word2, cosine_similarity([nlp_md(word1).vector], [nlp_md(word2).vector])))\n",
        "print(\"euclidean_distances{}-{}: {}\".format(word1, word2, euclidean_distances([nlp_md(word1).vector], [nlp_md(word2).vector])))\n",
        "print()\n",
        "\n",
        "word1 = \"mouse\"\n",
        "word2 = \"big\"\n",
        "# print(\"similariy {}-{}: {}\".format(word1, word2, nlp_md(word1).similarity(nlp_md(word2))) )\n",
        "print(\"cosine_similarity {}-{}: {}\".format(word1, word2, cosine_similarity([nlp_md(word1).vector], [nlp_md(word2).vector])))\n",
        "print(\"euclidean_distances{}-{}: {}\".format(word1, word2, euclidean_distances([nlp_md(word1).vector], [nlp_md(word2).vector])))\n",
        "print()\n",
        "\n",
        "word1 = \"mouse\"\n",
        "word2 = \"small\"\n",
        "# print(\"similariy {}-{}: {}\".format(word1, word2, nlp_md(word1).similarity(nlp_md(word2))) )\n",
        "print(\"cosine_similarity {}-{}: {}\".format(word1, word2, cosine_similarity([nlp_md(word1).vector], [nlp_md(word2).vector])))\n",
        "print(\"euclidean_distances{}-{}: {}\".format(word1, word2, euclidean_distances([nlp_md(word1).vector], [nlp_md(word2).vector])))\n",
        "print()"
      ],
      "execution_count": null,
      "outputs": [
        {
          "output_type": "stream",
          "text": [
            "cosine_similarity elephant-big: [[0.35897797]]\n",
            "euclidean_distanceselephant-big: [[6.900712]]\n",
            "\n",
            "cosine_similarity mouse-big: [[0.17815787]]\n",
            "euclidean_distancesmouse-big: [[8.3890705]]\n",
            "\n",
            "cosine_similarity mouse-small: [[0.32656005]]\n",
            "euclidean_distancesmouse-small: [[7.6220174]]\n",
            "\n"
          ],
          "name": "stdout"
        }
      ]
    },
    {
      "cell_type": "code",
      "metadata": {
        "id": "9qIKjD6K8rmQ",
        "colab": {
          "base_uri": "https://localhost:8080/",
          "height": 88
        },
        "outputId": "d6450d5a-9d7e-406e-b663-26924d962377"
      },
      "source": [
        "# similarity demo2\n",
        "word1 = \"elephant\"\n",
        "word2 = \"rock\"\n",
        "print(\"similariy {}-{}: {}\".format(word1, word2, nlp_md(word1).similarity(nlp_md(word2))) )\n",
        "\n",
        "word1 = \"mouse\"\n",
        "word2 = \"elephant\"\n",
        "print(\"similariy {}-{}: {}\".format(word1, word2, nlp_md(word1).similarity(nlp_md(word2))) )\n",
        "\n",
        "word1 = \"mouse\"\n",
        "word2 = \"rock\"\n",
        "print(\"similariy {}-{}: {}\".format(word1, word2, nlp_md(word1).similarity(nlp_md(word2))) )\n",
        "\n",
        "word1 = \"mouse\"\n",
        "word2 = \"pebble\"\n",
        "print(\"similariy {}-{}: {}\".format(word1, word2, nlp_md(word1).similarity(nlp_md(word2))) )\n"
      ],
      "execution_count": null,
      "outputs": [
        {
          "output_type": "stream",
          "text": [
            "similariy elephant-rock: 0.23465476998562218\n",
            "similariy mouse-elephant: 0.3079661746915687\n",
            "similariy mouse-rock: 0.11835070985447328\n",
            "similariy mouse-pebble: 0.18301520085660278\n"
          ],
          "name": "stdout"
        }
      ]
    },
    {
      "cell_type": "code",
      "metadata": {
        "id": "yNNWzZG48rmV",
        "colab": {
          "base_uri": "https://localhost:8080/",
          "height": 52
        },
        "outputId": "f2102585-0671-4de0-ff5e-fda5a2a9289f"
      },
      "source": [
        "# similarity demo3\n",
        "word1 = \"mouse\"\n",
        "word2 = \"house\"\n",
        "print(\"similariy {}-{}: {}\".format(word1, word2, nlp_md(word1).similarity(nlp_md(word2))) )\n",
        "\n",
        "word1 = \"elephant\"\n",
        "word2 = \"house\"\n",
        "print(\"similariy {}-{}: {}\".format(word1, word2, nlp_md(word1).similarity(nlp_md(word2))) )"
      ],
      "execution_count": null,
      "outputs": [
        {
          "output_type": "stream",
          "text": [
            "similariy mouse-house: 0.16095256988349818\n",
            "similariy elephant-house: 0.2828021219183604\n"
          ],
          "name": "stdout"
        }
      ]
    },
    {
      "cell_type": "code",
      "metadata": {
        "id": "P789Ey-k8rmb",
        "colab": {
          "base_uri": "https://localhost:8080/",
          "height": 229
        },
        "outputId": "38febf07-fc63-4344-8bb8-bdcc1b16f1f9"
      },
      "source": [
        "# update token dictionary\n",
        "df_index_word = pd.Series(tokenizer.index_word)\n",
        "# df_index_word\n",
        "df_index_word_valid = df_index_word[:MAX_NUM_TOKENS-1]\n",
        "df_index_word_valid = pd.Series([\"NAN\"]).append(df_index_word_valid)\n",
        "df_index_word_valid = df_index_word_valid.reset_index()\n",
        "# df_index_word_valid.head()\n",
        "df_index_word_valid.columns = ['token_id', 'token']\n",
        "# df_index_word_valid.head()\n",
        "df_index_word_valid['word2vec'] = df_index_word_valid.token.progress_apply(lambda x: nlp_sm(x).vector)\n",
        "df_index_word_valid['is_oov'] = df_index_word_valid.token.progress_apply(lambda x: nlp_sm(x)[0].is_oov)\n",
        "df_index_word_valid.at[0, \"word2vec\"] = np.zeros_like(df_index_word_valid.at[0, \"word2vec\"])\n",
        "df_index_word_valid.head()"
      ],
      "execution_count": null,
      "outputs": [
        {
          "output_type": "stream",
          "text": [
            "100%|██████████| 50/50 [00:00<00:00, 122.44it/s]\n",
            "100%|██████████| 50/50 [00:00<00:00, 132.01it/s]\n"
          ],
          "name": "stderr"
        },
        {
          "output_type": "execute_result",
          "data": {
            "text/html": [
              "<div>\n",
              "<style scoped>\n",
              "    .dataframe tbody tr th:only-of-type {\n",
              "        vertical-align: middle;\n",
              "    }\n",
              "\n",
              "    .dataframe tbody tr th {\n",
              "        vertical-align: top;\n",
              "    }\n",
              "\n",
              "    .dataframe thead th {\n",
              "        text-align: right;\n",
              "    }\n",
              "</style>\n",
              "<table border=\"1\" class=\"dataframe\">\n",
              "  <thead>\n",
              "    <tr style=\"text-align: right;\">\n",
              "      <th></th>\n",
              "      <th>token_id</th>\n",
              "      <th>token</th>\n",
              "      <th>word2vec</th>\n",
              "      <th>is_oov</th>\n",
              "    </tr>\n",
              "  </thead>\n",
              "  <tbody>\n",
              "    <tr>\n",
              "      <th>0</th>\n",
              "      <td>0</td>\n",
              "      <td>NAN</td>\n",
              "      <td>[0.0, 0.0, 0.0, 0.0, 0.0, 0.0, 0.0, 0.0, 0.0, ...</td>\n",
              "      <td>True</td>\n",
              "    </tr>\n",
              "    <tr>\n",
              "      <th>1</th>\n",
              "      <td>1</td>\n",
              "      <td>the</td>\n",
              "      <td>[-1.6740144, -1.8919091, 2.7896621, -2.1180558...</td>\n",
              "      <td>True</td>\n",
              "    </tr>\n",
              "    <tr>\n",
              "      <th>2</th>\n",
              "      <td>2</td>\n",
              "      <td>a</td>\n",
              "      <td>[1.3639276, -2.4362004, 4.93911, -2.0180569, 1...</td>\n",
              "      <td>True</td>\n",
              "    </tr>\n",
              "    <tr>\n",
              "      <th>3</th>\n",
              "      <td>3</td>\n",
              "      <td>and</td>\n",
              "      <td>[-0.3471796, 4.5575933, 4.6196766, 1.9879136, ...</td>\n",
              "      <td>True</td>\n",
              "    </tr>\n",
              "    <tr>\n",
              "      <th>4</th>\n",
              "      <td>4</td>\n",
              "      <td>of</td>\n",
              "      <td>[1.2207265, 1.6008487, 4.8744106, 0.5452882, 2...</td>\n",
              "      <td>True</td>\n",
              "    </tr>\n",
              "  </tbody>\n",
              "</table>\n",
              "</div>"
            ],
            "text/plain": [
              "   token_id token                                           word2vec  is_oov\n",
              "0         0   NAN  [0.0, 0.0, 0.0, 0.0, 0.0, 0.0, 0.0, 0.0, 0.0, ...    True\n",
              "1         1   the  [-1.6740144, -1.8919091, 2.7896621, -2.1180558...    True\n",
              "2         2     a  [1.3639276, -2.4362004, 4.93911, -2.0180569, 1...    True\n",
              "3         3   and  [-0.3471796, 4.5575933, 4.6196766, 1.9879136, ...    True\n",
              "4         4    of  [1.2207265, 1.6008487, 4.8744106, 0.5452882, 2...    True"
            ]
          },
          "metadata": {
            "tags": []
          },
          "execution_count": 30
        }
      ]
    },
    {
      "cell_type": "code",
      "metadata": {
        "id": "MRCA9Ff18rmh",
        "colab": {
          "base_uri": "https://localhost:8080/",
          "height": 141
        },
        "outputId": "327f6003-27b8-4c5e-8b53-626d971ab5f9"
      },
      "source": [
        "# OOV demo\n",
        "# nlp = spacy.load(\"en_core_web_md\")\n",
        "tokens_sm = nlp_sm(\"dog cat banana afskfsd\")\n",
        "\n",
        "for token in tokens_sm:\n",
        "    print(token.text, token.has_vector, token.vector_norm, token.is_oov)\n",
        "tokens_sm[-1].vector[:10]\n",
        "\n"
      ],
      "execution_count": null,
      "outputs": [
        {
          "output_type": "stream",
          "text": [
            "dog True 19.266302 True\n",
            "cat True 19.220264 True\n",
            "banana True 17.748499 True\n",
            "afskfsd True 20.882006 True\n"
          ],
          "name": "stdout"
        },
        {
          "output_type": "execute_result",
          "data": {
            "text/plain": [
              "array([-0.27530098, -2.7509127 ,  0.4392979 ,  1.2666237 ,  0.13736498,\n",
              "        2.932058  ,  0.29882324,  0.22640565,  0.9685922 , -0.8940778 ],\n",
              "      dtype=float32)"
            ]
          },
          "metadata": {
            "tags": []
          },
          "execution_count": 31
        }
      ]
    },
    {
      "cell_type": "code",
      "metadata": {
        "id": "IvOmONFi8rmp",
        "colab": {
          "base_uri": "https://localhost:8080/",
          "height": 106
        },
        "outputId": "270ae57f-fb2f-4be9-a4ef-10549dbf4c15"
      },
      "source": [
        "# OOV demo\n",
        "# nlp = spacy.load(\"en_core_web_md\")\n",
        "tokens_md = nlp_md(\"dog cat banana afskfsd\")\n",
        "\n",
        "for token in tokens_md:\n",
        "    print(token.text, token.has_vector, token.vector_norm, token.is_oov)    \n",
        "tokens_md[-1].vector[:10]"
      ],
      "execution_count": null,
      "outputs": [
        {
          "output_type": "stream",
          "text": [
            "dog True 7.0336733 False\n",
            "cat True 6.6808186 False\n",
            "banana True 6.700014 False\n",
            "afskfsd False 0.0 True\n"
          ],
          "name": "stdout"
        },
        {
          "output_type": "execute_result",
          "data": {
            "text/plain": [
              "array([0., 0., 0., 0., 0., 0., 0., 0., 0., 0.], dtype=float32)"
            ]
          },
          "metadata": {
            "tags": []
          },
          "execution_count": 32
        }
      ]
    },
    {
      "cell_type": "markdown",
      "metadata": {
        "id": "UENapiK88rmu"
      },
      "source": [
        "## Embbeding matrix"
      ]
    },
    {
      "cell_type": "code",
      "metadata": {
        "id": "U9B7xAst8rmv",
        "colab": {
          "base_uri": "https://localhost:8080/",
          "height": 778,
          "referenced_widgets": [
            "7badf4f614e34595958ad68d5617e5ad",
            "42d2ca607f44432bbec761057b36dc36",
            "c2405ad6da174d2794ce8430a25185d3",
            "70ae7cd8fc9a44d59337c53d745dc6f4",
            "889bc0714d3e488c82e0377d5572d427",
            "f64b6fb5f31d4df78e6dbb2328d3a752",
            "85f220752b10419692388baf5fde3407",
            "7b734f0571f9427786da06da58594b71"
          ]
        },
        "outputId": "f461b16c-3d23-4b9c-c7db-476a179764fe"
      },
      "source": [
        "# Embbeding matrix\n",
        "embedding_matrix = np.array([vec for vec in tqdm(df_index_word_valid.word2vec.values)])\n",
        "embedding_matrix[1:3]"
      ],
      "execution_count": null,
      "outputs": [
        {
          "output_type": "display_data",
          "data": {
            "application/vnd.jupyter.widget-view+json": {
              "model_id": "7badf4f614e34595958ad68d5617e5ad",
              "version_minor": 0,
              "version_major": 2
            },
            "text/plain": [
              "HBox(children=(FloatProgress(value=0.0, max=50.0), HTML(value='')))"
            ]
          },
          "metadata": {
            "tags": []
          }
        },
        {
          "output_type": "stream",
          "text": [
            "\n"
          ],
          "name": "stdout"
        },
        {
          "output_type": "execute_result",
          "data": {
            "text/plain": [
              "array([[-1.6740144 , -1.8919091 ,  2.7896621 , -2.1180558 ,  2.7658477 ,\n",
              "         0.40291154,  1.9226389 , -1.9946572 , -0.25386387, -3.1599557 ,\n",
              "        -1.1804683 , -0.2115821 , -0.16796485,  1.6671079 , -1.191205  ,\n",
              "        -1.1840836 , -0.84644413, -0.80139714, -0.08505598, -1.9580033 ,\n",
              "        -0.81525314,  0.2681221 , -1.8158246 , -1.8130839 , -0.04797906,\n",
              "        -2.9620476 , -2.4702177 ,  0.32404464,  0.65950954, -0.06304374,\n",
              "         0.0607968 ,  1.528122  , -0.11225557,  2.8844306 ,  1.1058623 ,\n",
              "        -2.6249275 ,  1.0343542 ,  0.5337491 ,  1.9547801 ,  2.218318  ,\n",
              "        -2.2857184 ,  1.0185624 ,  1.7423658 ,  0.80492026,  0.25125942,\n",
              "        -1.0720794 ,  1.262687  , -0.7903186 , -2.0943189 ,  2.6549568 ,\n",
              "         0.7887018 , -3.6813874 , -1.1736808 ,  0.5782918 , -0.42717618,\n",
              "         1.0743806 ,  3.5691    ,  3.1414604 , -0.6959189 , -2.0594609 ,\n",
              "         3.2260387 ,  4.945283  , -0.5519747 , -0.41363585, -1.1572365 ,\n",
              "        -2.6275635 ,  2.8912182 , -0.93990165, -2.1814919 , -2.8939247 ,\n",
              "        -2.8695016 ,  0.30508578,  2.4766483 , -0.12195519, -1.3454363 ,\n",
              "         1.2436345 ,  0.45340884,  1.0787698 , -2.9535792 ,  1.2432139 ,\n",
              "         2.0162492 , -1.0274692 ,  4.2904005 , -1.520003  ,  0.21373823,\n",
              "         2.9737341 , -1.7948176 ,  0.18929887,  3.0467494 , -1.4078952 ,\n",
              "        -0.5184626 , -0.78140163,  1.2150414 ,  4.1150436 , -0.67770374,\n",
              "         0.38772145],\n",
              "       [ 1.3639276 , -2.4362004 ,  4.93911   , -2.0180569 ,  1.5217042 ,\n",
              "        -1.402194  ,  4.7577243 , -0.25062323, -1.4917756 , -2.4521866 ,\n",
              "        -1.276049  , -1.3093959 , -1.0858254 , -0.67167014, -1.0938559 ,\n",
              "        -1.2864904 , -2.7010226 ,  0.5923736 ,  2.1028752 , -3.2102888 ,\n",
              "        -1.4638464 ,  3.0381584 ,  0.1937661 , -2.9501593 , -1.1214483 ,\n",
              "        -2.0130916 , -1.9355633 ,  0.020751  ,  2.3404515 ,  0.04026657,\n",
              "         0.5707246 ,  1.4150819 ,  0.39973164,  2.043944  ,  1.2768389 ,\n",
              "        -3.0895095 ,  4.0099034 ,  0.29911005,  1.027945  ,  2.815574  ,\n",
              "        -2.184166  , -0.4472455 ,  1.3254995 ,  1.778882  ,  0.06864452,\n",
              "         0.5880788 ,  1.811482  ,  0.7730744 , -1.7234092 ,  5.4996524 ,\n",
              "         0.12350267, -4.526079  , -1.9351692 ,  0.79747844, -1.9937111 ,\n",
              "         3.0747123 ,  3.2898862 , -1.2227399 ,  1.2424335 , -0.57622683,\n",
              "         1.2778368 ,  4.9590282 ,  0.6718544 , -2.3315613 , -0.8126818 ,\n",
              "        -1.1441078 ,  2.56817   , -0.8662305 , -3.233226  , -3.9556065 ,\n",
              "        -1.9299409 , -0.29795688,  1.5369564 ,  1.5050672 , -2.4184477 ,\n",
              "        -0.4063188 , -0.80276114,  0.64950657, -1.7719977 , -0.16019273,\n",
              "         0.83855665, -2.2610872 ,  2.4838014 , -2.7180035 , -0.26227924,\n",
              "         2.967094  , -1.6899116 ,  1.705099  ,  0.8128476 , -1.446658  ,\n",
              "        -0.03507662, -1.2387217 ,  0.79187834,  2.0821862 , -0.53293735,\n",
              "         1.5853851 ]], dtype=float32)"
            ]
          },
          "metadata": {
            "tags": []
          },
          "execution_count": 50
        }
      ]
    },
    {
      "cell_type": "code",
      "metadata": {
        "id": "0uH7sYfW8rm2",
        "colab": {
          "base_uri": "https://localhost:8080/",
          "height": 35
        },
        "outputId": "3ad5a013-6373-4287-edb1-bc795dcd7261"
      },
      "source": [
        "print(embedding_matrix.shape)"
      ],
      "execution_count": null,
      "outputs": [
        {
          "output_type": "stream",
          "text": [
            "(50, 96)\n"
          ],
          "name": "stdout"
        }
      ]
    },
    {
      "cell_type": "markdown",
      "metadata": {
        "id": "yCfioDsi8rm7"
      },
      "source": [
        "# Padding"
      ]
    },
    {
      "cell_type": "markdown",
      "metadata": {
        "id": "2mOXvlPE8rm8"
      },
      "source": [
        "# tf embedding layer"
      ]
    },
    {
      "cell_type": "code",
      "metadata": {
        "id": "zBwb_VzO8rm9"
      },
      "source": [
        "from tensorflow.keras.initializers import Constant\n",
        "from tensorflow.keras.layers import Embedding"
      ],
      "execution_count": null,
      "outputs": []
    },
    {
      "cell_type": "code",
      "metadata": {
        "id": "OwDQgYD98rnC"
      },
      "source": [
        "# MAX_NUM_TOKENS = 50\n",
        "EMBEDDING_DIM = embedding_matrix.shape[1]\n",
        "# MAX_SEQUENCE_LENGTH = 10\n",
        "embedding_layer = Embedding(input_dim=MAX_NUM_TOKENS,\n",
        "                            output_dim=EMBEDDING_DIM,\n",
        "                            embeddings_initializer=Constant(embedding_matrix),\n",
        "                            input_length=MAX_SEQUENCE_LENGTH,\n",
        "                            mask_zero=True,\n",
        "                            trainable=False)"
      ],
      "execution_count": null,
      "outputs": []
    },
    {
      "cell_type": "code",
      "metadata": {
        "id": "PLFujqRp8rnI",
        "colab": {
          "base_uri": "https://localhost:8080/",
          "height": 387,
          "referenced_widgets": [
            "ba3a0bf175b14278b08621f3f12deb16",
            "657a3ac5e7814e8ca361b596a677f0ff",
            "bdb33771ea384827913abbea1d447b66",
            "6246386303d04e18858a966bb019e00c",
            "a2b45250e16948238a34403ce9c69ba7",
            "adf850ff5309465c9d83b2bde914331a",
            "abcfacd6971947dea49587fd9865bd7a",
            "7ef5eb9833b1442eb3c8454faf3b26c9"
          ]
        },
        "outputId": "e5db96c2-42b7-40c2-a907-9398b7ad990b"
      },
      "source": [
        "# input transform format\n",
        "pad_sequences = np.array([sequence for sequence in tqdm(df_text.padding.values)])\n",
        "pad_sequences"
      ],
      "execution_count": null,
      "outputs": [
        {
          "output_type": "display_data",
          "data": {
            "application/vnd.jupyter.widget-view+json": {
              "model_id": "ba3a0bf175b14278b08621f3f12deb16",
              "version_minor": 0,
              "version_major": 2
            },
            "text/plain": [
              "HBox(children=(FloatProgress(value=0.0, max=18.0), HTML(value='')))"
            ]
          },
          "metadata": {
            "tags": []
          }
        },
        {
          "output_type": "stream",
          "text": [
            "\n"
          ],
          "name": "stdout"
        },
        {
          "output_type": "execute_result",
          "data": {
            "text/plain": [
              "array([[21,  4,  2, 12, 22, 23, 13,  2, 24,  6],\n",
              "       [ 2, 26,  7, 27, 14,  9,  1,  4, 28,  0],\n",
              "       [15, 25,  1, 29,  6, 15, 30,  0,  0,  0],\n",
              "       [ 1, 16, 17, 27, 30,  1,  5,  2,  0,  0],\n",
              "       [31,  2, 28,  6, 32,  9, 33,  0,  0,  0],\n",
              "       [33, 34,  3, 17, 35,  0,  0,  0,  0,  0],\n",
              "       [35,  8, 21, 18, 36,  0,  0,  0,  0,  0],\n",
              "       [ 6, 37, 38, 10, 38, 39, 40,  3,  2, 12],\n",
              "       [ 1,  8, 29,  7, 41,  9, 19, 14, 12,  6],\n",
              "       [10, 43,  2,  1,  4,  0,  0,  0,  0,  0],\n",
              "       [ 1, 37,  7, 41,  9,  0,  0,  0,  0,  0],\n",
              "       [10, 44,  6,  1, 40, 20,  2,  3,  5, 43],\n",
              "       [46,  1,  3, 16,  4, 19,  5, 24,  4, 13],\n",
              "       [18, 47, 31,  7,  2,  1, 48, 34,  4,  8],\n",
              "       [16, 17, 13, 39,  8, 11,  0,  0,  0,  0],\n",
              "       [ 1, 11, 23, 32,  3,  1,  5,  1,  0,  0],\n",
              "       [18, 15,  1, 44, 20,  3, 45,  3,  5,  0],\n",
              "       [ 8, 11,  1, 26, 49,  3,  1, 49,  4, 36]], dtype=int32)"
            ]
          },
          "metadata": {
            "tags": []
          },
          "execution_count": 37
        }
      ]
    },
    {
      "cell_type": "code",
      "metadata": {
        "id": "TlkDV-QO8rnO",
        "colab": {
          "base_uri": "https://localhost:8080/",
          "height": 52
        },
        "outputId": "96ac90c6-4d5f-4d6b-f44d-13b8146e5b62"
      },
      "source": [
        "# output shape\n",
        "# from tensorflow import convert_to_tensor\n",
        "# embedding_output = embedding_layer(convert_to_tensor(pad_sequences)) # optional for tf 2.x\n",
        "embedding_output = embedding_layer(pad_sequences)\n",
        "# result = embedding_layer(inputs=trainvalid_data_post[0])\n",
        "print(trainvalid_data_post.shape)\n",
        "embedding_output.shape"
      ],
      "execution_count": null,
      "outputs": [
        {
          "output_type": "stream",
          "text": [
            "(18, 10)\n"
          ],
          "name": "stdout"
        },
        {
          "output_type": "execute_result",
          "data": {
            "text/plain": [
              "TensorShape([18, 10, 96])"
            ]
          },
          "metadata": {
            "tags": []
          },
          "execution_count": 38
        }
      ]
    },
    {
      "cell_type": "code",
      "metadata": {
        "id": "E8huqtvj8rnU",
        "colab": {
          "base_uri": "https://localhost:8080/",
          "height": 1000
        },
        "outputId": "6a4793db-34d1-466b-c1a8-8ef2622887cf"
      },
      "source": [
        "print(trainvalid_data_post[1])\n",
        "embedding_output[1]"
      ],
      "execution_count": null,
      "outputs": [
        {
          "output_type": "stream",
          "text": [
            "[ 2 61 62 26  7 27 63 14 64 65]\n"
          ],
          "name": "stdout"
        },
        {
          "output_type": "execute_result",
          "data": {
            "text/plain": [
              "<tf.Tensor: shape=(10, 96), dtype=float32, numpy=\n",
              "array([[ 1.36392760e+00, -2.43620038e+00,  4.93910980e+00,\n",
              "        -2.01805687e+00,  1.52170420e+00, -1.40219402e+00,\n",
              "         4.75772429e+00, -2.50623226e-01, -1.49177563e+00,\n",
              "        -2.45218658e+00, -1.27604902e+00, -1.30939591e+00,\n",
              "        -1.08582544e+00, -6.71670139e-01, -1.09385586e+00,\n",
              "        -1.28649044e+00, -2.70102262e+00,  5.92373610e-01,\n",
              "         2.10287523e+00, -3.21028876e+00, -1.46384645e+00,\n",
              "         3.03815842e+00,  1.93766102e-01, -2.95015931e+00,\n",
              "        -1.12144828e+00, -2.01309156e+00, -1.93556333e+00,\n",
              "         2.07509995e-02,  2.34045148e+00,  4.02665734e-02,\n",
              "         5.70724607e-01,  1.41508186e+00,  3.99731636e-01,\n",
              "         2.04394388e+00,  1.27683890e+00, -3.08950949e+00,\n",
              "         4.00990343e+00,  2.99110055e-01,  1.02794504e+00,\n",
              "         2.81557393e+00, -2.18416595e+00, -4.47245508e-01,\n",
              "         1.32549953e+00,  1.77888203e+00,  6.86445236e-02,\n",
              "         5.88078797e-01,  1.81148195e+00,  7.73074389e-01,\n",
              "        -1.72340918e+00,  5.49965239e+00,  1.23502672e-01,\n",
              "        -4.52607918e+00, -1.93516922e+00,  7.97478437e-01,\n",
              "        -1.99371111e+00,  3.07471228e+00,  3.28988624e+00,\n",
              "        -1.22273993e+00,  1.24243355e+00, -5.76226830e-01,\n",
              "         1.27783680e+00,  4.95902824e+00,  6.71854377e-01,\n",
              "        -2.33156133e+00, -8.12681794e-01, -1.14410782e+00,\n",
              "         2.56817007e+00, -8.66230488e-01, -3.23322606e+00,\n",
              "        -3.95560646e+00, -1.92994094e+00, -2.97956884e-01,\n",
              "         1.53695643e+00,  1.50506723e+00, -2.41844773e+00,\n",
              "        -4.06318814e-01, -8.02761137e-01,  6.49506569e-01,\n",
              "        -1.77199769e+00, -1.60192728e-01,  8.38556647e-01,\n",
              "        -2.26108718e+00,  2.48380136e+00, -2.71800351e+00,\n",
              "        -2.62279242e-01,  2.96709394e+00, -1.68991160e+00,\n",
              "         1.70509899e+00,  8.12847614e-01, -1.44665802e+00,\n",
              "        -3.50766182e-02, -1.23872173e+00,  7.91878343e-01,\n",
              "         2.08218622e+00, -5.32937348e-01,  1.58538508e+00],\n",
              "       [-2.66749263e-02,  2.71294713e-02, -5.21409750e-01,\n",
              "        -1.21220016e+00,  1.98066449e+00,  2.82244182e+00,\n",
              "         3.59088993e+00,  7.67606318e-01,  1.62507927e+00,\n",
              "         2.65431046e+00,  3.98670030e+00, -1.20071220e+00,\n",
              "         3.73511600e+00, -2.90189910e+00,  1.26380801e+00,\n",
              "         2.25026548e-01, -7.48134434e-01,  2.06112218e+00,\n",
              "        -1.86193180e+00, -1.25275588e+00,  6.43476725e-01,\n",
              "         3.75325114e-01, -3.89274180e-01, -9.93163347e-01,\n",
              "        -1.66423798e-01,  1.74567187e+00,  1.70819664e+00,\n",
              "        -1.48972249e+00,  3.25930572e+00, -1.43174171e+00,\n",
              "         1.32580042e+00,  2.59874821e-01, -8.37590873e-01,\n",
              "         1.83914781e+00,  3.56883526e+00, -2.56913662e+00,\n",
              "         1.00603771e+00,  1.02132285e+00, -3.95153522e+00,\n",
              "         9.89272535e-01,  3.49003649e+00,  8.16485286e-01,\n",
              "        -1.97856891e+00, -3.20747209e+00, -1.34123969e+00,\n",
              "        -7.85850346e-01,  1.32007241e-01, -2.98196411e+00,\n",
              "        -2.35157990e+00,  2.04551411e+00,  8.30337286e-01,\n",
              "        -5.55471182e-01, -6.03905499e-01, -1.36747813e+00,\n",
              "        -1.16469133e+00,  8.89626980e-01,  5.44722319e-01,\n",
              "         5.65896988e-01, -2.86789536e-01, -1.66360402e+00,\n",
              "         1.57051802e+00, -2.12988210e+00,  3.77953470e-01,\n",
              "        -1.63281024e+00, -1.31722391e-01, -9.53258514e-01,\n",
              "         1.62312865e+00, -4.11749315e+00, -1.76416707e+00,\n",
              "        -6.89038515e-01, -3.08681786e-01,  4.47390378e-01,\n",
              "         2.58551764e+00, -5.75811565e-02, -1.73985577e+00,\n",
              "        -1.89598799e+00,  6.58027172e-01, -1.32036257e+00,\n",
              "        -2.54374456e+00,  1.33300042e+00,  3.71061504e-01,\n",
              "        -1.59965932e+00, -9.43719506e-01, -5.25461257e-01,\n",
              "         9.38988328e-01,  2.68185115e+00, -6.57572150e-01,\n",
              "         2.14321828e+00, -3.91403735e-01, -1.10777545e+00,\n",
              "         9.82177854e-01,  7.86576688e-01, -1.65228039e-01,\n",
              "         2.42964268e+00,  7.41274655e-01, -2.13875914e+00],\n",
              "       [-2.34748155e-01,  4.19171661e-01, -1.89396977e-01,\n",
              "        -2.47150421e-01,  3.79941392e+00,  1.24450421e+00,\n",
              "         1.54547107e+00, -3.46822977e-01, -1.63799930e+00,\n",
              "         4.40575659e-01,  1.52558517e+00, -9.60280418e-01,\n",
              "        -4.51923132e-01,  5.41330242e+00, -7.75441885e-01,\n",
              "        -1.69318068e+00, -3.46365404e+00, -7.06868410e-01,\n",
              "        -1.25759935e+00, -3.76494980e+00,  2.45283628e+00,\n",
              "         4.24656391e-01, -9.28216159e-01,  6.58823490e-01,\n",
              "        -2.25741610e-01, -1.83367670e+00,  1.64131117e+00,\n",
              "        -4.32218015e-02, -4.91937518e-01, -1.11170697e+00,\n",
              "        -1.06616211e+00,  5.95959306e-01, -6.10778451e-01,\n",
              "         2.13750648e+00, -6.22930050e-01,  2.46929789e+00,\n",
              "         1.47335577e+00, -8.02668810e-01, -3.24407279e-01,\n",
              "         3.08096075e+00,  1.99687207e+00,  5.86782694e+00,\n",
              "        -5.81059217e-01, -3.40457392e+00, -2.74695873e+00,\n",
              "         1.86565757e+00,  7.29576349e-01,  9.60601091e-01,\n",
              "        -2.29536629e+00, -6.71984792e-01,  2.03332019e+00,\n",
              "        -1.47915184e+00,  1.04649282e+00,  2.35773993e+00,\n",
              "        -8.43693137e-01, -1.81142855e+00,  6.63478017e-01,\n",
              "         1.13108158e+00,  1.43451011e+00, -2.17949820e+00,\n",
              "        -2.08936787e+00,  2.21874785e+00,  6.84988141e-01,\n",
              "        -5.36375570e+00,  1.28339767e+00, -4.33828831e-02,\n",
              "        -6.24021411e-01, -2.14298606e+00,  1.20298982e+00,\n",
              "        -1.03021848e+00, -4.97218311e-01, -6.36733770e-01,\n",
              "         2.19648218e+00, -6.01071358e-01,  4.83757496e+00,\n",
              "        -2.08631635e+00, -1.72119427e+00,  9.63423252e-02,\n",
              "        -2.97434926e+00,  1.61191702e+00, -1.75219655e+00,\n",
              "        -9.03990269e-02, -1.18109310e+00, -1.78810024e+00,\n",
              "         1.37744617e+00,  4.86346245e+00, -1.96205139e-01,\n",
              "         1.02553773e+00, -1.33136725e+00,  1.98682451e+00,\n",
              "        -7.82184124e-01,  1.23780680e+00,  9.67411876e-01,\n",
              "        -4.29948866e-02, -2.80358386e+00, -1.51899919e-01],\n",
              "       [ 1.08348262e+00, -3.75300217e+00,  6.89135373e-01,\n",
              "        -2.82140827e+00,  3.58099151e+00, -2.32735157e+00,\n",
              "         2.40093017e+00,  2.92956018e+00, -1.96783841e+00,\n",
              "         3.20500016e+00,  9.06036258e-01, -5.21587133e-01,\n",
              "         1.13329899e+00, -2.12385595e-01,  8.81253928e-02,\n",
              "        -2.25753713e+00,  1.01216245e+00,  5.91887283e+00,\n",
              "         7.78625250e-01, -6.02597833e-01,  1.27733207e+00,\n",
              "         7.02225089e-01, -2.84416246e+00,  7.57762790e-02,\n",
              "         1.25433660e+00, -4.55755329e+00, -2.28874063e+00,\n",
              "        -2.81586814e+00,  4.96800214e-01, -5.82914448e+00,\n",
              "         1.55934060e+00, -1.29352593e+00,  3.41127539e+00,\n",
              "         2.50549746e+00,  2.39062518e-01, -4.64482880e+00,\n",
              "         3.60538077e+00,  1.53673053e-01, -3.16391289e-01,\n",
              "         2.27359653e-01,  1.98032737e+00,  3.20914602e+00,\n",
              "         2.24991107e+00,  2.07502437e+00, -2.25578606e-01,\n",
              "        -7.53574073e-03,  2.16824079e+00, -2.19272304e+00,\n",
              "         3.32522058e+00, -3.22871387e-01,  3.97258461e-01,\n",
              "        -1.89579725e-02,  2.55311155e+00, -3.23910141e+00,\n",
              "         2.12093383e-01, -1.99336159e+00, -7.55228758e-01,\n",
              "         1.68276894e+00,  2.84810543e+00,  1.96072316e+00,\n",
              "        -1.42775047e+00, -1.23103094e+00, -1.62722278e+00,\n",
              "        -2.16580105e+00, -7.25063324e-01, -5.48834372e+00,\n",
              "        -3.67942095e-01,  3.47626507e-02, -4.33429837e-01,\n",
              "         1.45197856e+00,  1.41045308e+00,  6.77707911e-01,\n",
              "         3.57624745e+00,  8.56933594e-01,  2.31088376e+00,\n",
              "        -7.58745432e-01,  1.47669744e+00, -2.33987665e+00,\n",
              "        -4.49290085e+00,  8.75248253e-01, -3.87427896e-01,\n",
              "        -4.53898382e+00,  1.78389966e-01, -6.59990728e-01,\n",
              "         8.35385323e-02,  2.24821758e+00, -7.06388175e-01,\n",
              "         2.28854346e+00,  6.92868948e-01, -6.44442797e-01,\n",
              "         7.04108953e-01,  8.07145953e-01, -2.05159020e+00,\n",
              "         1.05880618e+00, -2.99439812e+00,  2.01843977e+00],\n",
              "       [-5.61906219e-01, -1.28324294e+00,  3.32958746e+00,\n",
              "        -1.94639349e+00,  4.81562555e-01, -3.91102463e-01,\n",
              "         4.61260843e+00, -1.24593651e+00, -1.67065442e+00,\n",
              "        -3.31480432e+00, -1.21656203e+00, -1.11752629e+00,\n",
              "        -1.06984830e+00,  4.55400288e-01, -3.03086340e-01,\n",
              "         2.49290913e-01, -2.06050158e+00,  6.65071607e-01,\n",
              "         1.85027230e+00, -2.39358044e+00, -9.29857016e-01,\n",
              "         4.45093572e-01, -4.04543817e-01, -3.06645989e+00,\n",
              "        -4.93195891e-01, -1.66623878e+00, -2.88237429e+00,\n",
              "         6.73232377e-02,  1.42744350e+00,  3.67598981e-01,\n",
              "         1.17180085e+00,  1.37523067e+00,  1.02116311e+00,\n",
              "         2.14036560e+00,  8.55535209e-01, -3.73505592e+00,\n",
              "         2.81482649e+00,  3.67194414e-02,  1.74951291e+00,\n",
              "         2.64379120e+00, -1.38464844e+00, -3.74832898e-01,\n",
              "         2.26404977e+00,  8.40237379e-01,  1.46994591e-01,\n",
              "        -7.07408786e-02,  1.94971454e+00,  1.48569775e+00,\n",
              "        -5.39860129e-03,  5.20477343e+00,  8.11145544e-01,\n",
              "        -4.73466253e+00, -2.15079904e+00,  1.12076759e+00,\n",
              "        -2.48396635e+00,  1.59398770e+00,  3.49470520e+00,\n",
              "        -2.30330259e-01,  1.56937003e+00, -1.72046936e+00,\n",
              "         1.77364647e+00,  4.93456507e+00,  1.79729176e+00,\n",
              "        -1.44915175e+00, -6.12495899e-01, -2.18898511e+00,\n",
              "         3.22912073e+00, -1.72642827e-01, -2.75656605e+00,\n",
              "        -3.78923035e+00, -2.22688580e+00,  1.04946494e-02,\n",
              "         1.31662726e+00,  1.37615693e+00, -3.87149620e+00,\n",
              "        -1.25552642e+00,  3.12465668e-01,  1.33722520e+00,\n",
              "        -1.36657631e+00,  6.23370528e-01, -4.40253466e-01,\n",
              "        -9.69317019e-01,  2.22451115e+00, -1.76887929e+00,\n",
              "         9.13676023e-01,  2.59100533e+00, -1.72424769e+00,\n",
              "         5.70232272e-01,  7.26564288e-01, -1.41541183e+00,\n",
              "        -1.62620425e-01, -1.59289527e+00, -2.57416427e-01,\n",
              "         3.52090192e+00, -6.25210524e-01,  3.24840784e-01],\n",
              "       [ 2.15702701e+00,  1.93081367e+00,  5.16912413e+00,\n",
              "         1.90151644e+00,  4.46309471e+00,  3.25052857e-01,\n",
              "         4.55691528e+00,  5.30211270e-01, -2.72420979e+00,\n",
              "         1.89585376e+00,  8.94368708e-01, -1.07995725e+00,\n",
              "        -9.79788661e-01, -1.30049789e+00, -2.42228365e+00,\n",
              "        -4.58809435e-01, -1.29421031e+00,  1.09713638e+00,\n",
              "         9.06888843e-02, -3.20806265e+00, -3.48848629e+00,\n",
              "         5.07107973e-01, -1.81676531e+00, -1.71915114e-01,\n",
              "         4.91443664e-01,  9.51878309e-01, -1.48358703e-01,\n",
              "         4.07696438e+00,  1.01437533e+00, -3.05619454e+00,\n",
              "         9.36836660e-01, -2.14681053e+00, -3.02623081e+00,\n",
              "         3.86770725e+00,  1.74888289e+00,  1.34147310e+00,\n",
              "         6.99308276e-01,  3.69255304e-01,  1.46264434e-01,\n",
              "         7.33870327e-01, -1.50303245e-02,  2.97689772e+00,\n",
              "        -1.39430046e+00, -4.23995972e+00, -1.69946551e-01,\n",
              "        -4.65740085e-01,  4.10912609e+00, -2.15461683e+00,\n",
              "        -3.48770499e+00, -1.70456028e+00,  1.37386334e+00,\n",
              "         1.36415803e+00, -5.46804965e-01, -7.80823052e-01,\n",
              "        -2.32514691e+00, -1.64863718e+00, -8.73254418e-01,\n",
              "         2.98550940e+00,  2.52820206e+00, -4.62278754e-01,\n",
              "         3.96836829e+00,  5.73312819e-01,  1.38112533e+00,\n",
              "        -3.79478979e+00, -1.77786350e+00, -1.78353930e+00,\n",
              "         6.61674142e-01, -4.36398268e+00, -5.30353904e-01,\n",
              "        -3.88962030e-02,  1.75884879e+00,  7.99846649e-03,\n",
              "         2.23853874e+00, -1.71937692e+00,  1.94953096e+00,\n",
              "        -1.15838790e+00, -4.58128452e-02, -3.15515459e-01,\n",
              "        -1.02457118e+00,  7.90610254e-01, -1.31905699e+00,\n",
              "        -2.34091973e+00,  1.25917506e+00, -2.67846346e+00,\n",
              "         6.98277950e-01,  3.68816543e+00,  1.93594432e+00,\n",
              "        -1.12787390e+00,  5.91171682e-02,  2.08667183e+00,\n",
              "        -6.25440836e-01, -1.20228875e+00,  2.83457899e+00,\n",
              "         1.82213068e-01, -3.53404236e+00, -2.88858962e+00],\n",
              "       [-1.67401445e+00, -1.89190912e+00,  2.78966212e+00,\n",
              "        -2.11805582e+00,  2.76584768e+00,  4.02911544e-01,\n",
              "         1.92263889e+00, -1.99465716e+00, -2.53863871e-01,\n",
              "        -3.15995574e+00, -1.18046832e+00, -2.11582094e-01,\n",
              "        -1.67964846e-01,  1.66710794e+00, -1.19120502e+00,\n",
              "        -1.18408358e+00, -8.46444130e-01, -8.01397145e-01,\n",
              "        -8.50559771e-02, -1.95800328e+00, -8.15253139e-01,\n",
              "         2.68122107e-01, -1.81582463e+00, -1.81308389e+00,\n",
              "        -4.79790568e-02, -2.96204758e+00, -2.47021770e+00,\n",
              "         3.24044645e-01,  6.59509540e-01, -6.30437434e-02,\n",
              "         6.07967973e-02,  1.52812195e+00, -1.12255573e-01,\n",
              "         2.88443065e+00,  1.10586226e+00, -2.62492752e+00,\n",
              "         1.03435421e+00,  5.33749104e-01,  1.95478010e+00,\n",
              "         2.21831799e+00, -2.28571844e+00,  1.01856244e+00,\n",
              "         1.74236584e+00,  8.04920256e-01,  2.51259416e-01,\n",
              "        -1.07207942e+00,  1.26268697e+00, -7.90318608e-01,\n",
              "        -2.09431887e+00,  2.65495682e+00,  7.88701773e-01,\n",
              "        -3.68138742e+00, -1.17368078e+00,  5.78291774e-01,\n",
              "        -4.27176178e-01,  1.07438064e+00,  3.56909990e+00,\n",
              "         3.14146042e+00, -6.95918918e-01, -2.05946088e+00,\n",
              "         3.22603869e+00,  4.94528294e+00, -5.51974714e-01,\n",
              "        -4.13635850e-01, -1.15723646e+00, -2.62756348e+00,\n",
              "         2.89121819e+00, -9.39901650e-01, -2.18149185e+00,\n",
              "        -2.89392471e+00, -2.86950159e+00,  3.05085778e-01,\n",
              "         2.47664833e+00, -1.21955186e-01, -1.34543633e+00,\n",
              "         1.24363446e+00,  4.53408837e-01,  1.07876980e+00,\n",
              "        -2.95357919e+00,  1.24321389e+00,  2.01624918e+00,\n",
              "        -1.02746916e+00,  4.29040051e+00, -1.52000296e+00,\n",
              "         2.13738233e-01,  2.97373414e+00, -1.79481757e+00,\n",
              "         1.89298868e-01,  3.04674935e+00, -1.40789521e+00,\n",
              "        -5.18462598e-01, -7.81401634e-01,  1.21504140e+00,\n",
              "         4.11504364e+00, -6.77703738e-01,  3.87721449e-01],\n",
              "       [ 1.22072649e+00,  1.60084867e+00,  4.87441063e+00,\n",
              "         5.45288205e-01,  2.32059431e+00,  5.15321255e-01,\n",
              "         2.31680202e+00, -1.90689003e+00, -9.86375809e-01,\n",
              "         7.45910645e-01, -1.51559305e+00, -8.23210359e-01,\n",
              "        -1.02108073e+00, -1.19104540e+00, -1.17602730e+00,\n",
              "        -7.46566594e-01, -1.53060746e+00,  2.21928215e+00,\n",
              "         8.02387118e-01, -1.74264526e+00, -2.50819087e+00,\n",
              "         5.98734796e-01, -6.13253295e-01,  5.06147385e-01,\n",
              "         5.20383835e-01, -1.69215083e+00,  1.13879466e+00,\n",
              "         3.52121758e+00,  5.13982654e-01, -2.87089396e+00,\n",
              "         2.24559814e-01, -2.00616884e+00, -2.46616435e+00,\n",
              "         2.17570972e+00,  4.81144905e-01,  1.67641103e+00,\n",
              "        -5.94854355e-04,  1.08071399e+00,  6.61006570e-01,\n",
              "         1.45407796e-01,  1.53277516e-01,  3.18823195e+00,\n",
              "        -2.10590482e+00, -3.67727566e+00,  2.16819763e+00,\n",
              "        -4.15836275e-01,  1.65546864e-01, -2.04621100e+00,\n",
              "        -1.82615328e+00, -8.92136931e-01,  2.02747488e+00,\n",
              "        -2.01239681e+00, -4.13203716e-01, -2.12494516e+00,\n",
              "        -2.03571510e+00, -2.20085907e+00, -4.06708479e-01,\n",
              "         7.08214569e+00,  3.57538033e+00, -2.27693748e+00,\n",
              "         1.73729372e+00,  1.35067105e+00,  1.20450306e+00,\n",
              "        -2.81270361e+00,  2.05694818e+00,  2.15906382e-01,\n",
              "         1.26468086e+00, -2.43146038e+00, -1.81393158e+00,\n",
              "         5.75271130e-01,  1.03949964e+00,  5.14825106e-01,\n",
              "         2.76620650e+00, -8.41944456e-01,  2.15318298e+00,\n",
              "        -1.48314083e+00,  1.69741631e+00, -1.89792776e+00,\n",
              "        -3.79963684e+00,  3.35938156e-01, -3.18189049e+00,\n",
              "        -4.06377554e-01,  1.23899472e+00, -1.57255673e+00,\n",
              "        -5.63465595e-01,  4.92578697e+00, -4.90275621e-01,\n",
              "         3.76318908e+00, -9.11978483e-02, -5.34699798e-01,\n",
              "        -1.37929630e+00, -4.01639730e-01,  3.97247076e-02,\n",
              "         3.02770877e+00, -1.82822990e+00, -3.36571455e+00],\n",
              "       [-8.65646005e-02,  1.53393686e+00, -8.65682244e-01,\n",
              "         1.70237243e-01,  2.13952899e+00,  2.04492271e-01,\n",
              "         2.43564129e+00,  8.27159941e-01,  2.09699821e+00,\n",
              "         6.31626964e-01,  1.97422281e-01, -7.44652987e-01,\n",
              "        -2.27695489e+00,  2.77493382e+00, -1.46938610e+00,\n",
              "        -1.31173921e+00, -1.68513346e+00, -1.90301740e+00,\n",
              "        -3.43353105e+00,  6.14082813e-03,  6.64562464e-01,\n",
              "        -9.93946075e-01, -5.13409019e-01, -7.78906345e-02,\n",
              "         2.46989489e-01, -1.33147216e+00, -6.28080130e-01,\n",
              "         2.43189216e-01, -1.15504503e+00,  1.76227045e+00,\n",
              "         7.68339276e-01,  6.63039088e-01, -1.15385926e+00,\n",
              "         3.25977802e+00,  1.52910352e-01, -4.88560557e-01,\n",
              "        -2.00544763e+00,  3.82519066e-01,  8.96193981e-02,\n",
              "         5.31211376e-01,  7.89573014e-01,  1.77548516e+00,\n",
              "        -4.44948703e-01, -2.25124210e-01,  1.77083135e+00,\n",
              "         1.15497255e+00, -1.65009618e+00,  5.57368100e-01,\n",
              "        -3.51131320e+00,  2.57034755e+00,  9.24541116e-01,\n",
              "        -5.60087383e-01, -5.77340603e-01,  1.28394961e+00,\n",
              "         1.15645170e+00,  4.08887446e-01,  5.22349119e+00,\n",
              "        -2.32219076e+00, -1.86949462e-01, -1.25012434e+00,\n",
              "        -4.68144417e-02,  8.09847593e-01, -1.41449010e+00,\n",
              "         2.74936914e-01,  6.55417562e-01,  3.11079323e-01,\n",
              "        -6.22158229e-01,  1.39348805e-01, -3.13136721e+00,\n",
              "         3.55165184e-01, -2.11431623e+00,  2.24078298e+00,\n",
              "         6.28309190e-01, -6.54348910e-01,  3.45992804e-01,\n",
              "        -7.61359692e-01, -8.00174594e-01, -8.65109921e-01,\n",
              "        -1.61192703e+00, -1.25350416e-01, -1.33309984e+00,\n",
              "         2.58148670e-01, -2.39740801e+00,  6.31682873e-01,\n",
              "         6.39383376e-01,  7.08262920e-01,  2.55271411e+00,\n",
              "         1.82850206e+00,  3.89582336e-01, -1.12211585e-01,\n",
              "        -1.71116424e+00, -2.33738005e-01,  2.20569968e-02,\n",
              "        -7.13998377e-01, -8.59893560e-02,  9.43051398e-01],\n",
              "       [ 0.00000000e+00,  0.00000000e+00,  0.00000000e+00,\n",
              "         0.00000000e+00,  0.00000000e+00,  0.00000000e+00,\n",
              "         0.00000000e+00,  0.00000000e+00,  0.00000000e+00,\n",
              "         0.00000000e+00,  0.00000000e+00,  0.00000000e+00,\n",
              "         0.00000000e+00,  0.00000000e+00,  0.00000000e+00,\n",
              "         0.00000000e+00,  0.00000000e+00,  0.00000000e+00,\n",
              "         0.00000000e+00,  0.00000000e+00,  0.00000000e+00,\n",
              "         0.00000000e+00,  0.00000000e+00,  0.00000000e+00,\n",
              "         0.00000000e+00,  0.00000000e+00,  0.00000000e+00,\n",
              "         0.00000000e+00,  0.00000000e+00,  0.00000000e+00,\n",
              "         0.00000000e+00,  0.00000000e+00,  0.00000000e+00,\n",
              "         0.00000000e+00,  0.00000000e+00,  0.00000000e+00,\n",
              "         0.00000000e+00,  0.00000000e+00,  0.00000000e+00,\n",
              "         0.00000000e+00,  0.00000000e+00,  0.00000000e+00,\n",
              "         0.00000000e+00,  0.00000000e+00,  0.00000000e+00,\n",
              "         0.00000000e+00,  0.00000000e+00,  0.00000000e+00,\n",
              "         0.00000000e+00,  0.00000000e+00,  0.00000000e+00,\n",
              "         0.00000000e+00,  0.00000000e+00,  0.00000000e+00,\n",
              "         0.00000000e+00,  0.00000000e+00,  0.00000000e+00,\n",
              "         0.00000000e+00,  0.00000000e+00,  0.00000000e+00,\n",
              "         0.00000000e+00,  0.00000000e+00,  0.00000000e+00,\n",
              "         0.00000000e+00,  0.00000000e+00,  0.00000000e+00,\n",
              "         0.00000000e+00,  0.00000000e+00,  0.00000000e+00,\n",
              "         0.00000000e+00,  0.00000000e+00,  0.00000000e+00,\n",
              "         0.00000000e+00,  0.00000000e+00,  0.00000000e+00,\n",
              "         0.00000000e+00,  0.00000000e+00,  0.00000000e+00,\n",
              "         0.00000000e+00,  0.00000000e+00,  0.00000000e+00,\n",
              "         0.00000000e+00,  0.00000000e+00,  0.00000000e+00,\n",
              "         0.00000000e+00,  0.00000000e+00,  0.00000000e+00,\n",
              "         0.00000000e+00,  0.00000000e+00,  0.00000000e+00,\n",
              "         0.00000000e+00,  0.00000000e+00,  0.00000000e+00,\n",
              "         0.00000000e+00,  0.00000000e+00,  0.00000000e+00]], dtype=float32)>"
            ]
          },
          "metadata": {
            "tags": []
          },
          "execution_count": 39
        }
      ]
    },
    {
      "cell_type": "code",
      "metadata": {
        "id": "oekwH2Zu8rna",
        "colab": {
          "base_uri": "https://localhost:8080/",
          "height": 604
        },
        "outputId": "2e19d453-5faf-4bb7-8166-abd69562a568"
      },
      "source": [
        "# check\n",
        "print(embedding_matrix[2])\n",
        "print(embedding_output[1][0])"
      ],
      "execution_count": null,
      "outputs": [
        {
          "output_type": "stream",
          "text": [
            "[ 1.3639276  -2.4362004   4.93911    -2.0180569   1.5217042  -1.402194\n",
            "  4.7577243  -0.25062323 -1.4917756  -2.4521866  -1.276049   -1.3093959\n",
            " -1.0858254  -0.67167014 -1.0938559  -1.2864904  -2.7010226   0.5923736\n",
            "  2.1028752  -3.2102888  -1.4638464   3.0381584   0.1937661  -2.9501593\n",
            " -1.1214483  -2.0130916  -1.9355633   0.020751    2.3404515   0.04026657\n",
            "  0.5707246   1.4150819   0.39973164  2.043944    1.2768389  -3.0895095\n",
            "  4.0099034   0.29911005  1.027945    2.815574   -2.184166   -0.4472455\n",
            "  1.3254995   1.778882    0.06864452  0.5880788   1.811482    0.7730744\n",
            " -1.7234092   5.4996524   0.12350267 -4.526079   -1.9351692   0.79747844\n",
            " -1.9937111   3.0747123   3.2898862  -1.2227399   1.2424335  -0.57622683\n",
            "  1.2778368   4.9590282   0.6718544  -2.3315613  -0.8126818  -1.1441078\n",
            "  2.56817    -0.8662305  -3.233226   -3.9556065  -1.9299409  -0.29795688\n",
            "  1.5369564   1.5050672  -2.4184477  -0.4063188  -0.80276114  0.64950657\n",
            " -1.7719977  -0.16019273  0.83855665 -2.2610872   2.4838014  -2.7180035\n",
            " -0.26227924  2.967094   -1.6899116   1.705099    0.8128476  -1.446658\n",
            " -0.03507662 -1.2387217   0.79187834  2.0821862  -0.53293735  1.5853851 ]\n",
            "tf.Tensor(\n",
            "[ 1.3639276  -2.4362004   4.93911    -2.0180569   1.5217042  -1.402194\n",
            "  4.7577243  -0.25062323 -1.4917756  -2.4521866  -1.276049   -1.3093959\n",
            " -1.0858254  -0.67167014 -1.0938559  -1.2864904  -2.7010226   0.5923736\n",
            "  2.1028752  -3.2102888  -1.4638464   3.0381584   0.1937661  -2.9501593\n",
            " -1.1214483  -2.0130916  -1.9355633   0.020751    2.3404515   0.04026657\n",
            "  0.5707246   1.4150819   0.39973164  2.043944    1.2768389  -3.0895095\n",
            "  4.0099034   0.29911005  1.027945    2.815574   -2.184166   -0.4472455\n",
            "  1.3254995   1.778882    0.06864452  0.5880788   1.811482    0.7730744\n",
            " -1.7234092   5.4996524   0.12350267 -4.526079   -1.9351692   0.79747844\n",
            " -1.9937111   3.0747123   3.2898862  -1.2227399   1.2424335  -0.57622683\n",
            "  1.2778368   4.9590282   0.6718544  -2.3315613  -0.8126818  -1.1441078\n",
            "  2.56817    -0.8662305  -3.233226   -3.9556065  -1.9299409  -0.29795688\n",
            "  1.5369564   1.5050672  -2.4184477  -0.4063188  -0.80276114  0.64950657\n",
            " -1.7719977  -0.16019273  0.83855665 -2.2610872   2.4838014  -2.7180035\n",
            " -0.26227924  2.967094   -1.6899116   1.705099    0.8128476  -1.446658\n",
            " -0.03507662 -1.2387217   0.79187834  2.0821862  -0.53293735  1.5853851 ], shape=(96,), dtype=float32)\n"
          ],
          "name": "stdout"
        }
      ]
    },
    {
      "cell_type": "code",
      "metadata": {
        "id": "N4jqdrap8rng",
        "colab": {
          "base_uri": "https://localhost:8080/",
          "height": 604
        },
        "outputId": "e57a493f-16b6-4c93-ce43-a01db675b543"
      },
      "source": [
        "print(embedding_matrix[26])\n",
        "print(embedding_output[1][1])"
      ],
      "execution_count": null,
      "outputs": [
        {
          "output_type": "stream",
          "text": [
            "[-0.02667493  0.02712947 -0.52140975 -1.2122002   1.9806645   2.8224418\n",
            "  3.59089     0.7676063   1.6250793   2.6543105   3.9867003  -1.2007122\n",
            "  3.735116   -2.901899    1.263808    0.22502655 -0.74813443  2.0611222\n",
            " -1.8619318  -1.2527559   0.6434767   0.3753251  -0.38927418 -0.99316335\n",
            " -0.1664238   1.7456719   1.7081966  -1.4897225   3.2593057  -1.4317417\n",
            "  1.3258004   0.25987482 -0.8375909   1.8391478   3.5688353  -2.5691366\n",
            "  1.0060377   1.0213228  -3.9515352   0.98927253  3.4900365   0.8164853\n",
            " -1.9785689  -3.207472   -1.3412397  -0.78585035  0.13200724 -2.981964\n",
            " -2.35158     2.045514    0.8303373  -0.5554712  -0.6039055  -1.3674781\n",
            " -1.1646913   0.889627    0.5447223   0.565897   -0.28678954 -1.663604\n",
            "  1.570518   -2.129882    0.37795347 -1.6328102  -0.13172239 -0.9532585\n",
            "  1.6231287  -4.117493   -1.7641671  -0.6890385  -0.3086818   0.44739038\n",
            "  2.5855176  -0.05758116 -1.7398558  -1.895988    0.6580272  -1.3203626\n",
            " -2.5437446   1.3330004   0.3710615  -1.5996593  -0.9437195  -0.52546126\n",
            "  0.9389883   2.6818511  -0.65757215  2.1432183  -0.39140373 -1.1077754\n",
            "  0.98217785  0.7865767  -0.16522804  2.4296427   0.74127465 -2.1387591 ]\n",
            "tf.Tensor(\n",
            "[-0.02667493  0.02712947 -0.52140975 -1.2122002   1.9806645   2.8224418\n",
            "  3.59089     0.7676063   1.6250793   2.6543105   3.9867003  -1.2007122\n",
            "  3.735116   -2.901899    1.263808    0.22502655 -0.74813443  2.0611222\n",
            " -1.8619318  -1.2527559   0.6434767   0.3753251  -0.38927418 -0.99316335\n",
            " -0.1664238   1.7456719   1.7081966  -1.4897225   3.2593057  -1.4317417\n",
            "  1.3258004   0.25987482 -0.8375909   1.8391478   3.5688353  -2.5691366\n",
            "  1.0060377   1.0213228  -3.9515352   0.98927253  3.4900365   0.8164853\n",
            " -1.9785689  -3.207472   -1.3412397  -0.78585035  0.13200724 -2.981964\n",
            " -2.35158     2.045514    0.8303373  -0.5554712  -0.6039055  -1.3674781\n",
            " -1.1646913   0.889627    0.5447223   0.565897   -0.28678954 -1.663604\n",
            "  1.570518   -2.129882    0.37795347 -1.6328102  -0.13172239 -0.9532585\n",
            "  1.6231287  -4.117493   -1.7641671  -0.6890385  -0.3086818   0.44739038\n",
            "  2.5855176  -0.05758116 -1.7398558  -1.895988    0.6580272  -1.3203626\n",
            " -2.5437446   1.3330004   0.3710615  -1.5996593  -0.9437195  -0.52546126\n",
            "  0.9389883   2.6818511  -0.65757215  2.1432183  -0.39140373 -1.1077754\n",
            "  0.98217785  0.7865767  -0.16522804  2.4296427   0.74127465 -2.1387591 ], shape=(96,), dtype=float32)\n"
          ],
          "name": "stdout"
        }
      ]
    },
    {
      "cell_type": "markdown",
      "metadata": {
        "id": "eCb8GaLh8rnp"
      },
      "source": [
        "# wrap it up: full neural network architecture and training demo"
      ]
    },
    {
      "cell_type": "code",
      "metadata": {
        "id": "R-WxoSIP8rnq",
        "colab": {
          "base_uri": "https://localhost:8080/",
          "height": 35
        },
        "outputId": "0dc41296-a871-458f-de15-d29f2a57b319"
      },
      "source": [
        "# randomly assign some values for demonstration purpose\n",
        "np.random.seed(0)\n",
        "y_train = np.random.choice(2, len(pad_sequences))\n",
        "y_train"
      ],
      "execution_count": null,
      "outputs": [
        {
          "output_type": "execute_result",
          "data": {
            "text/plain": [
              "array([0, 1, 1, 0, 1, 1, 1, 1, 1, 1, 1, 0, 0, 1, 0, 0, 0, 0])"
            ]
          },
          "metadata": {
            "tags": []
          },
          "execution_count": 42
        }
      ]
    },
    {
      "cell_type": "code",
      "metadata": {
        "id": "VXEW8KMQ8rnw"
      },
      "source": [
        "from tensorflow.keras.layers import Dense\n",
        "from tensorflow.keras.layers import Conv1D, MaxPooling1D\n",
        "from tensorflow.keras.layers import LSTM\n",
        "from tensorflow.keras.models import Sequential"
      ],
      "execution_count": null,
      "outputs": []
    },
    {
      "cell_type": "code",
      "metadata": {
        "id": "LrIL5ho48rn2",
        "colab": {
          "base_uri": "https://localhost:8080/",
          "height": 337
        },
        "outputId": "fbb508c3-1458-4c12-e360-0643cc1b45d9"
      },
      "source": [
        "# 1D CNN model.\n",
        "\n",
        "cnnmodel = Sequential()\n",
        "cnnmodel.add(embedding_layer)\n",
        "cnnmodel.add(Conv1D(4, 5, activation='relu'))\n",
        "cnnmodel.add(MaxPooling1D(5))\n",
        "cnnmodel.add(Dense(4, activation='relu'))\n",
        "cnnmodel.add(Dense(2, activation='softmax'))\n",
        "\n",
        "cnnmodel.compile(loss='sparse_categorical_crossentropy',\n",
        "              optimizer='adam',\n",
        "              metrics=['acc'])\n",
        "cnnmodel.summary()"
      ],
      "execution_count": null,
      "outputs": [
        {
          "output_type": "stream",
          "text": [
            "Model: \"sequential\"\n",
            "_________________________________________________________________\n",
            "Layer (type)                 Output Shape              Param #   \n",
            "=================================================================\n",
            "embedding (Embedding)        (None, 10, 96)            4800      \n",
            "_________________________________________________________________\n",
            "conv1d (Conv1D)              (None, 6, 4)              1924      \n",
            "_________________________________________________________________\n",
            "max_pooling1d (MaxPooling1D) (None, 1, 4)              0         \n",
            "_________________________________________________________________\n",
            "dense (Dense)                (None, 1, 4)              20        \n",
            "_________________________________________________________________\n",
            "dense_1 (Dense)              (None, 1, 2)              10        \n",
            "=================================================================\n",
            "Total params: 6,754\n",
            "Trainable params: 1,954\n",
            "Non-trainable params: 4,800\n",
            "_________________________________________________________________\n"
          ],
          "name": "stdout"
        }
      ]
    },
    {
      "cell_type": "markdown",
      "metadata": {
        "id": "QXb4BUS48rn9"
      },
      "source": [
        "### Note:\n",
        "Your deivce gpu configuration might not support the NN architeture setting. \n",
        "Use CPU instead or use cloud"
      ]
    },
    {
      "cell_type": "code",
      "metadata": {
        "id": "r7IajKu68rn-",
        "colab": {
          "base_uri": "https://localhost:8080/"
        },
        "outputId": "7589c30d-5140-41ca-f3ea-7ec24b92377f"
      },
      "source": [
        "# check gpu availability\n",
        "import tensorflow as tf\n",
        "tf.config.get_visible_devices(device_type=None)\n"
      ],
      "execution_count": null,
      "outputs": [
        {
          "output_type": "execute_result",
          "data": {
            "text/plain": [
              "[PhysicalDevice(name='/physical_device:CPU:0', device_type='CPU')]"
            ]
          },
          "metadata": {
            "tags": []
          },
          "execution_count": 45
        }
      ]
    },
    {
      "cell_type": "code",
      "metadata": {
        "id": "aMGsXIzq8roH",
        "colab": {
          "base_uri": "https://localhost:8080/"
        },
        "outputId": "5b5f8dd3-61a9-41c4-92e7-4abb52abe8c1"
      },
      "source": [
        "with tf.device('/cpu:0'): # use cpu to train\n",
        "# with tf.device('/gpu:0'): # use gpu to train\n",
        "    cnnmodel.fit(x=pad_sequences, y=y_train,\n",
        "                 batch_size=128,\n",
        "                 validation_split=0.4,\n",
        "                 epochs=1, )"
      ],
      "execution_count": null,
      "outputs": [
        {
          "output_type": "stream",
          "text": [
            "1/1 [==============================] - 0s 258ms/step - loss: 1.2127 - acc: 0.2000 - val_loss: 0.7111 - val_acc: 0.7500\n"
          ],
          "name": "stdout"
        }
      ]
    },
    {
      "cell_type": "code",
      "metadata": {
        "id": "fDm8UZM58roO"
      },
      "source": [
        "### LSTM Model using pre-trained Embedding Layer"
      ],
      "execution_count": null,
      "outputs": []
    },
    {
      "cell_type": "code",
      "metadata": {
        "id": "iglf0yQ78roU",
        "colab": {
          "base_uri": "https://localhost:8080/"
        },
        "outputId": "84528ae4-7dfe-4161-d758-3e1c3290d3d4"
      },
      "source": [
        "# LSTM model\n",
        "\n",
        "rnnmodel = Sequential()\n",
        "rnnmodel.add(embedding_layer)\n",
        "rnnmodel.add(LSTM(128, dropout=0.2, recurrent_dropout=0.2))\n",
        "rnnmodel.add(Dense(2, activation='sigmoid'))\n",
        "rnnmodel.compile(loss='sparse_categorical_crossentropy',\n",
        "              optimizer='adam',\n",
        "              metrics=['acc'])\n",
        "rnnmodel.summary()\n"
      ],
      "execution_count": null,
      "outputs": [
        {
          "output_type": "stream",
          "text": [
            "Model: \"sequential_1\"\n",
            "_________________________________________________________________\n",
            "Layer (type)                 Output Shape              Param #   \n",
            "=================================================================\n",
            "embedding (Embedding)        (None, 10, 96)            4800      \n",
            "_________________________________________________________________\n",
            "lstm (LSTM)                  (None, 128)               115200    \n",
            "_________________________________________________________________\n",
            "dense_2 (Dense)              (None, 2)                 258       \n",
            "=================================================================\n",
            "Total params: 120,258\n",
            "Trainable params: 115,458\n",
            "Non-trainable params: 4,800\n",
            "_________________________________________________________________\n"
          ],
          "name": "stdout"
        }
      ]
    },
    {
      "cell_type": "code",
      "metadata": {
        "id": "CFOg2vWw8roZ",
        "colab": {
          "base_uri": "https://localhost:8080/"
        },
        "outputId": "28a4be9e-6749-4a81-ff79-fed0a867d6d5"
      },
      "source": [
        "with tf.device('/cpu:0'):\n",
        "    rnnmodel.fit(x=pad_sequences, y=y_train,\n",
        "                 batch_size=128,\n",
        "                 validation_split=0.4,\n",
        "                 epochs=1, )"
      ],
      "execution_count": null,
      "outputs": [
        {
          "output_type": "stream",
          "text": [
            "1/1 [==============================] - 0s 339ms/step - loss: 0.7251 - acc: 0.4000 - val_loss: 0.7670 - val_acc: 0.2500\n"
          ],
          "name": "stdout"
        }
      ]
    },
    {
      "cell_type": "code",
      "metadata": {
        "id": "ehLXDbnO8rof"
      },
      "source": [],
      "execution_count": null,
      "outputs": []
    }
  ]
}