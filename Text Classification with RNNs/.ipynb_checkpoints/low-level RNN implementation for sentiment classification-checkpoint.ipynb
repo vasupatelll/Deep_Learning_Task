{
 "cells": [
  {
   "cell_type": "markdown",
   "id": "cbfa2733",
   "metadata": {},
   "source": [
    " # low-level RNN implementation for sentiment classification"
   ]
  },
  {
   "cell_type": "markdown",
   "id": "2e2ff62c",
   "metadata": {},
   "source": [
    "### Workflow\n",
    "<hr>\n",
    "\n",
    "- [Imports](#1)\n",
    "- [Loading Dataset](#2)\n",
    "- [Word Index](#3)\n",
    "- [Preprocessing](#4)\n",
    "- [Creating Rnn Model](#5)\n",
    "- [Compile the Model](#6)\n",
    "- [Training the Model](#7)"
   ]
  },
  {
   "cell_type": "markdown",
   "id": "2baaabe5",
   "metadata": {},
   "source": [
    "### Imports<a name = 1></a>\n",
    "<hr>"
   ]
  },
  {
   "cell_type": "code",
   "execution_count": 1,
   "id": "5e0d287d",
   "metadata": {},
   "outputs": [],
   "source": [
    "import tensorflow as tf\n",
    "import numpy as np\n",
    "import matplotlib.pyplot as plt\n",
    "\n",
    "from sklearn.model_selection import train_test_split\n",
    "from tensorflow.keras.layers import SimpleRNN, Embedding, Dense\n",
    "from tensorflow.keras.datasets import imdb\n",
    "from tensorflow.keras.models import Sequential\n",
    "from tensorflow.keras.preprocessing import sequence"
   ]
  },
  {
   "cell_type": "markdown",
   "id": "301b2ccb",
   "metadata": {},
   "source": [
    "### Loading Dataset<a name= 2></a>\n",
    "<hr>"
   ]
  },
  {
   "cell_type": "code",
   "execution_count": 2,
   "id": "60c5596a",
   "metadata": {},
   "outputs": [
    {
     "name": "stdout",
     "output_type": "stream",
     "text": [
      "[1, 14, 22, 16, 43, 530, 973, 1622, 1385, 65, 458, 4468, 66, 3941, 4, 173, 36, 256, 5, 25, 100, 43, 838, 112, 50, 670, 2, 9, 35, 480, 284, 5, 150, 4, 172, 112, 167, 2, 336, 385, 39, 4, 172, 4536, 1111, 17, 546, 38, 13, 447, 4, 192, 50, 16, 6, 147, 2025, 19, 14, 22, 4, 1920, 4613, 469, 4, 22, 71, 87, 12, 16, 43, 530, 38, 76, 15, 13, 1247, 4, 22, 17, 515, 17, 12, 16, 626, 18, 19193, 5, 62, 386, 12, 8, 316, 8, 106, 5, 4, 2223, 5244, 16, 480, 66, 3785, 33, 4, 130, 12, 16, 38, 619, 5, 25, 124, 51, 36, 135, 48, 25, 1415, 33, 6, 22, 12, 215, 28, 77, 52, 5, 14, 407, 16, 82, 10311, 8, 4, 107, 117, 5952, 15, 256, 4, 2, 7, 3766, 5, 723, 36, 71, 43, 530, 476, 26, 400, 317, 46, 7, 4, 12118, 1029, 13, 104, 88, 4, 381, 15, 297, 98, 32, 2071, 56, 26, 141, 6, 194, 7486, 18, 4, 226, 22, 21, 134, 476, 26, 480, 5, 144, 30, 5535, 18, 51, 36, 28, 224, 92, 25, 104, 4, 226, 65, 16, 38, 1334, 88, 12, 16, 283, 5, 16, 4472, 113, 103, 32, 15, 16, 5345, 19, 178, 32]\n",
      "\n",
      "Total Length:  218 \n",
      "X train shape:  (25000,) \n",
      "Y train shape:  (25000,) \n",
      "X test shape:  (25000,) \n",
      "Y test shape:  (25000,)\n"
     ]
    }
   ],
   "source": [
    "# Loading data into (X,y) and (X,y), (train) and (test), respectively.\n",
    "vocabulary_size = 20000\n",
    "index = 0\n",
    "\n",
    "(X_train, y_train), (X_test, y_test) = imdb.load_data(num_words= vocabulary_size)\n",
    "\n",
    "print(X_train[index])\n",
    "print(\"\\nTotal Length: \", len(X_train[index]), \"\\nX train shape: \",X_train.shape, \"\\nY train shape: \", y_train.shape,\n",
    "     \"\\nX test shape: \",X_test.shape, \"\\nY test shape: \", y_test.shape)"
   ]
  },
  {
   "cell_type": "markdown",
   "id": "9ce4e4e7",
   "metadata": {},
   "source": [
    "### Word Index<a name = 3></a>\n",
    "<hr>"
   ]
  },
  {
   "cell_type": "code",
   "execution_count": 3,
   "id": "e34a4bf8",
   "metadata": {},
   "outputs": [
    {
     "name": "stdout",
     "output_type": "stream",
     "text": [
      "['the', 'as', 'you', 'with', 'out', 'themselves', 'powerful', 'lets', 'loves', 'their', 'becomes', 'reaching', 'had', 'journalist', 'of', 'lot', 'from', 'anyone', 'to', 'have', 'after', 'out', 'atmosphere', 'never', 'more', 'room', 'and', 'it', 'so', 'heart', 'shows', 'to', 'years', 'of', 'every', 'never', 'going', 'and', 'help', 'moments', 'or', 'of', 'every', 'chest', 'visual', 'movie', 'except', 'her', 'was', 'several', 'of', 'enough', 'more', 'with', 'is', 'now', 'current', 'film', 'as', 'you', 'of', 'mine', 'potentially', 'unfortunately', 'of', 'you', 'than', 'him', 'that', 'with', 'out', 'themselves', 'her', 'get', 'for', 'was', 'camp', 'of', 'you', 'movie', 'sometimes', 'movie', 'that', 'with', 'scary', 'but', 'pratfalls', 'to', 'story', 'wonderful', 'that', 'in', 'seeing', 'in', 'character', 'to', 'of', '70s', 'musicians', 'with', 'heart', 'had', 'shadows', 'they', 'of', 'here', 'that', 'with', 'her', 'serious', 'to', 'have', 'does', 'when', 'from', 'why', 'what', 'have', 'critics', 'they', 'is', 'you', 'that', \"isn't\", 'one', 'will', 'very', 'to', 'as', 'itself', 'with', 'other', 'tricky', 'in', 'of', 'seen', 'over', 'landed', 'for', 'anyone', 'of', 'and', 'br', \"show's\", 'to', 'whether', 'from', 'than', 'out', 'themselves', 'history', 'he', 'name', 'half', 'some', 'br', 'of', \"'n\", 'odd', 'was', 'two', 'most', 'of', 'mean', 'for', '1', 'any', 'an', 'boat', 'she', 'he', 'should', 'is', 'thought', 'frog', 'but', 'of', 'script', 'you', 'not', 'while', 'history', 'he', 'heart', 'to', 'real', 'at', 'barrel', 'but', 'when', 'from', 'one', 'bit', 'then', 'have', 'two', 'of', 'script', 'their', 'with', 'her', 'nobody', 'most', 'that', 'with', \"wasn't\", 'to', 'with', 'armed', 'acting', 'watch', 'an', 'for', 'with', 'heartfelt', 'film', 'want', 'an']\n",
      "\n",
      "Total Length:  218\n",
      "Max length of review in the data:  2697\n",
      "Min length of review in the data:  70\n",
      "\n",
      "Statical Information \n",
      "Mean:  238.71364 \n",
      "Median:  178.0 \n",
      "Standard Deviaation:  176.49367364852034\n"
     ]
    },
    {
     "data": {
      "image/png": "[encoded data removed]",
      "text/plain": [
       "<Figure size 640x480 with 1 Axes>"
      ]
     },
     "metadata": {},
     "output_type": "display_data"
    }
   ],
   "source": [
    "# Taking all words from imdb.get_word_index()\n",
    "word_index = imdb.get_word_index()\n",
    "\n",
    "# Converting the index as key and words as value in a dictonary\n",
    "word_index = { key: word for word, key in word_index.items()}\n",
    "\n",
    "print([word_index[key] for key in X_train[index]])\n",
    "print(\"\\nTotal Length: \", len([word_index[key] for key in X_train[index]]))\n",
    "\n",
    "# Checking min and max length by reviews from dataset\n",
    "print(\"Max length of review in the data: \", len(max((X_train + X_test), key=len)))\n",
    "print(\"Min length of review in the data: \", len(min((X_train + X_test), key=len)))\n",
    "\n",
    "\n",
    "# Statical Information\n",
    "paragraph_length_of_all_data = []\n",
    "for idx, data in enumerate(X_train):\n",
    "    paragraph_length_of_all_data.append(len(X_train[idx]))\n",
    "    \n",
    "mean = np.mean(paragraph_length_of_all_data)\n",
    "median = np.median(paragraph_length_of_all_data)\n",
    "standard_deviation = np.std(paragraph_length_of_all_data)\n",
    "print(\"\\nStatical Information\", \"\\nMean: \", mean, \"\\nMedian: \", median, \"\\nStandard Deviaation: \", standard_deviation)\n",
    "\n",
    "# Plotting sequence lengths in the data\n",
    "plt.hist([len(sequence) for sequence in (X_train + X_test)], bins=80)\n",
    "plt.title(\"Sequence Lengths\")\n",
    "plt.show()"
   ]
  },
  {
   "cell_type": "markdown",
   "id": "2dce6b49",
   "metadata": {},
   "source": [
    "### Preprocessing <a name = 4></a>\n",
    "<hr>"
   ]
  },
  {
   "cell_type": "code",
   "execution_count": 4,
   "id": "c580077c",
   "metadata": {},
   "outputs": [],
   "source": [
    "# Assining fix length to all reviews\n",
    "maximin_words = 700\n",
    "\n",
    "X_train = sequence.pad_sequences(X_train, maxlen= maximin_words)\n",
    "X_test = sequence.pad_sequences(X_test, maxlen= maximin_words)\n",
    "\n",
    "# Splitting X train and y train into X, y train and validate\n",
    "X_train_val, X_validation, y_train_val, y_validation = train_test_split(X_train, \n",
    "                                                                y_train, \n",
    "                                                                random_state= 123, \n",
    "                                                                test_size= 0.20, \n",
    "                                                                shuffle= True)"
   ]
  },
  {
   "cell_type": "markdown",
   "id": "183361e4",
   "metadata": {},
   "source": [
    "### Creating Rnn Model <a name = 5 ></a>\n",
    "<hr>"
   ]
  },
  {
   "cell_type": "code",
   "execution_count": 7,
   "id": "750b27d8",
   "metadata": {},
   "outputs": [
    {
     "name": "stdout",
     "output_type": "stream",
     "text": [
      "Model: \"Simple_RNN\"\n",
      "_________________________________________________________________\n",
      " Layer (type)                Output Shape              Param #   \n",
      "=================================================================\n",
      " embedding_2 (Embedding)     (None, 700, 32)           640000    \n",
      "                                                                 \n",
      " simple_rnn_1 (SimpleRNN)    (None, 128)               20608     \n",
      "                                                                 \n",
      " dense_1 (Dense)             (None, 1)                 129       \n",
      "                                                                 \n",
      "=================================================================\n",
      "Total params: 660,737\n",
      "Trainable params: 660,737\n",
      "Non-trainable params: 0\n",
      "_________________________________________________________________\n",
      "None\n"
     ]
    }
   ],
   "source": [
    "# Assigning fix every word's embedding size\n",
    "embedding_length = 32 \n",
    "\n",
    "# rnn model\n",
    "RNN_model = Sequential(name = \"Simple_RNN\")\n",
    "RNN_model.add(Embedding(vocabulary_size, \n",
    "                       embedding_length,\n",
    "                       input_length= maximin_words))\n",
    "\n",
    "RNN_model.add(SimpleRNN(128, activation= \"tanh\"))\n",
    "RNN_model.add(Dense(1, activation= \"sigmoid\"))\n",
    "\n",
    "print(RNN_model.summary())"
   ]
  },
  {
   "cell_type": "markdown",
   "id": "97cb3cf5",
   "metadata": {},
   "source": [
    "### Compile the Model<a name = 6></a>\n",
    "<hr>"
   ]
  },
  {
   "cell_type": "code",
   "execution_count": 8,
   "id": "cf2df616",
   "metadata": {},
   "outputs": [],
   "source": [
    "RNN_model.compile(loss= \"binary_crossentropy\",\n",
    "                 optimizer= \"adam\",\n",
    "                 metrics= [\"accuracy\"])"
   ]
  },
  {
   "cell_type": "markdown",
   "id": "b2f85912",
   "metadata": {},
   "source": [
    "### Training the Model<a name = 7></a>\n",
    "<hr>"
   ]
  },
  {
   "cell_type": "code",
   "execution_count": 9,
   "id": "e1abafe0",
   "metadata": {},
   "outputs": [
    {
     "name": "stdout",
     "output_type": "stream",
     "text": [
      "Epoch 1/5\n",
      "313/313 [==============================] - 115s 362ms/step - loss: 0.6889 - accuracy: 0.5572 - val_loss: 0.6336 - val_accuracy: 0.6352\n",
      "Epoch 2/5\n",
      "313/313 [==============================] - 120s 384ms/step - loss: 0.5823 - accuracy: 0.6958 - val_loss: 0.5488 - val_accuracy: 0.7192\n",
      "Epoch 3/5\n",
      "313/313 [==============================] - 117s 374ms/step - loss: 0.5407 - accuracy: 0.7320 - val_loss: 0.5840 - val_accuracy: 0.6856\n",
      "Epoch 4/5\n",
      "313/313 [==============================] - 114s 363ms/step - loss: 0.4078 - accuracy: 0.8172 - val_loss: 0.5512 - val_accuracy: 0.7422\n",
      "Epoch 5/5\n",
      "313/313 [==============================] - 118s 377ms/step - loss: 0.3294 - accuracy: 0.8593 - val_loss: 0.5231 - val_accuracy: 0.7840\n"
     ]
    }
   ],
   "source": [
    "history = RNN_model.fit(X_train_val, y_train_val,\n",
    "                       batch_size= 64,\n",
    "                       epochs= 5,\n",
    "                       verbose= 1,\n",
    "                       validation_data= (X_validation, y_validation))"
   ]
  },
  {
   "cell_type": "code",
   "execution_count": 11,
   "id": "c3cec0d6",
   "metadata": {},
   "outputs": [
    {
     "name": "stdout",
     "output_type": "stream",
     "text": [
      "\n",
      "782/782 - 51s - loss: 0.5388 - accuracy: 0.7731 - 51s/epoch - 65ms/step\n",
      "Score [0.5388179421424866, 0.7730799913406372]\n"
     ]
    }
   ],
   "source": [
    "# Printing model score on test data\n",
    "print()\n",
    "print(\"Score\", RNN_model.evaluate(X_test, y_test, verbose=2))"
   ]
  }
 ],
 "metadata": {
  "kernelspec": {
   "display_name": "Python 3 (ipykernel)",
   "language": "python",
   "name": "python3"
  },
  "language_info": {
   "codemirror_mode": {
    "name": "ipython",
    "version": 3
   },
   "file_extension": ".py",
   "mimetype": "text/x-python",
   "name": "python",
   "nbconvert_exporter": "python",
   "pygments_lexer": "ipython3",
   "version": "3.11.1"
  }
 },
 "nbformat": 4,
 "nbformat_minor": 5
}
